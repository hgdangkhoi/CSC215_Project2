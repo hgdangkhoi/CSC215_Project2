{
 "cells": [
  {
   "cell_type": "markdown",
   "metadata": {},
   "source": [
    "## CSC 215 - Project 2\n",
    "### Khoi Hoang\n",
    "### William Dobson"
   ]
  },
  {
   "cell_type": "code",
   "execution_count": 1,
   "metadata": {},
   "outputs": [],
   "source": [
    "import os\n",
    "import csv\n",
    "import json\n",
    "import numpy as np\n",
    "import pandas as pd\n",
    "from scipy.stats import zscore\n",
    "from sklearn import preprocessing\n",
    "from sklearn.model_selection import train_test_split\n",
    "from sklearn import metrics\n",
    "from matplotlib.pyplot import figure, show\n",
    "import matplotlib.pyplot as plt\n",
    "%matplotlib inline\n",
    "import collections"
   ]
  },
  {
   "cell_type": "code",
   "execution_count": 2,
   "metadata": {},
   "outputs": [],
   "source": [
    "# Encode text values to dummy variables(i.e. [1,0,0],[0,1,0],[0,0,1] for red,green,blue)\n",
    "def encode_text_dummy(df, name):\n",
    "    dummies = pd.get_dummies(df[name])\n",
    "    for x in dummies.columns:\n",
    "        dummy_name = \"{}-{}\".format(name, x)\n",
    "        df[dummy_name] = dummies[x]\n",
    "    df.drop(name, axis=1, inplace=True)\n",
    "\n",
    "# Encode text values to indexes(i.e. [1],[2],[3] for red,green,blue).\n",
    "def encode_text_index(df, name):\n",
    "    le = preprocessing.LabelEncoder()\n",
    "    df[name] = le.fit_transform(df[name])\n",
    "    return le.classes_\n",
    "\n",
    "# Encode a numeric column as zscores\n",
    "def encode_numeric_zscore(df, name, mean=None, sd=None):\n",
    "    if mean is None:\n",
    "        mean = df[name].mean()\n",
    "\n",
    "    if sd is None:\n",
    "        sd = df[name].std()\n",
    "\n",
    "    df[name] = (df[name] - mean) / sd\n",
    "    \n",
    "# Convert all missing values in the specified column to the median\n",
    "def missing_median(df, name):\n",
    "    med = df[name].median()\n",
    "    df[name] = df[name].fillna(med)    \n",
    "\n",
    "# Regression chart.\n",
    "def chart_regression(pred,y,sort=True):\n",
    "    t = pd.DataFrame({'pred' : pred, 'y' : y.flatten()})\n",
    "    if sort:\n",
    "        t.sort_values(by=['y'],inplace=True)\n",
    "    a = plt.plot(t['y'].tolist(),label='expected')\n",
    "    b = plt.plot(t['pred'].tolist(),label='prediction')\n",
    "    plt.ylabel('output')\n",
    "    plt.legend()\n",
    "    plt.show()    \n",
    "    \n",
    "# Convert a Pandas dataframe to the x,y inputs that TensorFlow needs\n",
    "def to_xy(df, target):\n",
    "    result = []\n",
    "    for x in df.columns:\n",
    "        if x != target:\n",
    "            result.append(x)\n",
    "    # find out the type of the target column. \n",
    "    target_type = df[target].dtypes\n",
    "    target_type = target_type[0] if isinstance(target_type, collections.Sequence) else target_type\n",
    "    # Encode to int for classification, float otherwise. TensorFlow likes 32 bits.\n",
    "    if target_type in (np.int64, np.int32):\n",
    "        # Classification\n",
    "        dummies = pd.get_dummies(df[target])\n",
    "        return df[result].values.astype(np.float32), dummies.values.astype(np.float32)\n",
    "    else:\n",
    "        # Regression\n",
    "        return df[result].values.astype(np.float32), df[target].values.astype(np.float32)\n"
   ]
  },
  {
   "cell_type": "markdown",
   "metadata": {},
   "source": [
    "### Convert JSON data into tabular format for Pandas"
   ]
  },
  {
   "cell_type": "code",
   "execution_count": 3,
   "metadata": {},
   "outputs": [],
   "source": [
    "#reviews.json\n",
    "outfile = open(\"review_stars.tsv\", 'w')\n",
    "sfile = csv.writer(outfile, delimiter =\"\\t\", quoting=csv.QUOTE_MINIMAL)\n",
    "sfile.writerow(['business_id','stars', 'text'])\n",
    "with open('review.json', encoding=\"utf8\") as f:\n",
    "    for line in f:\n",
    "        row = json.loads(line)\n",
    "        # some special char must be encoded in 'utf-8'\n",
    "        sfile.writerow([row['business_id'], row['stars'], (row['text']).encode('utf-8')])\n",
    "\n",
    "outfile.close()"
   ]
  },
  {
   "cell_type": "code",
   "execution_count": 4,
   "metadata": {},
   "outputs": [],
   "source": [
    "#business.json\n",
    "outfile = open(\"business.tsv\", 'w')\n",
    "sfile = csv.writer(outfile, delimiter =\"\\t\", quoting=csv.QUOTE_MINIMAL)\n",
    "sfile.writerow(['business_id','stars', 'review_count', 'categories'])\n",
    "with open('business.json', encoding=\"utf8\") as f:\n",
    "    for line in f:\n",
    "        row = json.loads(line)\n",
    "        # some special char must be encoded in 'utf-8'\n",
    "        sfile.writerow([row['business_id'], row['stars'], row['review_count'], row['categories']])\n",
    "\n",
    "outfile.close()"
   ]
  },
  {
   "cell_type": "code",
   "execution_count": 5,
   "metadata": {},
   "outputs": [],
   "source": [
    "#tip.json\n",
    "outfile = open(\"tip.tsv\", 'w')\n",
    "sfile = csv.writer(outfile, delimiter =\"\\t\", quoting=csv.QUOTE_MINIMAL)\n",
    "sfile.writerow(['business_id','text'])\n",
    "with open('tip.json', encoding=\"utf8\") as f:\n",
    "    for line in f:\n",
    "        row = json.loads(line)\n",
    "        # some special char must be encoded in 'utf-8'\n",
    "        sfile.writerow([row['business_id'], (row['text']).encode('utf-8')])\n",
    "\n",
    "outfile.close()"
   ]
  },
  {
   "cell_type": "code",
   "execution_count": 3,
   "metadata": {},
   "outputs": [
    {
     "data": {
      "text/html": [
       "<div>\n",
       "<style scoped>\n",
       "    .dataframe tbody tr th:only-of-type {\n",
       "        vertical-align: middle;\n",
       "    }\n",
       "\n",
       "    .dataframe tbody tr th {\n",
       "        vertical-align: top;\n",
       "    }\n",
       "\n",
       "    .dataframe thead th {\n",
       "        text-align: right;\n",
       "    }\n",
       "</style>\n",
       "<table border=\"1\" class=\"dataframe\">\n",
       "  <thead>\n",
       "    <tr style=\"text-align: right;\">\n",
       "      <th></th>\n",
       "      <th>business_id</th>\n",
       "      <th>text</th>\n",
       "    </tr>\n",
       "  </thead>\n",
       "  <tbody>\n",
       "    <tr>\n",
       "      <th>0</th>\n",
       "      <td>VaKXUpmWTTWDKbpJ3aQdMw</td>\n",
       "      <td>b'Great for watching games, ufc, and whatever ...</td>\n",
       "    </tr>\n",
       "    <tr>\n",
       "      <th>1</th>\n",
       "      <td>OPiPeoJiv92rENwbq76orA</td>\n",
       "      <td>b'Happy Hour 2-4 daily with 1/2 price drinks a...</td>\n",
       "    </tr>\n",
       "    <tr>\n",
       "      <th>2</th>\n",
       "      <td>5KheTjYPu1HcQzQFtm4_vw</td>\n",
       "      <td>b'Good chips and salsa. Loud at times. Good se...</td>\n",
       "    </tr>\n",
       "    <tr>\n",
       "      <th>3</th>\n",
       "      <td>TkoyGi8J7YFjA6SbaRzrxg</td>\n",
       "      <td>b'The setting and decoration here is amazing. ...</td>\n",
       "    </tr>\n",
       "    <tr>\n",
       "      <th>4</th>\n",
       "      <td>AkL6Ous6A1atZejfZXn1Bg</td>\n",
       "      <td>b'Molly is definately taking a picture with Sa...</td>\n",
       "    </tr>\n",
       "  </tbody>\n",
       "</table>\n",
       "</div>"
      ],
      "text/plain": [
       "              business_id                                               text\n",
       "0  VaKXUpmWTTWDKbpJ3aQdMw  b'Great for watching games, ufc, and whatever ...\n",
       "1  OPiPeoJiv92rENwbq76orA  b'Happy Hour 2-4 daily with 1/2 price drinks a...\n",
       "2  5KheTjYPu1HcQzQFtm4_vw  b'Good chips and salsa. Loud at times. Good se...\n",
       "3  TkoyGi8J7YFjA6SbaRzrxg  b'The setting and decoration here is amazing. ...\n",
       "4  AkL6Ous6A1atZejfZXn1Bg  b'Molly is definately taking a picture with Sa..."
      ]
     },
     "execution_count": 3,
     "metadata": {},
     "output_type": "execute_result"
    }
   ],
   "source": [
    "df_review= pd.read_csv('review_stars.tsv', delimiter =\"\\t\", encoding=\"utf-8\")\n",
    "df_business= pd.read_csv('business.tsv', delimiter =\"\\t\", encoding=\"utf-8\")\n",
    "df_tip= pd.read_csv('tip.tsv', delimiter =\"\\t\", encoding=\"utf-8\")\n",
    "df_tip[0:5]"
   ]
  },
  {
   "cell_type": "code",
   "execution_count": 4,
   "metadata": {},
   "outputs": [
    {
     "data": {
      "text/html": [
       "<div>\n",
       "<style scoped>\n",
       "    .dataframe tbody tr th:only-of-type {\n",
       "        vertical-align: middle;\n",
       "    }\n",
       "\n",
       "    .dataframe tbody tr th {\n",
       "        vertical-align: top;\n",
       "    }\n",
       "\n",
       "    .dataframe thead th {\n",
       "        text-align: right;\n",
       "    }\n",
       "</style>\n",
       "<table border=\"1\" class=\"dataframe\">\n",
       "  <thead>\n",
       "    <tr style=\"text-align: right;\">\n",
       "      <th></th>\n",
       "      <th>business_id</th>\n",
       "      <th>stars</th>\n",
       "      <th>text</th>\n",
       "    </tr>\n",
       "  </thead>\n",
       "  <tbody>\n",
       "    <tr>\n",
       "      <th>0</th>\n",
       "      <td>ujmEBvifdJM6h6RLv4wQIg</td>\n",
       "      <td>1.0</td>\n",
       "      <td>b'Total bill for this horrible service? Over $...</td>\n",
       "    </tr>\n",
       "    <tr>\n",
       "      <th>1</th>\n",
       "      <td>NZnhc2sEQy3RmzKTZnqtwQ</td>\n",
       "      <td>5.0</td>\n",
       "      <td>b\"I *adore* Travis at the Hard Rock's new Kell...</td>\n",
       "    </tr>\n",
       "    <tr>\n",
       "      <th>2</th>\n",
       "      <td>WTqjgwHlXbSFevF32_DJVw</td>\n",
       "      <td>5.0</td>\n",
       "      <td>b\"I have to say that this office really has it...</td>\n",
       "    </tr>\n",
       "    <tr>\n",
       "      <th>3</th>\n",
       "      <td>ikCg8xy5JIg_NGPx-MSIDA</td>\n",
       "      <td>5.0</td>\n",
       "      <td>b\"Went in for a lunch. Steak sandwich was deli...</td>\n",
       "    </tr>\n",
       "    <tr>\n",
       "      <th>4</th>\n",
       "      <td>b1b1eb3uo-w561D0ZfCEiQ</td>\n",
       "      <td>1.0</td>\n",
       "      <td>b'Today was my second out of three sessions I ...</td>\n",
       "    </tr>\n",
       "  </tbody>\n",
       "</table>\n",
       "</div>"
      ],
      "text/plain": [
       "              business_id  stars  \\\n",
       "0  ujmEBvifdJM6h6RLv4wQIg    1.0   \n",
       "1  NZnhc2sEQy3RmzKTZnqtwQ    5.0   \n",
       "2  WTqjgwHlXbSFevF32_DJVw    5.0   \n",
       "3  ikCg8xy5JIg_NGPx-MSIDA    5.0   \n",
       "4  b1b1eb3uo-w561D0ZfCEiQ    1.0   \n",
       "\n",
       "                                                text  \n",
       "0  b'Total bill for this horrible service? Over $...  \n",
       "1  b\"I *adore* Travis at the Hard Rock's new Kell...  \n",
       "2  b\"I have to say that this office really has it...  \n",
       "3  b\"Went in for a lunch. Steak sandwich was deli...  \n",
       "4  b'Today was my second out of three sessions I ...  "
      ]
     },
     "execution_count": 4,
     "metadata": {},
     "output_type": "execute_result"
    }
   ],
   "source": [
    "df_review.head()"
   ]
  },
  {
   "cell_type": "code",
   "execution_count": 5,
   "metadata": {},
   "outputs": [
    {
     "data": {
      "text/plain": [
       "(6678404, 3)"
      ]
     },
     "execution_count": 5,
     "metadata": {},
     "output_type": "execute_result"
    }
   ],
   "source": [
    "df_review = df_review[df_review['text'].str.len() >= 50]\n",
    "df_review.shape"
   ]
  },
  {
   "cell_type": "code",
   "execution_count": 6,
   "metadata": {},
   "outputs": [
    {
     "data": {
      "text/plain": [
       "(1094522, 2)"
      ]
     },
     "execution_count": 6,
     "metadata": {},
     "output_type": "execute_result"
    }
   ],
   "source": [
    "df_tip = df_tip[df_tip['text'].str.len() >= 20]\n",
    "df_tip.shape"
   ]
  },
  {
   "cell_type": "code",
   "execution_count": 7,
   "metadata": {},
   "outputs": [],
   "source": [
    "#group all reviews by each business and create a new dataframe, where each line is a business with all its reviews\n",
    "df_review_agg = df_review.groupby('business_id')['text'].sum()\n",
    "\n",
    "df_all_reviews = pd.DataFrame({'business_id': df_review_agg.index, 'all_reviews': df_review_agg.values})"
   ]
  },
  {
   "cell_type": "code",
   "execution_count": 8,
   "metadata": {},
   "outputs": [],
   "source": [
    "#group all tip by each business and create a new dataframe, where each line is a business with all its tips\n",
    "df_tip_agg = df_tip.groupby('business_id')['text'].sum()\n",
    "\n",
    "df_all_tips = pd.DataFrame({'business_id': df_tip_agg.index, 'all_tips': df_tip_agg.values})"
   ]
  },
  {
   "cell_type": "code",
   "execution_count": 9,
   "metadata": {},
   "outputs": [
    {
     "data": {
      "text/html": [
       "<div>\n",
       "<style scoped>\n",
       "    .dataframe tbody tr th:only-of-type {\n",
       "        vertical-align: middle;\n",
       "    }\n",
       "\n",
       "    .dataframe tbody tr th {\n",
       "        vertical-align: top;\n",
       "    }\n",
       "\n",
       "    .dataframe thead th {\n",
       "        text-align: right;\n",
       "    }\n",
       "</style>\n",
       "<table border=\"1\" class=\"dataframe\">\n",
       "  <thead>\n",
       "    <tr style=\"text-align: right;\">\n",
       "      <th></th>\n",
       "      <th>business_id</th>\n",
       "      <th>all_tips</th>\n",
       "    </tr>\n",
       "  </thead>\n",
       "  <tbody>\n",
       "    <tr>\n",
       "      <th>0</th>\n",
       "      <td>--1UhMGODdWsrMastO9DZw</td>\n",
       "      <td>b\"Delicious! One of the best burritos, salsa a...</td>\n",
       "    </tr>\n",
       "    <tr>\n",
       "      <th>1</th>\n",
       "      <td>--6MefnULPED_I942VcFNA</td>\n",
       "      <td>b'BBQ pork is sold out early on Saturday'b'The...</td>\n",
       "    </tr>\n",
       "    <tr>\n",
       "      <th>2</th>\n",
       "      <td>--7zmmkVg-IMGaXbuVd0SQ</td>\n",
       "      <td>b\"Good place to stop when traffic don't go.\"b'...</td>\n",
       "    </tr>\n",
       "    <tr>\n",
       "      <th>3</th>\n",
       "      <td>--9QQLMTbFzLJ_oT-ON3Xw</td>\n",
       "      <td>b\"Tip? Don't get your hair cut here. If they'r...</td>\n",
       "    </tr>\n",
       "    <tr>\n",
       "      <th>4</th>\n",
       "      <td>--9e1ONYQuAa-CB_Rrw7Tw</td>\n",
       "      <td>b'Wine pairings for my prix fixe meal.  Mmmm'b...</td>\n",
       "    </tr>\n",
       "  </tbody>\n",
       "</table>\n",
       "</div>"
      ],
      "text/plain": [
       "              business_id                                           all_tips\n",
       "0  --1UhMGODdWsrMastO9DZw  b\"Delicious! One of the best burritos, salsa a...\n",
       "1  --6MefnULPED_I942VcFNA  b'BBQ pork is sold out early on Saturday'b'The...\n",
       "2  --7zmmkVg-IMGaXbuVd0SQ  b\"Good place to stop when traffic don't go.\"b'...\n",
       "3  --9QQLMTbFzLJ_oT-ON3Xw  b\"Tip? Don't get your hair cut here. If they'r...\n",
       "4  --9e1ONYQuAa-CB_Rrw7Tw  b'Wine pairings for my prix fixe meal.  Mmmm'b..."
      ]
     },
     "execution_count": 9,
     "metadata": {},
     "output_type": "execute_result"
    }
   ],
   "source": [
    "df_all_tips.head()"
   ]
  },
  {
   "cell_type": "markdown",
   "metadata": {},
   "source": [
    "#### Only consider businesses which have more than 20 reviews"
   ]
  },
  {
   "cell_type": "code",
   "execution_count": 10,
   "metadata": {},
   "outputs": [
    {
     "data": {
      "text/plain": [
       "(57644, 4)"
      ]
     },
     "execution_count": 10,
     "metadata": {},
     "output_type": "execute_result"
    }
   ],
   "source": [
    "df_business = df_business[df_business['review_count'] >= 20]\n",
    "df_business.shape"
   ]
  },
  {
   "cell_type": "code",
   "execution_count": 11,
   "metadata": {},
   "outputs": [
    {
     "data": {
      "text/plain": [
       "(54657, 6)"
      ]
     },
     "execution_count": 11,
     "metadata": {},
     "output_type": "execute_result"
    }
   ],
   "source": [
    "#merge df_business, df_all_reviews, and df_all_tips by business_id\n",
    "df_ready_for_sklearn = pd.merge(pd.merge(df_all_reviews, df_business, on='business_id', how='inner'), df_all_tips, on='business_id', how='inner')\n",
    "df_ready_for_sklearn.shape"
   ]
  },
  {
   "cell_type": "code",
   "execution_count": 12,
   "metadata": {},
   "outputs": [
    {
     "data": {
      "text/html": [
       "<div>\n",
       "<style scoped>\n",
       "    .dataframe tbody tr th:only-of-type {\n",
       "        vertical-align: middle;\n",
       "    }\n",
       "\n",
       "    .dataframe tbody tr th {\n",
       "        vertical-align: top;\n",
       "    }\n",
       "\n",
       "    .dataframe thead th {\n",
       "        text-align: right;\n",
       "    }\n",
       "</style>\n",
       "<table border=\"1\" class=\"dataframe\">\n",
       "  <thead>\n",
       "    <tr style=\"text-align: right;\">\n",
       "      <th></th>\n",
       "      <th>business_id</th>\n",
       "      <th>all_reviews</th>\n",
       "      <th>stars</th>\n",
       "      <th>review_count</th>\n",
       "      <th>categories</th>\n",
       "      <th>all_tips</th>\n",
       "      <th>review_count_zscore</th>\n",
       "    </tr>\n",
       "  </thead>\n",
       "  <tbody>\n",
       "    <tr>\n",
       "      <th>0</th>\n",
       "      <td>--1UhMGODdWsrMastO9DZw</td>\n",
       "      <td>b'If you are looking for authentic Mexican str...</td>\n",
       "      <td>4.0</td>\n",
       "      <td>24</td>\n",
       "      <td>Restaurants, Mexican</td>\n",
       "      <td>b\"Delicious! One of the best burritos, salsa a...</td>\n",
       "      <td>-0.390434</td>\n",
       "    </tr>\n",
       "    <tr>\n",
       "      <th>1</th>\n",
       "      <td>--6MefnULPED_I942VcFNA</td>\n",
       "      <td>b\"They have the best Chinese BBQ Pork (Char Si...</td>\n",
       "      <td>3.0</td>\n",
       "      <td>44</td>\n",
       "      <td>Chinese, Restaurants</td>\n",
       "      <td>b'BBQ pork is sold out early on Saturday'b'The...</td>\n",
       "      <td>-0.286046</td>\n",
       "    </tr>\n",
       "    <tr>\n",
       "      <th>2</th>\n",
       "      <td>--7zmmkVg-IMGaXbuVd0SQ</td>\n",
       "      <td>b\"I'm a tad reluctant to write a review as I r...</td>\n",
       "      <td>4.0</td>\n",
       "      <td>58</td>\n",
       "      <td>Breweries, Food</td>\n",
       "      <td>b\"Good place to stop when traffic don't go.\"b'...</td>\n",
       "      <td>-0.212974</td>\n",
       "    </tr>\n",
       "    <tr>\n",
       "      <th>3</th>\n",
       "      <td>--9e1ONYQuAa-CB_Rrw7Tw</td>\n",
       "      <td>b'Very busy and noisy restaurant.\\nAsparagas w...</td>\n",
       "      <td>4.0</td>\n",
       "      <td>1613</td>\n",
       "      <td>Cajun/Creole, Seafood, Steakhouses, Restaurants</td>\n",
       "      <td>b'Wine pairings for my prix fixe meal.  Mmmm'b...</td>\n",
       "      <td>7.903234</td>\n",
       "    </tr>\n",
       "    <tr>\n",
       "      <th>4</th>\n",
       "      <td>--DaPTJW3-tB1vP-PfdTEg</td>\n",
       "      <td>b'My sister and in laws were in town and we wa...</td>\n",
       "      <td>3.5</td>\n",
       "      <td>49</td>\n",
       "      <td>Restaurants, Breakfast &amp; Brunch</td>\n",
       "      <td>b'Awesome. Huge portions  definitely worth a v...</td>\n",
       "      <td>-0.259948</td>\n",
       "    </tr>\n",
       "  </tbody>\n",
       "</table>\n",
       "</div>"
      ],
      "text/plain": [
       "              business_id                                        all_reviews  \\\n",
       "0  --1UhMGODdWsrMastO9DZw  b'If you are looking for authentic Mexican str...   \n",
       "1  --6MefnULPED_I942VcFNA  b\"They have the best Chinese BBQ Pork (Char Si...   \n",
       "2  --7zmmkVg-IMGaXbuVd0SQ  b\"I'm a tad reluctant to write a review as I r...   \n",
       "3  --9e1ONYQuAa-CB_Rrw7Tw  b'Very busy and noisy restaurant.\\nAsparagas w...   \n",
       "4  --DaPTJW3-tB1vP-PfdTEg  b'My sister and in laws were in town and we wa...   \n",
       "\n",
       "   stars  review_count                                       categories  \\\n",
       "0    4.0            24                             Restaurants, Mexican   \n",
       "1    3.0            44                             Chinese, Restaurants   \n",
       "2    4.0            58                                  Breweries, Food   \n",
       "3    4.0          1613  Cajun/Creole, Seafood, Steakhouses, Restaurants   \n",
       "4    3.5            49                  Restaurants, Breakfast & Brunch   \n",
       "\n",
       "                                            all_tips  review_count_zscore  \n",
       "0  b\"Delicious! One of the best burritos, salsa a...            -0.390434  \n",
       "1  b'BBQ pork is sold out early on Saturday'b'The...            -0.286046  \n",
       "2  b\"Good place to stop when traffic don't go.\"b'...            -0.212974  \n",
       "3  b'Wine pairings for my prix fixe meal.  Mmmm'b...             7.903234  \n",
       "4  b'Awesome. Huge portions  definitely worth a v...            -0.259948  "
      ]
     },
     "execution_count": 12,
     "metadata": {},
     "output_type": "execute_result"
    }
   ],
   "source": [
    "df_ready_for_sklearn['review_count_zscore'] = zscore(df_ready_for_sklearn['review_count'])\n",
    "df_ready_for_sklearn[0:5]"
   ]
  },
  {
   "cell_type": "code",
   "execution_count": 13,
   "metadata": {},
   "outputs": [],
   "source": [
    "#label encode the stars\n",
    "le = preprocessing.LabelEncoder()\n",
    "df_ready_for_sklearn['encoded_stars'] = le.fit_transform(df_ready_for_sklearn['stars'])"
   ]
  },
  {
   "cell_type": "code",
   "execution_count": 14,
   "metadata": {},
   "outputs": [
    {
     "name": "stdout",
     "output_type": "stream",
     "text": [
      "(54657, 8)\n"
     ]
    },
    {
     "data": {
      "text/html": [
       "<div>\n",
       "<style scoped>\n",
       "    .dataframe tbody tr th:only-of-type {\n",
       "        vertical-align: middle;\n",
       "    }\n",
       "\n",
       "    .dataframe tbody tr th {\n",
       "        vertical-align: top;\n",
       "    }\n",
       "\n",
       "    .dataframe thead th {\n",
       "        text-align: right;\n",
       "    }\n",
       "</style>\n",
       "<table border=\"1\" class=\"dataframe\">\n",
       "  <thead>\n",
       "    <tr style=\"text-align: right;\">\n",
       "      <th></th>\n",
       "      <th>business_id</th>\n",
       "      <th>all_reviews</th>\n",
       "      <th>stars</th>\n",
       "      <th>review_count</th>\n",
       "      <th>categories</th>\n",
       "      <th>all_tips</th>\n",
       "      <th>review_count_zscore</th>\n",
       "      <th>encoded_stars</th>\n",
       "    </tr>\n",
       "  </thead>\n",
       "  <tbody>\n",
       "    <tr>\n",
       "      <th>0</th>\n",
       "      <td>--1UhMGODdWsrMastO9DZw</td>\n",
       "      <td>b'If you are looking for authentic Mexican str...</td>\n",
       "      <td>4.0</td>\n",
       "      <td>24</td>\n",
       "      <td>Restaurants, Mexican</td>\n",
       "      <td>b\"Delicious! One of the best burritos, salsa a...</td>\n",
       "      <td>-0.390434</td>\n",
       "      <td>6</td>\n",
       "    </tr>\n",
       "    <tr>\n",
       "      <th>1</th>\n",
       "      <td>--6MefnULPED_I942VcFNA</td>\n",
       "      <td>b\"They have the best Chinese BBQ Pork (Char Si...</td>\n",
       "      <td>3.0</td>\n",
       "      <td>44</td>\n",
       "      <td>Chinese, Restaurants</td>\n",
       "      <td>b'BBQ pork is sold out early on Saturday'b'The...</td>\n",
       "      <td>-0.286046</td>\n",
       "      <td>4</td>\n",
       "    </tr>\n",
       "    <tr>\n",
       "      <th>2</th>\n",
       "      <td>--7zmmkVg-IMGaXbuVd0SQ</td>\n",
       "      <td>b\"I'm a tad reluctant to write a review as I r...</td>\n",
       "      <td>4.0</td>\n",
       "      <td>58</td>\n",
       "      <td>Breweries, Food</td>\n",
       "      <td>b\"Good place to stop when traffic don't go.\"b'...</td>\n",
       "      <td>-0.212974</td>\n",
       "      <td>6</td>\n",
       "    </tr>\n",
       "    <tr>\n",
       "      <th>3</th>\n",
       "      <td>--9e1ONYQuAa-CB_Rrw7Tw</td>\n",
       "      <td>b'Very busy and noisy restaurant.\\nAsparagas w...</td>\n",
       "      <td>4.0</td>\n",
       "      <td>1613</td>\n",
       "      <td>Cajun/Creole, Seafood, Steakhouses, Restaurants</td>\n",
       "      <td>b'Wine pairings for my prix fixe meal.  Mmmm'b...</td>\n",
       "      <td>7.903234</td>\n",
       "      <td>6</td>\n",
       "    </tr>\n",
       "    <tr>\n",
       "      <th>4</th>\n",
       "      <td>--DaPTJW3-tB1vP-PfdTEg</td>\n",
       "      <td>b'My sister and in laws were in town and we wa...</td>\n",
       "      <td>3.5</td>\n",
       "      <td>49</td>\n",
       "      <td>Restaurants, Breakfast &amp; Brunch</td>\n",
       "      <td>b'Awesome. Huge portions  definitely worth a v...</td>\n",
       "      <td>-0.259948</td>\n",
       "      <td>5</td>\n",
       "    </tr>\n",
       "  </tbody>\n",
       "</table>\n",
       "</div>"
      ],
      "text/plain": [
       "              business_id                                        all_reviews  \\\n",
       "0  --1UhMGODdWsrMastO9DZw  b'If you are looking for authentic Mexican str...   \n",
       "1  --6MefnULPED_I942VcFNA  b\"They have the best Chinese BBQ Pork (Char Si...   \n",
       "2  --7zmmkVg-IMGaXbuVd0SQ  b\"I'm a tad reluctant to write a review as I r...   \n",
       "3  --9e1ONYQuAa-CB_Rrw7Tw  b'Very busy and noisy restaurant.\\nAsparagas w...   \n",
       "4  --DaPTJW3-tB1vP-PfdTEg  b'My sister and in laws were in town and we wa...   \n",
       "\n",
       "   stars  review_count                                       categories  \\\n",
       "0    4.0            24                             Restaurants, Mexican   \n",
       "1    3.0            44                             Chinese, Restaurants   \n",
       "2    4.0            58                                  Breweries, Food   \n",
       "3    4.0          1613  Cajun/Creole, Seafood, Steakhouses, Restaurants   \n",
       "4    3.5            49                  Restaurants, Breakfast & Brunch   \n",
       "\n",
       "                                            all_tips  review_count_zscore  \\\n",
       "0  b\"Delicious! One of the best burritos, salsa a...            -0.390434   \n",
       "1  b'BBQ pork is sold out early on Saturday'b'The...            -0.286046   \n",
       "2  b\"Good place to stop when traffic don't go.\"b'...            -0.212974   \n",
       "3  b'Wine pairings for my prix fixe meal.  Mmmm'b...             7.903234   \n",
       "4  b'Awesome. Huge portions  definitely worth a v...            -0.259948   \n",
       "\n",
       "   encoded_stars  \n",
       "0              6  \n",
       "1              4  \n",
       "2              6  \n",
       "3              6  \n",
       "4              5  "
      ]
     },
     "execution_count": 14,
     "metadata": {},
     "output_type": "execute_result"
    }
   ],
   "source": [
    "print(df_ready_for_sklearn.shape)\n",
    "df_ready_for_sklearn[0:5]"
   ]
  },
  {
   "cell_type": "markdown",
   "metadata": {},
   "source": [
    "### Use tfidfVectorizer to obtain TFIDF representation for each business"
   ]
  },
  {
   "cell_type": "code",
   "execution_count": 18,
   "metadata": {},
   "outputs": [],
   "source": [
    "import sklearn.feature_extraction.text as sk_text\n",
    "\n",
    "#obtain tfidf score for reviews\n",
    "vectorizer = sk_text.TfidfVectorizer(max_features=250, min_df=10)\n",
    "\n",
    "reviews_matrix = vectorizer.fit_transform(df_ready_for_sklearn['all_reviews'])\n",
    "\n",
    "reviews_tfidf = reviews_matrix.toarray()"
   ]
  },
  {
   "cell_type": "code",
   "execution_count": 19,
   "metadata": {},
   "outputs": [
    {
     "name": "stdout",
     "output_type": "stream",
     "text": [
      "(54657, 250)\n"
     ]
    },
    {
     "data": {
      "text/plain": [
       "['10',\n",
       " 'about',\n",
       " 'after',\n",
       " 'again',\n",
       " 'all',\n",
       " 'also',\n",
       " 'always',\n",
       " 'am',\n",
       " 'amazing',\n",
       " 'an',\n",
       " 'and',\n",
       " 'another',\n",
       " 'any',\n",
       " 'are',\n",
       " 'area',\n",
       " 'around',\n",
       " 'as',\n",
       " 'asked',\n",
       " 'at',\n",
       " 'atmosphere',\n",
       " 'away',\n",
       " 'awesome',\n",
       " 'back',\n",
       " 'bad',\n",
       " 'bar',\n",
       " 'be',\n",
       " 'because',\n",
       " 'been',\n",
       " 'before',\n",
       " 'being',\n",
       " 'best',\n",
       " 'better',\n",
       " 'big',\n",
       " 'bit',\n",
       " 'both',\n",
       " 'burger',\n",
       " 'but',\n",
       " 'by',\n",
       " 'came',\n",
       " 'can',\n",
       " 'car',\n",
       " 'check',\n",
       " 'cheese',\n",
       " 'chicken',\n",
       " 'clean',\n",
       " 'coffee',\n",
       " 'come',\n",
       " 'could',\n",
       " 'customer',\n",
       " 'day',\n",
       " 'definitely',\n",
       " 'delicious',\n",
       " 'did',\n",
       " 'didn',\n",
       " 'different',\n",
       " 'dinner',\n",
       " 'do',\n",
       " 'don',\n",
       " 'down',\n",
       " 'drink',\n",
       " 'drinks',\n",
       " 'eat',\n",
       " 'enough',\n",
       " 'even',\n",
       " 'ever',\n",
       " 'every',\n",
       " 'everything',\n",
       " 'excellent',\n",
       " 'experience',\n",
       " 'favorite',\n",
       " 'feel',\n",
       " 'few',\n",
       " 'find',\n",
       " 'first',\n",
       " 'food',\n",
       " 'for',\n",
       " 'found',\n",
       " 'free',\n",
       " 'fresh',\n",
       " 'friendly',\n",
       " 'friends',\n",
       " 'fries',\n",
       " 'from',\n",
       " 'get',\n",
       " 'give',\n",
       " 'go',\n",
       " 'going',\n",
       " 'good',\n",
       " 'got',\n",
       " 'great',\n",
       " 'had',\n",
       " 'happy',\n",
       " 'has',\n",
       " 'have',\n",
       " 'he',\n",
       " 'her',\n",
       " 'here',\n",
       " 'his',\n",
       " 'home',\n",
       " 'hot',\n",
       " 'hour',\n",
       " 'how',\n",
       " 'if',\n",
       " 'in',\n",
       " 'into',\n",
       " 'is',\n",
       " 'it',\n",
       " 'its',\n",
       " 'just',\n",
       " 'know',\n",
       " 'last',\n",
       " 'like',\n",
       " 'little',\n",
       " 'll',\n",
       " 'location',\n",
       " 'long',\n",
       " 'looking',\n",
       " 'lot',\n",
       " 'love',\n",
       " 'lunch',\n",
       " 'made',\n",
       " 'make',\n",
       " 'many',\n",
       " 'me',\n",
       " 'meal',\n",
       " 'meat',\n",
       " 'menu',\n",
       " 'minutes',\n",
       " 'more',\n",
       " 'most',\n",
       " 'much',\n",
       " 'my',\n",
       " 'need',\n",
       " 'never',\n",
       " 'new',\n",
       " 'next',\n",
       " 'ni',\n",
       " 'nice',\n",
       " 'night',\n",
       " 'no',\n",
       " 'not',\n",
       " 'nothing',\n",
       " 'now',\n",
       " 'nthe',\n",
       " 'of',\n",
       " 'off',\n",
       " 'on',\n",
       " 'one',\n",
       " 'only',\n",
       " 'or',\n",
       " 'order',\n",
       " 'ordered',\n",
       " 'other',\n",
       " 'our',\n",
       " 'out',\n",
       " 'over',\n",
       " 'people',\n",
       " 'perfect',\n",
       " 'pizza',\n",
       " 'place',\n",
       " 'pretty',\n",
       " 'price',\n",
       " 'prices',\n",
       " 'quality',\n",
       " 're',\n",
       " 'really',\n",
       " 'recommend',\n",
       " 'restaurant',\n",
       " 'rice',\n",
       " 'right',\n",
       " 'room',\n",
       " 'said',\n",
       " 'salad',\n",
       " 'same',\n",
       " 'sauce',\n",
       " 'say',\n",
       " 'see',\n",
       " 'server',\n",
       " 'service',\n",
       " 'she',\n",
       " 'should',\n",
       " 'side',\n",
       " 'since',\n",
       " 'small',\n",
       " 'so',\n",
       " 'some',\n",
       " 'something',\n",
       " 'staff',\n",
       " 'stars',\n",
       " 'still',\n",
       " 'super',\n",
       " 'sure',\n",
       " 'sushi',\n",
       " 'sweet',\n",
       " 'table',\n",
       " 'take',\n",
       " 'taste',\n",
       " 'than',\n",
       " 'that',\n",
       " 'the',\n",
       " 'their',\n",
       " 'them',\n",
       " 'then',\n",
       " 'there',\n",
       " 'they',\n",
       " 'thing',\n",
       " 'things',\n",
       " 'think',\n",
       " 'this',\n",
       " 'though',\n",
       " 'time',\n",
       " 'times',\n",
       " 'to',\n",
       " 'told',\n",
       " 'too',\n",
       " 'took',\n",
       " 'top',\n",
       " 'tried',\n",
       " 'try',\n",
       " 'two',\n",
       " 'up',\n",
       " 'us',\n",
       " 've',\n",
       " 'vegas',\n",
       " 'very',\n",
       " 'visit',\n",
       " 'wait',\n",
       " 'want',\n",
       " 'wanted',\n",
       " 'was',\n",
       " 'wasn',\n",
       " 'way',\n",
       " 'we',\n",
       " 'well',\n",
       " 'went',\n",
       " 'were',\n",
       " 'what',\n",
       " 'when',\n",
       " 'where',\n",
       " 'which',\n",
       " 'while',\n",
       " 'who',\n",
       " 'will',\n",
       " 'with',\n",
       " 'work',\n",
       " 'worth',\n",
       " 'would',\n",
       " 'xc3',\n",
       " 'you',\n",
       " 'your']"
      ]
     },
     "execution_count": 19,
     "metadata": {},
     "output_type": "execute_result"
    }
   ],
   "source": [
    "print(reviews_tfidf.shape)\n",
    "vectorizer.get_feature_names()"
   ]
  },
  {
   "cell_type": "code",
   "execution_count": 20,
   "metadata": {},
   "outputs": [],
   "source": [
    "#obtain tfidf score for tips\n",
    "vectorizer = sk_text.TfidfVectorizer(max_features=250, min_df=10)\n",
    "\n",
    "tips_matrix = vectorizer.fit_transform(df_ready_for_sklearn['all_tips'])\n",
    "\n",
    "tips_tfidf = tips_matrix.toarray()"
   ]
  },
  {
   "cell_type": "code",
   "execution_count": 21,
   "metadata": {},
   "outputs": [
    {
     "name": "stdout",
     "output_type": "stream",
     "text": [
      "[[0.         0.         0.         ... 0.         0.         0.        ]\n",
      " [0.         0.         0.         ... 0.         0.         0.        ]\n",
      " [0.         0.         0.         ... 0.         0.         0.        ]\n",
      " [0.02237383 0.         0.01310014 ... 0.02325763 0.01319684 0.02350368]\n",
      " [0.         0.         0.         ... 0.         0.         0.        ]]\n"
     ]
    },
    {
     "data": {
      "text/plain": [
       "['10',\n",
       " '20',\n",
       " '30',\n",
       " 'about',\n",
       " 'after',\n",
       " 'again',\n",
       " 'all',\n",
       " 'also',\n",
       " 'always',\n",
       " 'am',\n",
       " 'amazing',\n",
       " 'an',\n",
       " 'and',\n",
       " 'any',\n",
       " 'are',\n",
       " 'area',\n",
       " 'around',\n",
       " 'as',\n",
       " 'ask',\n",
       " 'at',\n",
       " 'atmosphere',\n",
       " 'awesome',\n",
       " 'back',\n",
       " 'bad',\n",
       " 'bar',\n",
       " 'be',\n",
       " 'because',\n",
       " 'beef',\n",
       " 'been',\n",
       " 'beer',\n",
       " 'before',\n",
       " 'best',\n",
       " 'better',\n",
       " 'big',\n",
       " 'breakfast',\n",
       " 'bring',\n",
       " 'burger',\n",
       " 'busy',\n",
       " 'but',\n",
       " 'by',\n",
       " 'can',\n",
       " 'check',\n",
       " 'cheese',\n",
       " 'chicken',\n",
       " 'clean',\n",
       " 'closed',\n",
       " 'coffee',\n",
       " 'come',\n",
       " 'coming',\n",
       " 'cool',\n",
       " 'cream',\n",
       " 'customer',\n",
       " 'day',\n",
       " 'definitely',\n",
       " 'delicious',\n",
       " 'did',\n",
       " 'dinner',\n",
       " 'do',\n",
       " 'don',\n",
       " 'down',\n",
       " 'drink',\n",
       " 'drinks',\n",
       " 'early',\n",
       " 'eat',\n",
       " 'even',\n",
       " 'ever',\n",
       " 'every',\n",
       " 'everything',\n",
       " 'excellent',\n",
       " 'experience',\n",
       " 'family',\n",
       " 'fantastic',\n",
       " 'fast',\n",
       " 'favorite',\n",
       " 'find',\n",
       " 'first',\n",
       " 'fish',\n",
       " 'food',\n",
       " 'for',\n",
       " 'free',\n",
       " 'fresh',\n",
       " 'fried',\n",
       " 'friendly',\n",
       " 'fries',\n",
       " 'from',\n",
       " 'fun',\n",
       " 'get',\n",
       " 'getting',\n",
       " 'go',\n",
       " 'going',\n",
       " 'good',\n",
       " 'got',\n",
       " 'great',\n",
       " 'had',\n",
       " 'half',\n",
       " 'happy',\n",
       " 'has',\n",
       " 'have',\n",
       " 'he',\n",
       " 'here',\n",
       " 'highly',\n",
       " 'home',\n",
       " 'hot',\n",
       " 'hour',\n",
       " 'hours',\n",
       " 'how',\n",
       " 'ice',\n",
       " 'if',\n",
       " 'in',\n",
       " 'is',\n",
       " 'it',\n",
       " 'its',\n",
       " 'just',\n",
       " 'know',\n",
       " 'last',\n",
       " 'like',\n",
       " 'line',\n",
       " 'little',\n",
       " 'll',\n",
       " 'location',\n",
       " 'long',\n",
       " 'lot',\n",
       " 'love',\n",
       " 'loved',\n",
       " 'lunch',\n",
       " 'made',\n",
       " 'make',\n",
       " 'me',\n",
       " 'meal',\n",
       " 'menu',\n",
       " 'more',\n",
       " 'most',\n",
       " 'much',\n",
       " 'music',\n",
       " 'must',\n",
       " 'my',\n",
       " 'need',\n",
       " 'never',\n",
       " 'new',\n",
       " 'next',\n",
       " 'nice',\n",
       " 'night',\n",
       " 'no',\n",
       " 'not',\n",
       " 'now',\n",
       " 'of',\n",
       " 'off',\n",
       " 'on',\n",
       " 'one',\n",
       " 'only',\n",
       " 'open',\n",
       " 'or',\n",
       " 'order',\n",
       " 'other',\n",
       " 'our',\n",
       " 'out',\n",
       " 'over',\n",
       " 'parking',\n",
       " 'people',\n",
       " 'perfect',\n",
       " 'pizza',\n",
       " 'place',\n",
       " 'pork',\n",
       " 'pretty',\n",
       " 'price',\n",
       " 'prices',\n",
       " 'quality',\n",
       " 'quick',\n",
       " 're',\n",
       " 'really',\n",
       " 'recommend',\n",
       " 'restaurant',\n",
       " 'rice',\n",
       " 'right',\n",
       " 'room',\n",
       " 'salad',\n",
       " 'sandwich',\n",
       " 'sauce',\n",
       " 'say',\n",
       " 'see',\n",
       " 'selection',\n",
       " 'service',\n",
       " 'she',\n",
       " 'side',\n",
       " 'slow',\n",
       " 'small',\n",
       " 'so',\n",
       " 'some',\n",
       " 'soup',\n",
       " 'special',\n",
       " 'specials',\n",
       " 'spicy',\n",
       " 'spot',\n",
       " 'staff',\n",
       " 'steak',\n",
       " 'still',\n",
       " 'store',\n",
       " 'sunday',\n",
       " 'super',\n",
       " 'sure',\n",
       " 'sushi',\n",
       " 'sweet',\n",
       " 'tacos',\n",
       " 'take',\n",
       " 'tasty',\n",
       " 'tea',\n",
       " 'thai',\n",
       " 'than',\n",
       " 'that',\n",
       " 'the',\n",
       " 'their',\n",
       " 'them',\n",
       " 'then',\n",
       " 'there',\n",
       " 'they',\n",
       " 'this',\n",
       " 'time',\n",
       " 'to',\n",
       " 'today',\n",
       " 'too',\n",
       " 'town',\n",
       " 'try',\n",
       " 'two',\n",
       " 'up',\n",
       " 'us',\n",
       " 've',\n",
       " 'vegas',\n",
       " 'very',\n",
       " 'wait',\n",
       " 'want',\n",
       " 'was',\n",
       " 'way',\n",
       " 'we',\n",
       " 'well',\n",
       " 'were',\n",
       " 'what',\n",
       " 'when',\n",
       " 'will',\n",
       " 'wine',\n",
       " 'wings',\n",
       " 'with',\n",
       " 'wonderful',\n",
       " 'work',\n",
       " 'worth',\n",
       " 'would',\n",
       " 'xc3',\n",
       " 'you',\n",
       " 'your',\n",
       " 'yum',\n",
       " 'yummy']"
      ]
     },
     "execution_count": 21,
     "metadata": {},
     "output_type": "execute_result"
    }
   ],
   "source": [
    "print(tips_tfidf[0:5])\n",
    "vectorizer.get_feature_names()"
   ]
  },
  {
   "cell_type": "markdown",
   "metadata": {},
   "source": [
    "# Linear Regression"
   ]
  },
  {
   "cell_type": "markdown",
   "metadata": {},
   "source": [
    "Preparing data for training/testing"
   ]
  },
  {
   "cell_type": "code",
   "execution_count": 22,
   "metadata": {},
   "outputs": [
    {
     "data": {
      "text/plain": [
       "(54657, 501)"
      ]
     },
     "execution_count": 22,
     "metadata": {},
     "output_type": "execute_result"
    }
   ],
   "source": [
    "#Merge reviews_tfidf, tips_tfidf and review_count into one array for input\n",
    "temp = df_ready_for_sklearn['review_count_zscore'].values\n",
    "input_data = np.column_stack((reviews_tfidf, tips_tfidf))\n",
    "input_data = np.column_stack((input_data, temp))\n",
    "input_data.shape"
   ]
  },
  {
   "cell_type": "code",
   "execution_count": 23,
   "metadata": {},
   "outputs": [],
   "source": [
    "#split into train/test data\n",
    "x_train, x_test, y_train, y_test = train_test_split(input_data, df_ready_for_sklearn['stars'], test_size=0.25, random_state=43)"
   ]
  },
  {
   "cell_type": "code",
   "execution_count": 24,
   "metadata": {},
   "outputs": [
    {
     "ename": "NameError",
     "evalue": "name 'test_loc' is not defined",
     "output_type": "error",
     "traceback": [
      "\u001b[1;31m---------------------------------------------------------------------------\u001b[0m",
      "\u001b[1;31mNameError\u001b[0m                                 Traceback (most recent call last)",
      "\u001b[1;32m<ipython-input-24-002a22ae4e2a>\u001b[0m in \u001b[0;36m<module>\u001b[1;34m\u001b[0m\n\u001b[1;32m----> 1\u001b[1;33m \u001b[0mtest_data\u001b[0m \u001b[1;33m=\u001b[0m \u001b[0minput_data\u001b[0m\u001b[1;33m[\u001b[0m\u001b[0mtest_loc\u001b[0m\u001b[1;33m[\u001b[0m\u001b[1;36m0\u001b[0m\u001b[1;33m]\u001b[0m\u001b[1;33m]\u001b[0m\u001b[1;33m\u001b[0m\u001b[1;33m\u001b[0m\u001b[0m\n\u001b[0m\u001b[0;32m      2\u001b[0m \u001b[1;32mfor\u001b[0m \u001b[0mi\u001b[0m \u001b[1;32min\u001b[0m \u001b[0mrange\u001b[0m\u001b[1;33m(\u001b[0m\u001b[1;36m1\u001b[0m\u001b[1;33m,\u001b[0m \u001b[0mlen\u001b[0m\u001b[1;33m(\u001b[0m\u001b[0mtest_loc\u001b[0m\u001b[1;33m)\u001b[0m\u001b[1;33m)\u001b[0m\u001b[1;33m:\u001b[0m\u001b[1;33m\u001b[0m\u001b[1;33m\u001b[0m\u001b[0m\n\u001b[0;32m      3\u001b[0m     \u001b[0mtest_data\u001b[0m \u001b[1;33m=\u001b[0m \u001b[0mnp\u001b[0m\u001b[1;33m.\u001b[0m\u001b[0mappend\u001b[0m\u001b[1;33m(\u001b[0m\u001b[0mtest_data\u001b[0m\u001b[1;33m,\u001b[0m \u001b[0minput_data\u001b[0m\u001b[1;33m[\u001b[0m\u001b[0mtest_loc\u001b[0m\u001b[1;33m[\u001b[0m\u001b[0mi\u001b[0m\u001b[1;33m]\u001b[0m\u001b[1;33m]\u001b[0m\u001b[1;33m,\u001b[0m \u001b[0maxis\u001b[0m\u001b[1;33m=\u001b[0m\u001b[1;36m0\u001b[0m\u001b[1;33m)\u001b[0m\u001b[1;33m\u001b[0m\u001b[1;33m\u001b[0m\u001b[0m\n\u001b[0;32m      4\u001b[0m \u001b[0mtest_data\u001b[0m\u001b[1;33m.\u001b[0m\u001b[0mshape\u001b[0m\u001b[1;33m\u001b[0m\u001b[1;33m\u001b[0m\u001b[0m\n",
      "\u001b[1;31mNameError\u001b[0m: name 'test_loc' is not defined"
     ]
    }
   ],
   "source": [
    "test_data = input_data[test_loc[0]]\n",
    "for i in range(1, len(test_loc)):\n",
    "    test_data = np.append(test_data, input_data[test_loc[i]], axis=0)\n",
    "test_data.shape"
   ]
  },
  {
   "cell_type": "code",
   "execution_count": null,
   "metadata": {},
   "outputs": [],
   "source": [
    "print(x_train.shape)\n",
    "print(x_test.shape)\n",
    "print(y_train.shape)\n",
    "print(y_test.shape)"
   ]
  },
  {
   "cell_type": "code",
   "execution_count": null,
   "metadata": {},
   "outputs": [],
   "source": [
    "from sklearn.linear_model import LinearRegression\n",
    "\n",
    "# instantiate the model (using the default parameters)\n",
    "linreg = LinearRegression()\n",
    "\n",
    "# fit the model with data\n",
    "linreg.fit(x_train, y_train)\n",
    "\n",
    "# predict the response for new observations\n",
    "y_pred_Linear = linreg.predict(test_data)"
   ]
  },
  {
   "cell_type": "code",
   "execution_count": null,
   "metadata": {},
   "outputs": [],
   "source": [
    "print(\"Prediction result: \")\n",
    "print(\"Business ID                         Categories             Predicted Star Rating         True Star Rating\")\n",
    "for i in range(5):\n",
    "    print(\"{:.20}             {:.23}         {:.5}                         {}\".format(test_businesses[i]['business_id'], test_businesses[i]['categories'], y_pred_Linear[i], test_true_stars[i]))"
   ]
  },
  {
   "cell_type": "markdown",
   "metadata": {},
   "source": [
    "### Support Vector Machine"
   ]
  },
  {
   "cell_type": "code",
   "execution_count": null,
   "metadata": {},
   "outputs": [],
   "source": [
    "#split into train/test data\n",
    "#using encoded stars because classification problem\n",
    "x_train, x_test, y_train, y_test = train_test_split(input_data, df_ready_for_sklearn['encoded_stars'], test_size=0.25, random_state=43)"
   ]
  },
  {
   "cell_type": "code",
   "execution_count": null,
   "metadata": {},
   "outputs": [],
   "source": [
    "print(x_train.shape)\n",
    "print(x_test.shape)\n",
    "print(y_train.shape)\n",
    "print(y_test.shape)"
   ]
  },
  {
   "cell_type": "code",
   "execution_count": null,
   "metadata": {},
   "outputs": [],
   "source": [
    "from sklearn.svm import LinearSVC\n",
    "\n",
    "clf = LinearSVC(dual=False)\n",
    "clf.fit(x_train, y_train)\n",
    "\n",
    "y_pred_SVM = clf.predict(test_data)"
   ]
  },
  {
   "cell_type": "code",
   "execution_count": null,
   "metadata": {},
   "outputs": [],
   "source": [
    "y_pred_SVM = le.inverse_transform(y_pred_SVM)\n",
    "print(\"Prediction result: \")\n",
    "print(\"Business ID                         Categories             Predicted Star Rating         True Star Rating\")\n",
    "for i in range(5):\n",
    "    print(\"{:.20}             {:.23}         {:.5}                         {}\".format(test_businesses[i]['business_id'], test_businesses[i]['categories'], y_pred_SVM[i], test_true_stars[i]))"
   ]
  },
  {
   "cell_type": "markdown",
   "metadata": {},
   "source": [
    "### Logistic Regression"
   ]
  },
  {
   "cell_type": "code",
   "execution_count": null,
   "metadata": {},
   "outputs": [],
   "source": [
    "from sklearn.linear_model import LogisticRegression\n",
    "\n",
    "# instantiate the model (using the default parameters)\n",
    "logreg = LogisticRegression()\n",
    "\n",
    "# fit the model with data\n",
    "logreg.fit(x_train, y_train)\n",
    "\n",
    "# predict the response for new observations\n",
    "y_pred_Logistic = logreg.predict(test_data)"
   ]
  },
  {
   "cell_type": "code",
   "execution_count": null,
   "metadata": {},
   "outputs": [],
   "source": [
    "y_pred_Logistic = le.inverse_transform(y_pred_Logistic)\n",
    "print(\"Prediction result: \")\n",
    "print(\"Business ID                         Categories             Predicted Star Rating         True Star Rating\")\n",
    "for i in range(5):\n",
    "    print(\"{:.20}             {:.23}         {:.5}                         {}\".format(test_businesses[i]['business_id'], test_businesses[i]['categories'], y_pred_Logistic[i], test_true_stars[i]))"
   ]
  },
  {
   "cell_type": "markdown",
   "metadata": {},
   "source": [
    "### Nearest Neighbor"
   ]
  },
  {
   "cell_type": "code",
   "execution_count": null,
   "metadata": {},
   "outputs": [],
   "source": [
    "from sklearn.neighbors import KNeighborsClassifier\n",
    "\n",
    "# instantiate the model (using the value K=10)\n",
    "knn = KNeighborsClassifier(n_neighbors=10)\n",
    "\n",
    "# fit the model with data\n",
    "knn.fit(x_train, y_train)"
   ]
  },
  {
   "cell_type": "code",
   "execution_count": null,
   "metadata": {},
   "outputs": [],
   "source": [
    "# predict the response for new observations\n",
    "y_neighbor = knn.predict(test_data)"
   ]
  },
  {
   "cell_type": "code",
   "execution_count": null,
   "metadata": {},
   "outputs": [],
   "source": [
    "y_neighbor = le.inverse_transform(y_neighbor)\n",
    "print(\"Prediction result: \")\n",
    "print(\"Business ID                         Categories             Predicted Star Rating         True Star Rating\")\n",
    "for i in range(5):\n",
    "    print(\"{:.20}             {:.23}         {:.5}                         {}\".format(test_businesses[i]['business_id'], test_businesses[i]['categories'], y_neighbor[i], test_true_stars[i]))"
   ]
  },
  {
   "cell_type": "markdown",
   "metadata": {},
   "source": [
    "### Multinomial Naive Bayes"
   ]
  },
  {
   "cell_type": "code",
   "execution_count": null,
   "metadata": {},
   "outputs": [],
   "source": [
    "from sklearn.preprocessing import MinMaxScaler\n",
    "\n",
    "scaler = MinMaxScaler()\n",
    "\n",
    "temp = scaler.fit_transform(df_ready_for_sklearn['review_count'].values.reshape(1, -1))\n",
    "\n",
    "input_data_MNB = np.column_stack((reviews_tfidf, tips_tfidf))\n",
    "input_data_MNB = np.column_stack((input_data_MNB, temp.reshape(-1,1)))\n",
    "\n",
    "input_data_MNB"
   ]
  },
  {
   "cell_type": "code",
   "execution_count": null,
   "metadata": {},
   "outputs": [],
   "source": [
    "test_data = input_data_MNB[test_loc[0]]\n",
    "for i in range(1, len(test_loc)):\n",
    "    test_data = np.append(test_data, input_data_MNB[test_loc[i]], axis=0)\n",
    "test_data.shape"
   ]
  },
  {
   "cell_type": "code",
   "execution_count": null,
   "metadata": {},
   "outputs": [],
   "source": [
    "x_train, x_test, y_train, y_test = train_test_split(input_data_MNB, df_ready_for_sklearn['encoded_stars'], test_size=0.25, random_state=43)"
   ]
  },
  {
   "cell_type": "code",
   "execution_count": null,
   "metadata": {},
   "outputs": [],
   "source": [
    "from sklearn.naive_bayes import MultinomialNB\n",
    "\n",
    "# instantiate the model (using the default parameters)\n",
    "mnb = MultinomialNB()\n",
    "\n",
    "# fit the model with data\n",
    "mnb.fit(x_train, y_train)\n",
    "\n",
    "# predict the response for new observations\n",
    "y_mnb = mnb.predict(test_data)"
   ]
  },
  {
   "cell_type": "code",
   "execution_count": null,
   "metadata": {
    "scrolled": false
   },
   "outputs": [],
   "source": [
    "y_mnb = le.inverse_transform(y_mnb)\n",
    "print(\"Prediction result: \")\n",
    "print(\"Business ID                         Categories             Predicted Star Rating         True Star Rating\")\n",
    "for i in range(5):\n",
    "    print(\"{:.20}             {:.23}         {:.5}                         {}\".format(test_businesses[i]['business_id'], test_businesses[i]['categories'], y_mnb[i], test_true_stars[i]))"
   ]
  },
  {
   "cell_type": "markdown",
   "metadata": {},
   "source": [
    "# TensorFlow"
   ]
  },
  {
   "cell_type": "code",
   "execution_count": 15,
   "metadata": {},
   "outputs": [
    {
     "name": "stderr",
     "output_type": "stream",
     "text": [
      "Using TensorFlow backend.\n"
     ]
    }
   ],
   "source": [
    "%matplotlib inline\n",
    "from keras.models import Sequential\n",
    "from keras.layers.core import Dense, Activation\n",
    "from keras.callbacks import EarlyStopping\n",
    "from keras.callbacks import ModelCheckpoint\n",
    "from keras import optimizers"
   ]
  },
  {
   "cell_type": "code",
   "execution_count": 16,
   "metadata": {},
   "outputs": [],
   "source": [
    "x_train, x_test, y_train, y_test = train_test_split(df_ready_for_sklearn, df_ready_for_sklearn['encoded_stars'], test_size=0.25, random_state=43)"
   ]
  },
  {
   "cell_type": "code",
   "execution_count": 17,
   "metadata": {},
   "outputs": [],
   "source": [
    "import sklearn.feature_extraction.text as sk_text\n",
    "\n",
    "#obtain tfidf score for reviews\n",
    "vectorizer = sk_text.TfidfVectorizer(max_features=250, min_df=10)\n",
    "\n",
    "reviews_matrix_train = vectorizer.fit_transform(x_train['all_reviews'])\n",
    "reviews_tfidf_train = reviews_matrix_train.toarray()\n",
    "\n",
    "reviews_matrix_test = vectorizer.fit_transform(x_test['all_reviews'])\n",
    "reviews_tfidf_test = reviews_matrix_test.toarray()"
   ]
  },
  {
   "cell_type": "code",
   "execution_count": 18,
   "metadata": {},
   "outputs": [],
   "source": [
    "#obtain tfidf score for tips\n",
    "vectorizer = sk_text.TfidfVectorizer(max_features=250, min_df=10)\n",
    "\n",
    "tips_matrix_train = vectorizer.fit_transform(x_train['all_tips'])\n",
    "tips_tfidf_train = tips_matrix_train.toarray()\n",
    "\n",
    "tips_matrix_test = vectorizer.fit_transform(x_test['all_tips'])\n",
    "tips_tfidf_test = tips_matrix_test.toarray()"
   ]
  },
  {
   "cell_type": "code",
   "execution_count": 19,
   "metadata": {},
   "outputs": [
    {
     "data": {
      "text/plain": [
       "(13665, 501)"
      ]
     },
     "execution_count": 19,
     "metadata": {},
     "output_type": "execute_result"
    }
   ],
   "source": [
    "temp = x_train['review_count_zscore'].values\n",
    "input_data_train = np.column_stack((reviews_tfidf_train, tips_tfidf_train))\n",
    "input_data_train = np.column_stack((input_data_train, temp))\n",
    "input_data_train.shape\n",
    "\n",
    "temp = x_test['review_count_zscore'].values\n",
    "input_data_test = np.column_stack((reviews_tfidf_test, tips_tfidf_test))\n",
    "input_data_test = np.column_stack((input_data_test, temp))\n",
    "input_data_test.shape"
   ]
  },
  {
   "cell_type": "code",
   "execution_count": 23,
   "metadata": {},
   "outputs": [],
   "source": [
    "df_train = pd.DataFrame(input_data_train)\n",
    "df_test = pd.DataFrame(input_data_test)\n",
    "df_train['encoded_stars'] = y_train\n",
    "df_test['encoded_stars'] = y_test\n",
    "missing_median(df_train, 'encoded_stars')\n",
    "missing_median(df_test, 'encoded_stars')"
   ]
  },
  {
   "cell_type": "code",
   "execution_count": 24,
   "metadata": {},
   "outputs": [
    {
     "data": {
      "text/plain": [
       "(40992, 502)"
      ]
     },
     "execution_count": 24,
     "metadata": {},
     "output_type": "execute_result"
    }
   ],
   "source": [
    "df_train.shape"
   ]
  },
  {
   "cell_type": "code",
   "execution_count": 25,
   "metadata": {},
   "outputs": [
    {
     "data": {
      "text/plain": [
       "(40992,)"
      ]
     },
     "execution_count": 25,
     "metadata": {},
     "output_type": "execute_result"
    }
   ],
   "source": [
    "y_train.shape"
   ]
  },
  {
   "cell_type": "code",
   "execution_count": 26,
   "metadata": {},
   "outputs": [
    {
     "data": {
      "text/plain": [
       "False"
      ]
     },
     "execution_count": 26,
     "metadata": {},
     "output_type": "execute_result"
    }
   ],
   "source": [
    "y_train.isnull().values.any()"
   ]
  },
  {
   "cell_type": "code",
   "execution_count": 28,
   "metadata": {},
   "outputs": [],
   "source": [
    "x_train,y_train = to_xy(df_train,'encoded_stars')"
   ]
  },
  {
   "cell_type": "code",
   "execution_count": null,
   "metadata": {},
   "outputs": [],
   "source": [
    "# Encode to a 2D matrix for training\n",
    "x,y = to_xy(df_train,'stars')"
   ]
  },
  {
   "cell_type": "code",
   "execution_count": null,
   "metadata": {},
   "outputs": [],
   "source": [
    "x.shape"
   ]
  },
  {
   "cell_type": "code",
   "execution_count": null,
   "metadata": {},
   "outputs": [],
   "source": [
    "y.shape"
   ]
  },
  {
   "cell_type": "code",
   "execution_count": null,
   "metadata": {},
   "outputs": [],
   "source": [
    "x_train, x_test, y_train, y_test = train_test_split(x, y, test_size=0.25, random_state=43)"
   ]
  },
  {
   "cell_type": "code",
   "execution_count": null,
   "metadata": {},
   "outputs": [],
   "source": [
    "model = Sequential()\n",
    "\n",
    "model.add(Dense(501, input_dim=x_train.shape[1], activation='relu')) # Hidden 1     #  why input_dim=x.shape[1]?  \n",
    "model.add(Dense(200, activation='relu')) # Hidden 2\n",
    "model.add(Dense(100, activation='relu')) # Hidden 3\n",
    "model.add(Dense(10, activation='relu')) # Hidden 4\n",
    "model.add(Dense(1)) # Output\n",
    "\n",
    "model.compile(loss='mean_squared_error', optimizer='adam')\n",
    "\n",
    "monitor = EarlyStopping(monitor='loss', min_delta=1e-3, patience=3, verbose=1, mode='auto')\n",
    "checkpointer = ModelCheckpoint(filepath=\".\\lowest_error.hdf5\", verbose=0, save_best_only=True) # save best model\n",
    "\n",
    "\n",
    "model.fit(x_train,y_train,callbacks=[monitor,checkpointer],verbose=2,epochs=100)    # Verbosity mode. 0 = silent, 1 = progress bar, 2 = one line per epoch.\n"
   ]
  },
  {
   "cell_type": "code",
   "execution_count": null,
   "metadata": {},
   "outputs": [],
   "source": [
    "pred = model.predict(x_test)\n",
    "print(\"Shape: {}\".format(pred.shape))\n",
    "print(pred)"
   ]
  },
  {
   "cell_type": "code",
   "execution_count": null,
   "metadata": {},
   "outputs": [],
   "source": [
    "score = np.sqrt(metrics.mean_squared_error(pred,y_test))\n",
    "print(\"Final score (RMSE): {}\".format(score))"
   ]
  },
  {
   "cell_type": "code",
   "execution_count": null,
   "metadata": {},
   "outputs": [],
   "source": [
    "# Plot the chart\n",
    "chart_regression(pred.flatten(),y_test)"
   ]
  },
  {
   "cell_type": "code",
   "execution_count": null,
   "metadata": {},
   "outputs": [],
   "source": []
  }
 ],
 "metadata": {
  "kernelspec": {
   "display_name": "TensorFlow-GPU",
   "language": "python",
   "name": "tf-gpu"
  },
  "language_info": {
   "codemirror_mode": {
    "name": "ipython",
    "version": 3
   },
   "file_extension": ".py",
   "mimetype": "text/x-python",
   "name": "python",
   "nbconvert_exporter": "python",
   "pygments_lexer": "ipython3",
   "version": "3.6.8"
  }
 },
 "nbformat": 4,
 "nbformat_minor": 2
}
