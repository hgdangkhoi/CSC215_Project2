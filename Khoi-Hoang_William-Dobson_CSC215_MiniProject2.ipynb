{
 "cells": [
  {
   "cell_type": "markdown",
   "metadata": {},
   "source": [
    "## CSC 215 - Project 2\n",
    "### Khoi Hoang\n",
    "### William Dobson"
   ]
  },
  {
   "cell_type": "code",
   "execution_count": 3,
   "metadata": {},
   "outputs": [],
   "source": [
    "import os\n",
    "import csv\n",
    "import json\n",
    "import numpy as np\n",
    "import pandas as pd\n",
    "from scipy.stats import zscore\n",
    "from sklearn import preprocessing\n",
    "from sklearn.model_selection import train_test_split\n",
    "from sklearn import metrics\n",
    "from matplotlib.pyplot import figure, show\n",
    "import matplotlib.pyplot as plt\n",
    "%matplotlib inline\n",
    "import collections\n",
    "import sklearn.feature_extraction.text as sk_text"
   ]
  },
  {
   "cell_type": "code",
   "execution_count": 4,
   "metadata": {},
   "outputs": [],
   "source": [
    "# Encode text values to dummy variables(i.e. [1,0,0],[0,1,0],[0,0,1] for red,green,blue)\n",
    "def encode_text_dummy(df, name):\n",
    "    dummies = pd.get_dummies(df[name])\n",
    "    for x in dummies.columns:\n",
    "        dummy_name = \"{}-{}\".format(name, x)\n",
    "        df[dummy_name] = dummies[x]\n",
    "    df.drop(name, axis=1, inplace=True)\n",
    "\n",
    "# Encode text values to indexes(i.e. [1],[2],[3] for red,green,blue).\n",
    "def encode_text_index(df, name):\n",
    "    le = preprocessing.LabelEncoder()\n",
    "    df[name] = le.fit_transform(df[name])\n",
    "    return le.classes_\n",
    "\n",
    "# Encode a numeric column as zscores\n",
    "def encode_numeric_zscore(df, name, mean=None, sd=None):\n",
    "    if mean is None:\n",
    "        mean = df[name].mean()\n",
    "\n",
    "    if sd is None:\n",
    "        sd = df[name].std()\n",
    "\n",
    "    df[name] = (df[name] - mean) / sd\n",
    "    \n",
    "# Convert all missing values in the specified column to the median\n",
    "def missing_median(df, name):\n",
    "    med = df[name].median()\n",
    "    df[name] = df[name].fillna(med)    \n",
    "\n",
    "# Regression chart.\n",
    "def chart_regression(pred,y,sort=True):\n",
    "    t = pd.DataFrame({'pred' : pred, 'y' : y.flatten()})\n",
    "    if sort:\n",
    "        t.sort_values(by=['y'],inplace=True)\n",
    "    a = plt.plot(t['y'].tolist(),label='expected')\n",
    "    b = plt.plot(t['pred'].tolist(),label='prediction')\n",
    "    plt.ylabel('output')\n",
    "    plt.legend()\n",
    "    plt.show()    \n",
    "    \n",
    "# Convert a Pandas dataframe to the x,y inputs that TensorFlow needs\n",
    "def to_xy(df, target):\n",
    "    result = []\n",
    "    for x in df.columns:\n",
    "        if x != target:\n",
    "            result.append(x)\n",
    "    # find out the type of the target column. \n",
    "    target_type = df[target].dtypes\n",
    "    target_type = target_type[0] if isinstance(target_type, collections.Sequence) else target_type\n",
    "    # Encode to int for classification, float otherwise. TensorFlow likes 32 bits.\n",
    "    if target_type in (np.int64, np.int32):\n",
    "        # Classification\n",
    "        dummies = pd.get_dummies(df[target])\n",
    "        return df[result].values.astype(np.float32), dummies.values.astype(np.float32)\n",
    "    else:\n",
    "        # Regression\n",
    "        return df[result].values.astype(np.float32), df[target].values.astype(np.float32)\n"
   ]
  },
  {
   "cell_type": "markdown",
   "metadata": {},
   "source": [
    "### Convert JSON data into tabular format for Pandas"
   ]
  },
  {
   "cell_type": "code",
   "execution_count": null,
   "metadata": {},
   "outputs": [],
   "source": [
    "#reviews.json\n",
    "outfile = open(\"review_stars.tsv\", 'w')\n",
    "sfile = csv.writer(outfile, delimiter =\"\\t\", quoting=csv.QUOTE_MINIMAL)\n",
    "sfile.writerow(['business_id','stars', 'text'])\n",
    "with open('review.json', encoding=\"utf8\") as f:\n",
    "    for line in f:\n",
    "        row = json.loads(line)\n",
    "        # some special char must be encoded in 'utf-8'\n",
    "        sfile.writerow([row['business_id'], row['stars'], (row['text']).encode('utf-8')])\n",
    "\n",
    "outfile.close()"
   ]
  },
  {
   "cell_type": "code",
   "execution_count": null,
   "metadata": {},
   "outputs": [],
   "source": [
    "#business.json\n",
    "outfile = open(\"business.tsv\", 'w')\n",
    "sfile = csv.writer(outfile, delimiter =\"\\t\", quoting=csv.QUOTE_MINIMAL)\n",
    "sfile.writerow(['business_id','stars', 'review_count', 'categories'])\n",
    "with open('business.json', encoding=\"utf8\") as f:\n",
    "    for line in f:\n",
    "        row = json.loads(line)\n",
    "        # some special char must be encoded in 'utf-8'\n",
    "        sfile.writerow([row['business_id'], row['stars'], row['review_count'], row['categories']])\n",
    "\n",
    "outfile.close()"
   ]
  },
  {
   "cell_type": "code",
   "execution_count": null,
   "metadata": {},
   "outputs": [],
   "source": [
    "#tip.json\n",
    "outfile = open(\"tip.tsv\", 'w')\n",
    "sfile = csv.writer(outfile, delimiter =\"\\t\", quoting=csv.QUOTE_MINIMAL)\n",
    "sfile.writerow(['business_id','text'])\n",
    "with open('tip.json', encoding=\"utf8\") as f:\n",
    "    for line in f:\n",
    "        row = json.loads(line)\n",
    "        # some special char must be encoded in 'utf-8'\n",
    "        sfile.writerow([row['business_id'], (row['text']).encode('utf-8')])\n",
    "\n",
    "outfile.close()"
   ]
  },
  {
   "cell_type": "code",
   "execution_count": 5,
   "metadata": {},
   "outputs": [
    {
     "data": {
      "text/html": [
       "<div>\n",
       "<style scoped>\n",
       "    .dataframe tbody tr th:only-of-type {\n",
       "        vertical-align: middle;\n",
       "    }\n",
       "\n",
       "    .dataframe tbody tr th {\n",
       "        vertical-align: top;\n",
       "    }\n",
       "\n",
       "    .dataframe thead th {\n",
       "        text-align: right;\n",
       "    }\n",
       "</style>\n",
       "<table border=\"1\" class=\"dataframe\">\n",
       "  <thead>\n",
       "    <tr style=\"text-align: right;\">\n",
       "      <th></th>\n",
       "      <th>business_id</th>\n",
       "      <th>text</th>\n",
       "    </tr>\n",
       "  </thead>\n",
       "  <tbody>\n",
       "    <tr>\n",
       "      <th>0</th>\n",
       "      <td>VaKXUpmWTTWDKbpJ3aQdMw</td>\n",
       "      <td>b'Great for watching games, ufc, and whatever ...</td>\n",
       "    </tr>\n",
       "    <tr>\n",
       "      <th>1</th>\n",
       "      <td>OPiPeoJiv92rENwbq76orA</td>\n",
       "      <td>b'Happy Hour 2-4 daily with 1/2 price drinks a...</td>\n",
       "    </tr>\n",
       "    <tr>\n",
       "      <th>2</th>\n",
       "      <td>5KheTjYPu1HcQzQFtm4_vw</td>\n",
       "      <td>b'Good chips and salsa. Loud at times. Good se...</td>\n",
       "    </tr>\n",
       "    <tr>\n",
       "      <th>3</th>\n",
       "      <td>TkoyGi8J7YFjA6SbaRzrxg</td>\n",
       "      <td>b'The setting and decoration here is amazing. ...</td>\n",
       "    </tr>\n",
       "    <tr>\n",
       "      <th>4</th>\n",
       "      <td>AkL6Ous6A1atZejfZXn1Bg</td>\n",
       "      <td>b'Molly is definately taking a picture with Sa...</td>\n",
       "    </tr>\n",
       "  </tbody>\n",
       "</table>\n",
       "</div>"
      ],
      "text/plain": [
       "              business_id                                               text\n",
       "0  VaKXUpmWTTWDKbpJ3aQdMw  b'Great for watching games, ufc, and whatever ...\n",
       "1  OPiPeoJiv92rENwbq76orA  b'Happy Hour 2-4 daily with 1/2 price drinks a...\n",
       "2  5KheTjYPu1HcQzQFtm4_vw  b'Good chips and salsa. Loud at times. Good se...\n",
       "3  TkoyGi8J7YFjA6SbaRzrxg  b'The setting and decoration here is amazing. ...\n",
       "4  AkL6Ous6A1atZejfZXn1Bg  b'Molly is definately taking a picture with Sa..."
      ]
     },
     "execution_count": 5,
     "metadata": {},
     "output_type": "execute_result"
    }
   ],
   "source": [
    "df_review= pd.read_csv('review_stars.tsv', delimiter =\"\\t\", encoding=\"utf-8\")\n",
    "df_business= pd.read_csv('business.tsv', delimiter =\"\\t\", encoding=\"utf-8\")\n",
    "df_tip= pd.read_csv('tip.tsv', delimiter =\"\\t\", encoding=\"utf-8\")\n",
    "df_tip[0:5]"
   ]
  },
  {
   "cell_type": "code",
   "execution_count": 6,
   "metadata": {},
   "outputs": [
    {
     "data": {
      "text/html": [
       "<div>\n",
       "<style scoped>\n",
       "    .dataframe tbody tr th:only-of-type {\n",
       "        vertical-align: middle;\n",
       "    }\n",
       "\n",
       "    .dataframe tbody tr th {\n",
       "        vertical-align: top;\n",
       "    }\n",
       "\n",
       "    .dataframe thead th {\n",
       "        text-align: right;\n",
       "    }\n",
       "</style>\n",
       "<table border=\"1\" class=\"dataframe\">\n",
       "  <thead>\n",
       "    <tr style=\"text-align: right;\">\n",
       "      <th></th>\n",
       "      <th>business_id</th>\n",
       "      <th>stars</th>\n",
       "      <th>text</th>\n",
       "    </tr>\n",
       "  </thead>\n",
       "  <tbody>\n",
       "    <tr>\n",
       "      <th>0</th>\n",
       "      <td>ujmEBvifdJM6h6RLv4wQIg</td>\n",
       "      <td>1.0</td>\n",
       "      <td>b'Total bill for this horrible service? Over $...</td>\n",
       "    </tr>\n",
       "    <tr>\n",
       "      <th>1</th>\n",
       "      <td>NZnhc2sEQy3RmzKTZnqtwQ</td>\n",
       "      <td>5.0</td>\n",
       "      <td>b\"I *adore* Travis at the Hard Rock's new Kell...</td>\n",
       "    </tr>\n",
       "    <tr>\n",
       "      <th>2</th>\n",
       "      <td>WTqjgwHlXbSFevF32_DJVw</td>\n",
       "      <td>5.0</td>\n",
       "      <td>b\"I have to say that this office really has it...</td>\n",
       "    </tr>\n",
       "    <tr>\n",
       "      <th>3</th>\n",
       "      <td>ikCg8xy5JIg_NGPx-MSIDA</td>\n",
       "      <td>5.0</td>\n",
       "      <td>b\"Went in for a lunch. Steak sandwich was deli...</td>\n",
       "    </tr>\n",
       "    <tr>\n",
       "      <th>4</th>\n",
       "      <td>b1b1eb3uo-w561D0ZfCEiQ</td>\n",
       "      <td>1.0</td>\n",
       "      <td>b'Today was my second out of three sessions I ...</td>\n",
       "    </tr>\n",
       "  </tbody>\n",
       "</table>\n",
       "</div>"
      ],
      "text/plain": [
       "              business_id  stars  \\\n",
       "0  ujmEBvifdJM6h6RLv4wQIg    1.0   \n",
       "1  NZnhc2sEQy3RmzKTZnqtwQ    5.0   \n",
       "2  WTqjgwHlXbSFevF32_DJVw    5.0   \n",
       "3  ikCg8xy5JIg_NGPx-MSIDA    5.0   \n",
       "4  b1b1eb3uo-w561D0ZfCEiQ    1.0   \n",
       "\n",
       "                                                text  \n",
       "0  b'Total bill for this horrible service? Over $...  \n",
       "1  b\"I *adore* Travis at the Hard Rock's new Kell...  \n",
       "2  b\"I have to say that this office really has it...  \n",
       "3  b\"Went in for a lunch. Steak sandwich was deli...  \n",
       "4  b'Today was my second out of three sessions I ...  "
      ]
     },
     "execution_count": 6,
     "metadata": {},
     "output_type": "execute_result"
    }
   ],
   "source": [
    "df_review.head()"
   ]
  },
  {
   "cell_type": "code",
   "execution_count": 7,
   "metadata": {},
   "outputs": [
    {
     "data": {
      "text/plain": [
       "(6678404, 3)"
      ]
     },
     "execution_count": 7,
     "metadata": {},
     "output_type": "execute_result"
    }
   ],
   "source": [
    "#only consider reviews that have more than 50 characters\n",
    "df_review = df_review[df_review['text'].str.len() >= 50]\n",
    "df_review.shape"
   ]
  },
  {
   "cell_type": "code",
   "execution_count": 8,
   "metadata": {},
   "outputs": [
    {
     "data": {
      "text/plain": [
       "(1094522, 2)"
      ]
     },
     "execution_count": 8,
     "metadata": {},
     "output_type": "execute_result"
    }
   ],
   "source": [
    "df_tip = df_tip[df_tip['text'].str.len() >= 20]\n",
    "df_tip.shape"
   ]
  },
  {
   "cell_type": "code",
   "execution_count": 9,
   "metadata": {},
   "outputs": [],
   "source": [
    "#group all reviews by each business and create a new dataframe, where each line is a business with all its reviews\n",
    "df_review_agg = df_review.groupby('business_id')['text'].sum()\n",
    "\n",
    "df_all_reviews = pd.DataFrame({'business_id': df_review_agg.index, 'all_reviews': df_review_agg.values})"
   ]
  },
  {
   "cell_type": "code",
   "execution_count": 10,
   "metadata": {},
   "outputs": [],
   "source": [
    "#group all tip by each business and create a new dataframe, where each line is a business with all its tips\n",
    "df_tip_agg = df_tip.groupby('business_id')['text'].sum()\n",
    "\n",
    "df_all_tips = pd.DataFrame({'business_id': df_tip_agg.index, 'all_tips': df_tip_agg.values})"
   ]
  },
  {
   "cell_type": "code",
   "execution_count": 11,
   "metadata": {},
   "outputs": [
    {
     "data": {
      "text/html": [
       "<div>\n",
       "<style scoped>\n",
       "    .dataframe tbody tr th:only-of-type {\n",
       "        vertical-align: middle;\n",
       "    }\n",
       "\n",
       "    .dataframe tbody tr th {\n",
       "        vertical-align: top;\n",
       "    }\n",
       "\n",
       "    .dataframe thead th {\n",
       "        text-align: right;\n",
       "    }\n",
       "</style>\n",
       "<table border=\"1\" class=\"dataframe\">\n",
       "  <thead>\n",
       "    <tr style=\"text-align: right;\">\n",
       "      <th></th>\n",
       "      <th>business_id</th>\n",
       "      <th>all_tips</th>\n",
       "    </tr>\n",
       "  </thead>\n",
       "  <tbody>\n",
       "    <tr>\n",
       "      <th>0</th>\n",
       "      <td>--1UhMGODdWsrMastO9DZw</td>\n",
       "      <td>b\"Delicious! One of the best burritos, salsa a...</td>\n",
       "    </tr>\n",
       "    <tr>\n",
       "      <th>1</th>\n",
       "      <td>--6MefnULPED_I942VcFNA</td>\n",
       "      <td>b'BBQ pork is sold out early on Saturday'b'The...</td>\n",
       "    </tr>\n",
       "    <tr>\n",
       "      <th>2</th>\n",
       "      <td>--7zmmkVg-IMGaXbuVd0SQ</td>\n",
       "      <td>b\"Good place to stop when traffic don't go.\"b'...</td>\n",
       "    </tr>\n",
       "    <tr>\n",
       "      <th>3</th>\n",
       "      <td>--9QQLMTbFzLJ_oT-ON3Xw</td>\n",
       "      <td>b\"Tip? Don't get your hair cut here. If they'r...</td>\n",
       "    </tr>\n",
       "    <tr>\n",
       "      <th>4</th>\n",
       "      <td>--9e1ONYQuAa-CB_Rrw7Tw</td>\n",
       "      <td>b'Wine pairings for my prix fixe meal.  Mmmm'b...</td>\n",
       "    </tr>\n",
       "  </tbody>\n",
       "</table>\n",
       "</div>"
      ],
      "text/plain": [
       "              business_id                                           all_tips\n",
       "0  --1UhMGODdWsrMastO9DZw  b\"Delicious! One of the best burritos, salsa a...\n",
       "1  --6MefnULPED_I942VcFNA  b'BBQ pork is sold out early on Saturday'b'The...\n",
       "2  --7zmmkVg-IMGaXbuVd0SQ  b\"Good place to stop when traffic don't go.\"b'...\n",
       "3  --9QQLMTbFzLJ_oT-ON3Xw  b\"Tip? Don't get your hair cut here. If they'r...\n",
       "4  --9e1ONYQuAa-CB_Rrw7Tw  b'Wine pairings for my prix fixe meal.  Mmmm'b..."
      ]
     },
     "execution_count": 11,
     "metadata": {},
     "output_type": "execute_result"
    }
   ],
   "source": [
    "df_all_tips.head()"
   ]
  },
  {
   "cell_type": "markdown",
   "metadata": {},
   "source": [
    "#### Only consider businesses which have more than 20 reviews"
   ]
  },
  {
   "cell_type": "code",
   "execution_count": 12,
   "metadata": {},
   "outputs": [
    {
     "data": {
      "text/plain": [
       "(57644, 4)"
      ]
     },
     "execution_count": 12,
     "metadata": {},
     "output_type": "execute_result"
    }
   ],
   "source": [
    "df_business = df_business[df_business['review_count'] >= 20]\n",
    "df_business.shape"
   ]
  },
  {
   "cell_type": "code",
   "execution_count": 13,
   "metadata": {},
   "outputs": [
    {
     "data": {
      "text/plain": [
       "(54657, 6)"
      ]
     },
     "execution_count": 13,
     "metadata": {},
     "output_type": "execute_result"
    }
   ],
   "source": [
    "#merge df_business, df_all_reviews, and df_all_tips by business_id\n",
    "df_ready_for_sklearn = pd.merge(pd.merge(df_all_reviews, df_business, on='business_id', how='inner'), df_all_tips, on='business_id', how='inner')\n",
    "df_ready_for_sklearn.shape"
   ]
  },
  {
   "cell_type": "code",
   "execution_count": 14,
   "metadata": {},
   "outputs": [],
   "source": [
    "#label encode the stars\n",
    "le = preprocessing.LabelEncoder()\n",
    "df_ready_for_sklearn['encoded_stars'] = le.fit_transform(df_ready_for_sklearn['stars'])"
   ]
  },
  {
   "cell_type": "code",
   "execution_count": 15,
   "metadata": {},
   "outputs": [
    {
     "name": "stdout",
     "output_type": "stream",
     "text": [
      "(54657, 7)\n"
     ]
    },
    {
     "data": {
      "text/html": [
       "<div>\n",
       "<style scoped>\n",
       "    .dataframe tbody tr th:only-of-type {\n",
       "        vertical-align: middle;\n",
       "    }\n",
       "\n",
       "    .dataframe tbody tr th {\n",
       "        vertical-align: top;\n",
       "    }\n",
       "\n",
       "    .dataframe thead th {\n",
       "        text-align: right;\n",
       "    }\n",
       "</style>\n",
       "<table border=\"1\" class=\"dataframe\">\n",
       "  <thead>\n",
       "    <tr style=\"text-align: right;\">\n",
       "      <th></th>\n",
       "      <th>business_id</th>\n",
       "      <th>all_reviews</th>\n",
       "      <th>stars</th>\n",
       "      <th>review_count</th>\n",
       "      <th>categories</th>\n",
       "      <th>all_tips</th>\n",
       "      <th>encoded_stars</th>\n",
       "    </tr>\n",
       "  </thead>\n",
       "  <tbody>\n",
       "    <tr>\n",
       "      <th>0</th>\n",
       "      <td>--1UhMGODdWsrMastO9DZw</td>\n",
       "      <td>b'If you are looking for authentic Mexican str...</td>\n",
       "      <td>4.0</td>\n",
       "      <td>24</td>\n",
       "      <td>Restaurants, Mexican</td>\n",
       "      <td>b\"Delicious! One of the best burritos, salsa a...</td>\n",
       "      <td>6</td>\n",
       "    </tr>\n",
       "    <tr>\n",
       "      <th>1</th>\n",
       "      <td>--6MefnULPED_I942VcFNA</td>\n",
       "      <td>b\"They have the best Chinese BBQ Pork (Char Si...</td>\n",
       "      <td>3.0</td>\n",
       "      <td>44</td>\n",
       "      <td>Chinese, Restaurants</td>\n",
       "      <td>b'BBQ pork is sold out early on Saturday'b'The...</td>\n",
       "      <td>4</td>\n",
       "    </tr>\n",
       "    <tr>\n",
       "      <th>2</th>\n",
       "      <td>--7zmmkVg-IMGaXbuVd0SQ</td>\n",
       "      <td>b\"I'm a tad reluctant to write a review as I r...</td>\n",
       "      <td>4.0</td>\n",
       "      <td>58</td>\n",
       "      <td>Breweries, Food</td>\n",
       "      <td>b\"Good place to stop when traffic don't go.\"b'...</td>\n",
       "      <td>6</td>\n",
       "    </tr>\n",
       "    <tr>\n",
       "      <th>3</th>\n",
       "      <td>--9e1ONYQuAa-CB_Rrw7Tw</td>\n",
       "      <td>b'Very busy and noisy restaurant.\\nAsparagas w...</td>\n",
       "      <td>4.0</td>\n",
       "      <td>1613</td>\n",
       "      <td>Cajun/Creole, Seafood, Steakhouses, Restaurants</td>\n",
       "      <td>b'Wine pairings for my prix fixe meal.  Mmmm'b...</td>\n",
       "      <td>6</td>\n",
       "    </tr>\n",
       "    <tr>\n",
       "      <th>4</th>\n",
       "      <td>--DaPTJW3-tB1vP-PfdTEg</td>\n",
       "      <td>b'My sister and in laws were in town and we wa...</td>\n",
       "      <td>3.5</td>\n",
       "      <td>49</td>\n",
       "      <td>Restaurants, Breakfast &amp; Brunch</td>\n",
       "      <td>b'Awesome. Huge portions  definitely worth a v...</td>\n",
       "      <td>5</td>\n",
       "    </tr>\n",
       "  </tbody>\n",
       "</table>\n",
       "</div>"
      ],
      "text/plain": [
       "              business_id                                        all_reviews  \\\n",
       "0  --1UhMGODdWsrMastO9DZw  b'If you are looking for authentic Mexican str...   \n",
       "1  --6MefnULPED_I942VcFNA  b\"They have the best Chinese BBQ Pork (Char Si...   \n",
       "2  --7zmmkVg-IMGaXbuVd0SQ  b\"I'm a tad reluctant to write a review as I r...   \n",
       "3  --9e1ONYQuAa-CB_Rrw7Tw  b'Very busy and noisy restaurant.\\nAsparagas w...   \n",
       "4  --DaPTJW3-tB1vP-PfdTEg  b'My sister and in laws were in town and we wa...   \n",
       "\n",
       "   stars  review_count                                       categories  \\\n",
       "0    4.0            24                             Restaurants, Mexican   \n",
       "1    3.0            44                             Chinese, Restaurants   \n",
       "2    4.0            58                                  Breweries, Food   \n",
       "3    4.0          1613  Cajun/Creole, Seafood, Steakhouses, Restaurants   \n",
       "4    3.5            49                  Restaurants, Breakfast & Brunch   \n",
       "\n",
       "                                            all_tips  encoded_stars  \n",
       "0  b\"Delicious! One of the best burritos, salsa a...              6  \n",
       "1  b'BBQ pork is sold out early on Saturday'b'The...              4  \n",
       "2  b\"Good place to stop when traffic don't go.\"b'...              6  \n",
       "3  b'Wine pairings for my prix fixe meal.  Mmmm'b...              6  \n",
       "4  b'Awesome. Huge portions  definitely worth a v...              5  "
      ]
     },
     "execution_count": 15,
     "metadata": {},
     "output_type": "execute_result"
    }
   ],
   "source": [
    "print(df_ready_for_sklearn.shape)\n",
    "df_ready_for_sklearn[0:5]"
   ]
  },
  {
   "cell_type": "markdown",
   "metadata": {},
   "source": [
    "## Split the data and prepare for training and testing"
   ]
  },
  {
   "cell_type": "code",
   "execution_count": 17,
   "metadata": {},
   "outputs": [],
   "source": [
    "x_train, x_test, y_train, y_test = train_test_split(df_ready_for_sklearn, df_ready_for_sklearn['encoded_stars'], test_size=0.25, random_state=43)"
   ]
  },
  {
   "cell_type": "code",
   "execution_count": 22,
   "metadata": {},
   "outputs": [
    {
     "name": "stderr",
     "output_type": "stream",
     "text": [
      "C:\\Users\\hgdan\\Anaconda3\\envs\\tf-gpu\\lib\\site-packages\\ipykernel_launcher.py:1: SettingWithCopyWarning: \n",
      "A value is trying to be set on a copy of a slice from a DataFrame.\n",
      "Try using .loc[row_indexer,col_indexer] = value instead\n",
      "\n",
      "See the caveats in the documentation: http://pandas.pydata.org/pandas-docs/stable/indexing.html#indexing-view-versus-copy\n",
      "  \"\"\"Entry point for launching an IPython kernel.\n"
     ]
    },
    {
     "data": {
      "text/html": [
       "<div>\n",
       "<style scoped>\n",
       "    .dataframe tbody tr th:only-of-type {\n",
       "        vertical-align: middle;\n",
       "    }\n",
       "\n",
       "    .dataframe tbody tr th {\n",
       "        vertical-align: top;\n",
       "    }\n",
       "\n",
       "    .dataframe thead th {\n",
       "        text-align: right;\n",
       "    }\n",
       "</style>\n",
       "<table border=\"1\" class=\"dataframe\">\n",
       "  <thead>\n",
       "    <tr style=\"text-align: right;\">\n",
       "      <th></th>\n",
       "      <th>business_id</th>\n",
       "      <th>all_reviews</th>\n",
       "      <th>stars</th>\n",
       "      <th>review_count</th>\n",
       "      <th>categories</th>\n",
       "      <th>all_tips</th>\n",
       "      <th>encoded_stars</th>\n",
       "      <th>review_count_zscore</th>\n",
       "    </tr>\n",
       "  </thead>\n",
       "  <tbody>\n",
       "    <tr>\n",
       "      <th>53526</th>\n",
       "      <td>ygcX18rboNOaYnNmRCDytw</td>\n",
       "      <td>b'I drive 45 minutes from Cleveland to enjoy t...</td>\n",
       "      <td>4.0</td>\n",
       "      <td>30</td>\n",
       "      <td>Restaurants, Cafes, Tea Rooms, Bubble Tea, Food</td>\n",
       "      <td>b'cute shop and helpful staff!'b'The greatest ...</td>\n",
       "      <td>6</td>\n",
       "      <td>-0.374402</td>\n",
       "    </tr>\n",
       "    <tr>\n",
       "      <th>16481</th>\n",
       "      <td>IB_aESRBh2cmYWSF6Fv0jQ</td>\n",
       "      <td>b'I was really happy with Spencer\\'s when I pu...</td>\n",
       "      <td>3.0</td>\n",
       "      <td>94</td>\n",
       "      <td>Home &amp; Garden, Shopping, Appliances, Electronics</td>\n",
       "      <td>b'Best pricing in town.Next day delivery great...</td>\n",
       "      <td>4</td>\n",
       "      <td>-0.021752</td>\n",
       "    </tr>\n",
       "    <tr>\n",
       "      <th>21744</th>\n",
       "      <td>OI_lS_aamMgjnHqNlaO2rA</td>\n",
       "      <td>b\"For a post office, this location is pretty g...</td>\n",
       "      <td>2.5</td>\n",
       "      <td>21</td>\n",
       "      <td>Public Services &amp; Government, Local Services, ...</td>\n",
       "      <td>b\"Kinda old school. Feels weird. Have to Stand...</td>\n",
       "      <td>3</td>\n",
       "      <td>-0.423993</td>\n",
       "    </tr>\n",
       "    <tr>\n",
       "      <th>49426</th>\n",
       "      <td>tyQWsZUSoMuoX6_5pcCE8Q</td>\n",
       "      <td>b\"Honestly the worst latte I've ever had. Got ...</td>\n",
       "      <td>4.5</td>\n",
       "      <td>108</td>\n",
       "      <td>Coffee &amp; Tea, Coffee Roasteries, Food</td>\n",
       "      <td>b'Cute simple coffee shop. Great coffee and th...</td>\n",
       "      <td>7</td>\n",
       "      <td>0.055390</td>\n",
       "    </tr>\n",
       "    <tr>\n",
       "      <th>23280</th>\n",
       "      <td>Q7rrhu3FJxTASTo46pT9vA</td>\n",
       "      <td>b\"It tastes great and the atmosphere is great ...</td>\n",
       "      <td>3.5</td>\n",
       "      <td>101</td>\n",
       "      <td>Coffee &amp; Tea, Food</td>\n",
       "      <td>b'$3 cappuccino is a pretty sweet deal. I have...</td>\n",
       "      <td>5</td>\n",
       "      <td>0.016819</td>\n",
       "    </tr>\n",
       "  </tbody>\n",
       "</table>\n",
       "</div>"
      ],
      "text/plain": [
       "                  business_id  \\\n",
       "53526  ygcX18rboNOaYnNmRCDytw   \n",
       "16481  IB_aESRBh2cmYWSF6Fv0jQ   \n",
       "21744  OI_lS_aamMgjnHqNlaO2rA   \n",
       "49426  tyQWsZUSoMuoX6_5pcCE8Q   \n",
       "23280  Q7rrhu3FJxTASTo46pT9vA   \n",
       "\n",
       "                                             all_reviews  stars  review_count  \\\n",
       "53526  b'I drive 45 minutes from Cleveland to enjoy t...    4.0            30   \n",
       "16481  b'I was really happy with Spencer\\'s when I pu...    3.0            94   \n",
       "21744  b\"For a post office, this location is pretty g...    2.5            21   \n",
       "49426  b\"Honestly the worst latte I've ever had. Got ...    4.5           108   \n",
       "23280  b\"It tastes great and the atmosphere is great ...    3.5           101   \n",
       "\n",
       "                                              categories  \\\n",
       "53526    Restaurants, Cafes, Tea Rooms, Bubble Tea, Food   \n",
       "16481   Home & Garden, Shopping, Appliances, Electronics   \n",
       "21744  Public Services & Government, Local Services, ...   \n",
       "49426              Coffee & Tea, Coffee Roasteries, Food   \n",
       "23280                                 Coffee & Tea, Food   \n",
       "\n",
       "                                                all_tips  encoded_stars  \\\n",
       "53526  b'cute shop and helpful staff!'b'The greatest ...              6   \n",
       "16481  b'Best pricing in town.Next day delivery great...              4   \n",
       "21744  b\"Kinda old school. Feels weird. Have to Stand...              3   \n",
       "49426  b'Cute simple coffee shop. Great coffee and th...              7   \n",
       "23280  b'$3 cappuccino is a pretty sweet deal. I have...              5   \n",
       "\n",
       "       review_count_zscore  \n",
       "53526            -0.374402  \n",
       "16481            -0.021752  \n",
       "21744            -0.423993  \n",
       "49426             0.055390  \n",
       "23280             0.016819  "
      ]
     },
     "execution_count": 22,
     "metadata": {},
     "output_type": "execute_result"
    }
   ],
   "source": [
    "x_train['review_count_zscore'] = zscore(x_train['review_count'])\n",
    "x_train[0:5]"
   ]
  },
  {
   "cell_type": "code",
   "execution_count": 23,
   "metadata": {},
   "outputs": [
    {
     "name": "stderr",
     "output_type": "stream",
     "text": [
      "C:\\Users\\hgdan\\Anaconda3\\envs\\tf-gpu\\lib\\site-packages\\ipykernel_launcher.py:1: SettingWithCopyWarning: \n",
      "A value is trying to be set on a copy of a slice from a DataFrame.\n",
      "Try using .loc[row_indexer,col_indexer] = value instead\n",
      "\n",
      "See the caveats in the documentation: http://pandas.pydata.org/pandas-docs/stable/indexing.html#indexing-view-versus-copy\n",
      "  \"\"\"Entry point for launching an IPython kernel.\n"
     ]
    },
    {
     "data": {
      "text/html": [
       "<div>\n",
       "<style scoped>\n",
       "    .dataframe tbody tr th:only-of-type {\n",
       "        vertical-align: middle;\n",
       "    }\n",
       "\n",
       "    .dataframe tbody tr th {\n",
       "        vertical-align: top;\n",
       "    }\n",
       "\n",
       "    .dataframe thead th {\n",
       "        text-align: right;\n",
       "    }\n",
       "</style>\n",
       "<table border=\"1\" class=\"dataframe\">\n",
       "  <thead>\n",
       "    <tr style=\"text-align: right;\">\n",
       "      <th></th>\n",
       "      <th>business_id</th>\n",
       "      <th>all_reviews</th>\n",
       "      <th>stars</th>\n",
       "      <th>review_count</th>\n",
       "      <th>categories</th>\n",
       "      <th>all_tips</th>\n",
       "      <th>encoded_stars</th>\n",
       "      <th>review_count_zscore</th>\n",
       "    </tr>\n",
       "  </thead>\n",
       "  <tbody>\n",
       "    <tr>\n",
       "      <th>53763</th>\n",
       "      <td>yyiHkabQBtLifVTsO1r1kw</td>\n",
       "      <td>b\"I am not the biggest fan of Walmart but they...</td>\n",
       "      <td>3.0</td>\n",
       "      <td>37</td>\n",
       "      <td>Food, Shopping, Grocery, Fashion, Drugstores, ...</td>\n",
       "      <td>b'Picking up some goodies for E.B.!'b'Rich wal...</td>\n",
       "      <td>4</td>\n",
       "      <td>-0.293785</td>\n",
       "    </tr>\n",
       "    <tr>\n",
       "      <th>50802</th>\n",
       "      <td>vZu12JAudoXBv3-i0JmSiQ</td>\n",
       "      <td>b\"I brought a watch strap in to get a few link...</td>\n",
       "      <td>3.0</td>\n",
       "      <td>29</td>\n",
       "      <td>Shopping, Jewelry, Watch Repair, Local Service...</td>\n",
       "      <td>b'5 mins in and out for a battery replacement....</td>\n",
       "      <td>4</td>\n",
       "      <td>-0.330296</td>\n",
       "    </tr>\n",
       "    <tr>\n",
       "      <th>54033</th>\n",
       "      <td>zIpW3YlE9fFwyWOT5HGI6A</td>\n",
       "      <td>b\"Only giving one star cuz I have to. Terrible...</td>\n",
       "      <td>2.0</td>\n",
       "      <td>41</td>\n",
       "      <td>Fast Food, Ice Cream &amp; Frozen Yogurt, Restaura...</td>\n",
       "      <td>b\"Get better employees and listen to what peop...</td>\n",
       "      <td>2</td>\n",
       "      <td>-0.275530</td>\n",
       "    </tr>\n",
       "    <tr>\n",
       "      <th>27076</th>\n",
       "      <td>UaL6yRGSv9fYCyn2DJLu8w</td>\n",
       "      <td>b'Greek salad add avacado, very fresh very del...</td>\n",
       "      <td>4.5</td>\n",
       "      <td>42</td>\n",
       "      <td>Food, Juice Bars &amp; Smoothies, Restaurants, Cof...</td>\n",
       "      <td>b'Love this place. Good food, fresh as fuck ju...</td>\n",
       "      <td>7</td>\n",
       "      <td>-0.270966</td>\n",
       "    </tr>\n",
       "    <tr>\n",
       "      <th>14056</th>\n",
       "      <td>FML0YqZ7dLBBC3Suap4_4Q</td>\n",
       "      <td>b\"My favourite place in the city! Great vibe a...</td>\n",
       "      <td>4.0</td>\n",
       "      <td>296</td>\n",
       "      <td>Nightlife, Restaurants, Tapas/Small Plates, Bars</td>\n",
       "      <td>b'Most of the food is made in house'b'All is g...</td>\n",
       "      <td>6</td>\n",
       "      <td>0.888237</td>\n",
       "    </tr>\n",
       "  </tbody>\n",
       "</table>\n",
       "</div>"
      ],
      "text/plain": [
       "                  business_id  \\\n",
       "53763  yyiHkabQBtLifVTsO1r1kw   \n",
       "50802  vZu12JAudoXBv3-i0JmSiQ   \n",
       "54033  zIpW3YlE9fFwyWOT5HGI6A   \n",
       "27076  UaL6yRGSv9fYCyn2DJLu8w   \n",
       "14056  FML0YqZ7dLBBC3Suap4_4Q   \n",
       "\n",
       "                                             all_reviews  stars  review_count  \\\n",
       "53763  b\"I am not the biggest fan of Walmart but they...    3.0            37   \n",
       "50802  b\"I brought a watch strap in to get a few link...    3.0            29   \n",
       "54033  b\"Only giving one star cuz I have to. Terrible...    2.0            41   \n",
       "27076  b'Greek salad add avacado, very fresh very del...    4.5            42   \n",
       "14056  b\"My favourite place in the city! Great vibe a...    4.0           296   \n",
       "\n",
       "                                              categories  \\\n",
       "53763  Food, Shopping, Grocery, Fashion, Drugstores, ...   \n",
       "50802  Shopping, Jewelry, Watch Repair, Local Service...   \n",
       "54033  Fast Food, Ice Cream & Frozen Yogurt, Restaura...   \n",
       "27076  Food, Juice Bars & Smoothies, Restaurants, Cof...   \n",
       "14056   Nightlife, Restaurants, Tapas/Small Plates, Bars   \n",
       "\n",
       "                                                all_tips  encoded_stars  \\\n",
       "53763  b'Picking up some goodies for E.B.!'b'Rich wal...              4   \n",
       "50802  b'5 mins in and out for a battery replacement....              4   \n",
       "54033  b\"Get better employees and listen to what peop...              2   \n",
       "27076  b'Love this place. Good food, fresh as fuck ju...              7   \n",
       "14056  b'Most of the food is made in house'b'All is g...              6   \n",
       "\n",
       "       review_count_zscore  \n",
       "53763            -0.293785  \n",
       "50802            -0.330296  \n",
       "54033            -0.275530  \n",
       "27076            -0.270966  \n",
       "14056             0.888237  "
      ]
     },
     "execution_count": 23,
     "metadata": {},
     "output_type": "execute_result"
    }
   ],
   "source": [
    "x_test['review_count_zscore'] = zscore(x_test['review_count'])\n",
    "x_test[0:5]"
   ]
  },
  {
   "cell_type": "code",
   "execution_count": 24,
   "metadata": {},
   "outputs": [
    {
     "data": {
      "text/plain": [
       "['10',\n",
       " '15',\n",
       " '20',\n",
       " '30',\n",
       " 'able',\n",
       " 'absolutely',\n",
       " 'actually',\n",
       " 'amazing',\n",
       " 'area',\n",
       " 'ask',\n",
       " 'asked',\n",
       " 'atmosphere',\n",
       " 'away',\n",
       " 'awesome',\n",
       " 'bad',\n",
       " 'bar',\n",
       " 'beef',\n",
       " 'beer',\n",
       " 'best',\n",
       " 'better',\n",
       " 'big',\n",
       " 'bit',\n",
       " 'bread',\n",
       " 'breakfast',\n",
       " 'burger',\n",
       " 'business',\n",
       " 'busy',\n",
       " 'called',\n",
       " 'came',\n",
       " 'car',\n",
       " 'care',\n",
       " 'check',\n",
       " 'cheese',\n",
       " 'chicken',\n",
       " 'clean',\n",
       " 'coffee',\n",
       " 'come',\n",
       " 'coming',\n",
       " 'cooked',\n",
       " 'cool',\n",
       " 'couldn',\n",
       " 'couple',\n",
       " 'cream',\n",
       " 'customer',\n",
       " 'day',\n",
       " 'decent',\n",
       " 'decided',\n",
       " 'definitely',\n",
       " 'delicious',\n",
       " 'dessert',\n",
       " 'did',\n",
       " 'didn',\n",
       " 'different',\n",
       " 'dinner',\n",
       " 'disappointed',\n",
       " 'dish',\n",
       " 'dishes',\n",
       " 'don',\n",
       " 'drink',\n",
       " 'drinks',\n",
       " 'eat',\n",
       " 'eating',\n",
       " 'end',\n",
       " 'enjoy',\n",
       " 'enjoyed',\n",
       " 'especially',\n",
       " 'excellent',\n",
       " 'experience',\n",
       " 'extra',\n",
       " 'family',\n",
       " 'fantastic',\n",
       " 'far',\n",
       " 'fast',\n",
       " 'favorite',\n",
       " 'feel',\n",
       " 'felt',\n",
       " 'finally',\n",
       " 'fish',\n",
       " 'flavor',\n",
       " 'food',\n",
       " 'free',\n",
       " 'fresh',\n",
       " 'fried',\n",
       " 'friend',\n",
       " 'friendly',\n",
       " 'friends',\n",
       " 'fries',\n",
       " 'fun',\n",
       " 'gave',\n",
       " 'getting',\n",
       " 'going',\n",
       " 'good',\n",
       " 'got',\n",
       " 'great',\n",
       " 'half',\n",
       " 'happy',\n",
       " 'hard',\n",
       " 'having',\n",
       " 'helpful',\n",
       " 'high',\n",
       " 'highly',\n",
       " 'home',\n",
       " 'hot',\n",
       " 'hotel',\n",
       " 'hour',\n",
       " 'hours',\n",
       " 'house',\n",
       " 'huge',\n",
       " 'husband',\n",
       " 'ice',\n",
       " 'inside',\n",
       " 'items',\n",
       " 'job',\n",
       " 'just',\n",
       " 'kind',\n",
       " 'know',\n",
       " 'large',\n",
       " 'later',\n",
       " 'left',\n",
       " 'let',\n",
       " 'like',\n",
       " 'line',\n",
       " 'little',\n",
       " 'll',\n",
       " 'location',\n",
       " 'long',\n",
       " 'look',\n",
       " 'looked',\n",
       " 'looking',\n",
       " 'lot',\n",
       " 'love',\n",
       " 'loved',\n",
       " 'lunch',\n",
       " 'make',\n",
       " 'manager',\n",
       " 'maybe',\n",
       " 'meal',\n",
       " 'meat',\n",
       " 'menu',\n",
       " 'minutes',\n",
       " 'money',\n",
       " 'need',\n",
       " 'needed',\n",
       " 'new',\n",
       " 'ni',\n",
       " 'nice',\n",
       " 'night',\n",
       " 'nthe',\n",
       " 'nwe',\n",
       " 'ok',\n",
       " 'old',\n",
       " 'open',\n",
       " 'options',\n",
       " 'order',\n",
       " 'ordered',\n",
       " 'outside',\n",
       " 'overall',\n",
       " 'pay',\n",
       " 'people',\n",
       " 'perfect',\n",
       " 'person',\n",
       " 'pizza',\n",
       " 'place',\n",
       " 'places',\n",
       " 'point',\n",
       " 'pork',\n",
       " 'pretty',\n",
       " 'price',\n",
       " 'prices',\n",
       " 'probably',\n",
       " 'quality',\n",
       " 'quick',\n",
       " 'quite',\n",
       " 'really',\n",
       " 'recommend',\n",
       " 'restaurant',\n",
       " 'restaurants',\n",
       " 'review',\n",
       " 'reviews',\n",
       " 'rice',\n",
       " 'right',\n",
       " 'room',\n",
       " 'said',\n",
       " 'salad',\n",
       " 'sandwich',\n",
       " 'sauce',\n",
       " 'say',\n",
       " 'selection',\n",
       " 'served',\n",
       " 'server',\n",
       " 'service',\n",
       " 'shrimp',\n",
       " 'small',\n",
       " 'soup',\n",
       " 'special',\n",
       " 'spicy',\n",
       " 'spot',\n",
       " 'staff',\n",
       " 'star',\n",
       " 'stars',\n",
       " 'stay',\n",
       " 'steak',\n",
       " 'store',\n",
       " 'strip',\n",
       " 'super',\n",
       " 'sure',\n",
       " 'sushi',\n",
       " 'sweet',\n",
       " 'table',\n",
       " 'tables',\n",
       " 'taste',\n",
       " 'tasted',\n",
       " 'tasty',\n",
       " 'tea',\n",
       " 'tell',\n",
       " 'thing',\n",
       " 'things',\n",
       " 'think',\n",
       " 'thought',\n",
       " 'time',\n",
       " 'times',\n",
       " 'told',\n",
       " 'took',\n",
       " 'town',\n",
       " 'tried',\n",
       " 'try',\n",
       " 'trying',\n",
       " 'use',\n",
       " 'used',\n",
       " 'usually',\n",
       " 've',\n",
       " 'vegas',\n",
       " 'visit',\n",
       " 'wait',\n",
       " 'waiting',\n",
       " 'waitress',\n",
       " 'want',\n",
       " 'wanted',\n",
       " 'wasn',\n",
       " 'water',\n",
       " 'way',\n",
       " 'week',\n",
       " 'went',\n",
       " 'wine',\n",
       " 'won',\n",
       " 'wonderful',\n",
       " 'work',\n",
       " 'worth',\n",
       " 'xc3',\n",
       " 'years']"
      ]
     },
     "execution_count": 24,
     "metadata": {},
     "output_type": "execute_result"
    }
   ],
   "source": [
    "#obtain tfidf score for reviews\n",
    "vectorizer = sk_text.TfidfVectorizer(stop_words='english', max_features=250, min_df=10)\n",
    "\n",
    "reviews_matrix_train = vectorizer.fit_transform(x_train['all_reviews'])\n",
    "reviews_tfidf_train = reviews_matrix_train.toarray()\n",
    "\n",
    "reviews_matrix_test = vectorizer.transform(x_test['all_reviews'])\n",
    "reviews_tfidf_test = reviews_matrix_test.toarray()\n",
    "\n",
    "vectorizer.get_feature_names()"
   ]
  },
  {
   "cell_type": "code",
   "execution_count": 25,
   "metadata": {},
   "outputs": [
    {
     "data": {
      "text/plain": [
       "['10',\n",
       " '15',\n",
       " '20',\n",
       " '30',\n",
       " '50',\n",
       " '99',\n",
       " 'absolutely',\n",
       " 'amazing',\n",
       " 'area',\n",
       " 'ask',\n",
       " 'atmosphere',\n",
       " 'authentic',\n",
       " 'away',\n",
       " 'awesome',\n",
       " 'bad',\n",
       " 'bar',\n",
       " 'bbq',\n",
       " 'beautiful',\n",
       " 'beef',\n",
       " 'beer',\n",
       " 'best',\n",
       " 'better',\n",
       " 'big',\n",
       " 'bit',\n",
       " 'bomb',\n",
       " 'bread',\n",
       " 'breakfast',\n",
       " 'bring',\n",
       " 'brunch',\n",
       " 'buffet',\n",
       " 'burger',\n",
       " 'burgers',\n",
       " 'business',\n",
       " 'busy',\n",
       " 'buy',\n",
       " 'came',\n",
       " 'car',\n",
       " 'card',\n",
       " 'cash',\n",
       " 'cheap',\n",
       " 'check',\n",
       " 'cheese',\n",
       " 'chicken',\n",
       " 'chips',\n",
       " 'chocolate',\n",
       " 'clean',\n",
       " 'close',\n",
       " 'closed',\n",
       " 'coffee',\n",
       " 'cold',\n",
       " 'come',\n",
       " 'coming',\n",
       " 'cool',\n",
       " 'cream',\n",
       " 'customer',\n",
       " 'day',\n",
       " 'deal',\n",
       " 'decent',\n",
       " 'definitely',\n",
       " 'delicious',\n",
       " 'did',\n",
       " 'didn',\n",
       " 'dinner',\n",
       " 'does',\n",
       " 'don',\n",
       " 'drink',\n",
       " 'drinks',\n",
       " 'drive',\n",
       " 'early',\n",
       " 'eat',\n",
       " 'enjoy',\n",
       " 'excellent',\n",
       " 'experience',\n",
       " 'extra',\n",
       " 'family',\n",
       " 'fantastic',\n",
       " 'far',\n",
       " 'fast',\n",
       " 'favorite',\n",
       " 'feel',\n",
       " 'fish',\n",
       " 'flavor',\n",
       " 'food',\n",
       " 'free',\n",
       " 'fresh',\n",
       " 'friday',\n",
       " 'fried',\n",
       " 'friendly',\n",
       " 'friends',\n",
       " 'fries',\n",
       " 'fun',\n",
       " 'getting',\n",
       " 'going',\n",
       " 'good',\n",
       " 'got',\n",
       " 'great',\n",
       " 'green',\n",
       " 'half',\n",
       " 'happy',\n",
       " 'helpful',\n",
       " 'highly',\n",
       " 'home',\n",
       " 'horrible',\n",
       " 'hot',\n",
       " 'hour',\n",
       " 'hours',\n",
       " 'house',\n",
       " 'huge',\n",
       " 'ice',\n",
       " 'inside',\n",
       " 'job',\n",
       " 'just',\n",
       " 'kids',\n",
       " 'know',\n",
       " 'large',\n",
       " 'las',\n",
       " 'late',\n",
       " 'let',\n",
       " 'like',\n",
       " 'line',\n",
       " 'little',\n",
       " 'live',\n",
       " 'll',\n",
       " 'local',\n",
       " 'location',\n",
       " 'lol',\n",
       " 'long',\n",
       " 'look',\n",
       " 'looking',\n",
       " 'lot',\n",
       " 'lots',\n",
       " 'love',\n",
       " 'loved',\n",
       " 'lunch',\n",
       " 'make',\n",
       " 'meal',\n",
       " 'meat',\n",
       " 'menu',\n",
       " 'mexican',\n",
       " 'minutes',\n",
       " 'money',\n",
       " 'music',\n",
       " 'need',\n",
       " 'new',\n",
       " 'nice',\n",
       " 'night',\n",
       " 'ok',\n",
       " 'old',\n",
       " 'open',\n",
       " 'options',\n",
       " 'order',\n",
       " 'ordered',\n",
       " 'outside',\n",
       " 'parking',\n",
       " 'patio',\n",
       " 'pay',\n",
       " 'people',\n",
       " 'perfect',\n",
       " 'pho',\n",
       " 'pizza',\n",
       " 'place',\n",
       " 'pork',\n",
       " 'portions',\n",
       " 'pretty',\n",
       " 'price',\n",
       " 'prices',\n",
       " 'quality',\n",
       " 'quick',\n",
       " 'really',\n",
       " 'recommend',\n",
       " 'red',\n",
       " 'restaurant',\n",
       " 'rice',\n",
       " 'right',\n",
       " 'roll',\n",
       " 'rolls',\n",
       " 'room',\n",
       " 'rude',\n",
       " 'said',\n",
       " 'salad',\n",
       " 'sandwich',\n",
       " 'sauce',\n",
       " 'say',\n",
       " 'selection',\n",
       " 'server',\n",
       " 'service',\n",
       " 'shop',\n",
       " 'shrimp',\n",
       " 'slow',\n",
       " 'small',\n",
       " 'soup',\n",
       " 'special',\n",
       " 'specials',\n",
       " 'spicy',\n",
       " 'spot',\n",
       " 'staff',\n",
       " 'stay',\n",
       " 'steak',\n",
       " 'stop',\n",
       " 'store',\n",
       " 'style',\n",
       " 'sunday',\n",
       " 'super',\n",
       " 'sure',\n",
       " 'sushi',\n",
       " 'sweet',\n",
       " 'table',\n",
       " 'tacos',\n",
       " 'taste',\n",
       " 'tasty',\n",
       " 'tea',\n",
       " 'terrible',\n",
       " 'thai',\n",
       " 'thank',\n",
       " 'thanks',\n",
       " 'think',\n",
       " 'time',\n",
       " 'times',\n",
       " 'tip',\n",
       " 'today',\n",
       " 'tonight',\n",
       " 'took',\n",
       " 'town',\n",
       " 'tried',\n",
       " 'try',\n",
       " 'use',\n",
       " 've',\n",
       " 'vegas',\n",
       " 'visit',\n",
       " 'wait',\n",
       " 'waiting',\n",
       " 'want',\n",
       " 'water',\n",
       " 'way',\n",
       " 'week',\n",
       " 'went',\n",
       " 'wine',\n",
       " 'wings',\n",
       " 'won',\n",
       " 'wonderful',\n",
       " 'work',\n",
       " 'worst',\n",
       " 'worth',\n",
       " 'wow',\n",
       " 'wrong',\n",
       " 'xc3',\n",
       " 'xe5',\n",
       " 'yelp',\n",
       " 'yum',\n",
       " 'yummy']"
      ]
     },
     "execution_count": 25,
     "metadata": {},
     "output_type": "execute_result"
    }
   ],
   "source": [
    "#obtain tfidf score for tips\n",
    "vectorizer = sk_text.TfidfVectorizer(stop_words='english', max_features=250, min_df=10)\n",
    "\n",
    "tips_matrix_train = vectorizer.fit_transform(x_train['all_tips'])\n",
    "tips_tfidf_train = tips_matrix_train.toarray()\n",
    "\n",
    "tips_matrix_test = vectorizer.transform(x_test['all_tips'])\n",
    "tips_tfidf_test = tips_matrix_test.toarray()\n",
    "\n",
    "vectorizer.get_feature_names()"
   ]
  },
  {
   "cell_type": "code",
   "execution_count": 26,
   "metadata": {},
   "outputs": [
    {
     "data": {
      "text/plain": [
       "(13665, 501)"
      ]
     },
     "execution_count": 26,
     "metadata": {},
     "output_type": "execute_result"
    }
   ],
   "source": [
    "temp = x_train['review_count_zscore'].values\n",
    "input_data_train = np.column_stack((reviews_tfidf_train, tips_tfidf_train))\n",
    "input_data_train = np.column_stack((input_data_train, temp))\n",
    "input_data_train.shape\n",
    "\n",
    "temp = x_test['review_count_zscore'].values\n",
    "input_data_test = np.column_stack((reviews_tfidf_test, tips_tfidf_test))\n",
    "input_data_test = np.column_stack((input_data_test, temp))\n",
    "input_data_test.shape"
   ]
  },
  {
   "cell_type": "code",
   "execution_count": 34,
   "metadata": {},
   "outputs": [],
   "source": [
    "#convert into dataframe\n",
    "df_train = pd.DataFrame(input_data_train)\n",
    "df_test = pd.DataFrame(input_data_test)\n",
    "df_train['encoded_stars'] = y_train\n",
    "df_test['encoded_stars'] = y_test\n",
    "missing_median(df_train, 'encoded_stars')\n",
    "missing_median(df_test, 'encoded_stars')"
   ]
  },
  {
   "cell_type": "code",
   "execution_count": 48,
   "metadata": {},
   "outputs": [
    {
     "name": "stdout",
     "output_type": "stream",
     "text": [
      "(40992, 502)\n"
     ]
    },
    {
     "data": {
      "text/html": [
       "<div>\n",
       "<style scoped>\n",
       "    .dataframe tbody tr th:only-of-type {\n",
       "        vertical-align: middle;\n",
       "    }\n",
       "\n",
       "    .dataframe tbody tr th {\n",
       "        vertical-align: top;\n",
       "    }\n",
       "\n",
       "    .dataframe thead th {\n",
       "        text-align: right;\n",
       "    }\n",
       "</style>\n",
       "<table border=\"1\" class=\"dataframe\">\n",
       "  <thead>\n",
       "    <tr style=\"text-align: right;\">\n",
       "      <th></th>\n",
       "      <th>0</th>\n",
       "      <th>1</th>\n",
       "      <th>2</th>\n",
       "      <th>3</th>\n",
       "      <th>4</th>\n",
       "      <th>5</th>\n",
       "      <th>6</th>\n",
       "      <th>7</th>\n",
       "      <th>8</th>\n",
       "      <th>9</th>\n",
       "      <th>...</th>\n",
       "      <th>492</th>\n",
       "      <th>493</th>\n",
       "      <th>494</th>\n",
       "      <th>495</th>\n",
       "      <th>496</th>\n",
       "      <th>497</th>\n",
       "      <th>498</th>\n",
       "      <th>499</th>\n",
       "      <th>500</th>\n",
       "      <th>encoded_stars</th>\n",
       "    </tr>\n",
       "  </thead>\n",
       "  <tbody>\n",
       "    <tr>\n",
       "      <th>0</th>\n",
       "      <td>0.015470</td>\n",
       "      <td>0.000000</td>\n",
       "      <td>0.000000</td>\n",
       "      <td>0.000000</td>\n",
       "      <td>0.000000</td>\n",
       "      <td>0.008722</td>\n",
       "      <td>0.008023</td>\n",
       "      <td>0.038333</td>\n",
       "      <td>0.000000</td>\n",
       "      <td>0.016279</td>\n",
       "      <td>...</td>\n",
       "      <td>0.000000</td>\n",
       "      <td>0.000000</td>\n",
       "      <td>0.000000</td>\n",
       "      <td>0.0</td>\n",
       "      <td>0.0</td>\n",
       "      <td>0.000000</td>\n",
       "      <td>0.0</td>\n",
       "      <td>0.0</td>\n",
       "      <td>-0.374402</td>\n",
       "      <td>5.0</td>\n",
       "    </tr>\n",
       "    <tr>\n",
       "      <th>1</th>\n",
       "      <td>0.026053</td>\n",
       "      <td>0.039063</td>\n",
       "      <td>0.025437</td>\n",
       "      <td>0.051188</td>\n",
       "      <td>0.042569</td>\n",
       "      <td>0.020985</td>\n",
       "      <td>0.019302</td>\n",
       "      <td>0.014756</td>\n",
       "      <td>0.007397</td>\n",
       "      <td>0.050916</td>\n",
       "      <td>...</td>\n",
       "      <td>0.000000</td>\n",
       "      <td>0.180343</td>\n",
       "      <td>0.000000</td>\n",
       "      <td>0.0</td>\n",
       "      <td>0.0</td>\n",
       "      <td>0.174842</td>\n",
       "      <td>0.0</td>\n",
       "      <td>0.0</td>\n",
       "      <td>-0.021752</td>\n",
       "      <td>5.0</td>\n",
       "    </tr>\n",
       "    <tr>\n",
       "      <th>2</th>\n",
       "      <td>0.000000</td>\n",
       "      <td>0.050186</td>\n",
       "      <td>0.024510</td>\n",
       "      <td>0.049322</td>\n",
       "      <td>0.024610</td>\n",
       "      <td>0.024264</td>\n",
       "      <td>0.044636</td>\n",
       "      <td>0.000000</td>\n",
       "      <td>0.021381</td>\n",
       "      <td>0.022643</td>\n",
       "      <td>...</td>\n",
       "      <td>0.000000</td>\n",
       "      <td>0.000000</td>\n",
       "      <td>0.000000</td>\n",
       "      <td>0.0</td>\n",
       "      <td>0.0</td>\n",
       "      <td>0.000000</td>\n",
       "      <td>0.0</td>\n",
       "      <td>0.0</td>\n",
       "      <td>-0.423993</td>\n",
       "      <td>6.0</td>\n",
       "    </tr>\n",
       "    <tr>\n",
       "      <th>3</th>\n",
       "      <td>0.007468</td>\n",
       "      <td>0.005806</td>\n",
       "      <td>0.008506</td>\n",
       "      <td>0.002853</td>\n",
       "      <td>0.011388</td>\n",
       "      <td>0.019649</td>\n",
       "      <td>0.012909</td>\n",
       "      <td>0.044409</td>\n",
       "      <td>0.034628</td>\n",
       "      <td>0.005239</td>\n",
       "      <td>...</td>\n",
       "      <td>0.000000</td>\n",
       "      <td>0.000000</td>\n",
       "      <td>0.073175</td>\n",
       "      <td>0.0</td>\n",
       "      <td>0.0</td>\n",
       "      <td>0.000000</td>\n",
       "      <td>0.0</td>\n",
       "      <td>0.0</td>\n",
       "      <td>0.055390</td>\n",
       "      <td>6.0</td>\n",
       "    </tr>\n",
       "    <tr>\n",
       "      <th>4</th>\n",
       "      <td>0.005317</td>\n",
       "      <td>0.000000</td>\n",
       "      <td>0.006057</td>\n",
       "      <td>0.000000</td>\n",
       "      <td>0.021285</td>\n",
       "      <td>0.005996</td>\n",
       "      <td>0.024818</td>\n",
       "      <td>0.018446</td>\n",
       "      <td>0.015851</td>\n",
       "      <td>0.041966</td>\n",
       "      <td>...</td>\n",
       "      <td>0.053099</td>\n",
       "      <td>0.000000</td>\n",
       "      <td>0.000000</td>\n",
       "      <td>0.0</td>\n",
       "      <td>0.0</td>\n",
       "      <td>0.000000</td>\n",
       "      <td>0.0</td>\n",
       "      <td>0.0</td>\n",
       "      <td>0.016819</td>\n",
       "      <td>5.0</td>\n",
       "    </tr>\n",
       "  </tbody>\n",
       "</table>\n",
       "<p>5 rows × 502 columns</p>\n",
       "</div>"
      ],
      "text/plain": [
       "          0         1         2         3         4         5         6  \\\n",
       "0  0.015470  0.000000  0.000000  0.000000  0.000000  0.008722  0.008023   \n",
       "1  0.026053  0.039063  0.025437  0.051188  0.042569  0.020985  0.019302   \n",
       "2  0.000000  0.050186  0.024510  0.049322  0.024610  0.024264  0.044636   \n",
       "3  0.007468  0.005806  0.008506  0.002853  0.011388  0.019649  0.012909   \n",
       "4  0.005317  0.000000  0.006057  0.000000  0.021285  0.005996  0.024818   \n",
       "\n",
       "          7         8         9  ...       492       493       494  495  496  \\\n",
       "0  0.038333  0.000000  0.016279  ...  0.000000  0.000000  0.000000  0.0  0.0   \n",
       "1  0.014756  0.007397  0.050916  ...  0.000000  0.180343  0.000000  0.0  0.0   \n",
       "2  0.000000  0.021381  0.022643  ...  0.000000  0.000000  0.000000  0.0  0.0   \n",
       "3  0.044409  0.034628  0.005239  ...  0.000000  0.000000  0.073175  0.0  0.0   \n",
       "4  0.018446  0.015851  0.041966  ...  0.053099  0.000000  0.000000  0.0  0.0   \n",
       "\n",
       "        497  498  499       500  encoded_stars  \n",
       "0  0.000000  0.0  0.0 -0.374402            5.0  \n",
       "1  0.174842  0.0  0.0 -0.021752            5.0  \n",
       "2  0.000000  0.0  0.0 -0.423993            6.0  \n",
       "3  0.000000  0.0  0.0  0.055390            6.0  \n",
       "4  0.000000  0.0  0.0  0.016819            5.0  \n",
       "\n",
       "[5 rows x 502 columns]"
      ]
     },
     "execution_count": 48,
     "metadata": {},
     "output_type": "execute_result"
    }
   ],
   "source": [
    "print(df_train.shape)\n",
    "df_train.head()"
   ]
  },
  {
   "cell_type": "code",
   "execution_count": 42,
   "metadata": {},
   "outputs": [],
   "source": [
    "x_train_tf,y_train_tf = to_xy(df_train,'encoded_stars')"
   ]
  },
  {
   "cell_type": "code",
   "execution_count": 51,
   "metadata": {},
   "outputs": [],
   "source": [
    "x_test_tf,y_test_tf = to_xy(df_test,'encoded_stars')"
   ]
  },
  {
   "cell_type": "markdown",
   "metadata": {},
   "source": [
    "# Tensorflow"
   ]
  },
  {
   "cell_type": "code",
   "execution_count": 50,
   "metadata": {},
   "outputs": [],
   "source": [
    "from keras.models import Sequential\n",
    "from keras.layers.core import Dense, Activation\n",
    "from keras.callbacks import EarlyStopping\n",
    "from keras.callbacks import ModelCheckpoint\n",
    "from keras import optimizers"
   ]
  },
  {
   "cell_type": "code",
   "execution_count": 53,
   "metadata": {},
   "outputs": [
    {
     "name": "stdout",
     "output_type": "stream",
     "text": [
      "Train on 40992 samples, validate on 13665 samples\n",
      "Epoch 1/1000\n",
      " - 5s - loss: 2.2889 - val_loss: 0.6606\n",
      "Epoch 2/1000\n",
      " - 5s - loss: 1.8741 - val_loss: 0.7530\n",
      "Epoch 3/1000\n",
      " - 5s - loss: 1.8288 - val_loss: 0.6542\n",
      "Epoch 4/1000\n",
      " - 5s - loss: 1.8086 - val_loss: 0.6526\n",
      "Epoch 5/1000\n",
      " - 5s - loss: 1.7790 - val_loss: 0.8803\n",
      "Epoch 6/1000\n",
      " - 5s - loss: 1.7336 - val_loss: 0.7170\n",
      "Epoch 7/1000\n",
      " - 5s - loss: 1.6856 - val_loss: 0.8002\n",
      "Epoch 8/1000\n",
      " - 5s - loss: 1.6189 - val_loss: 0.8295\n",
      "Epoch 9/1000\n",
      " - 5s - loss: 1.5575 - val_loss: 0.9083\n",
      "Epoch 00009: early stopping\n"
     ]
    },
    {
     "data": {
      "text/plain": [
       "<keras.callbacks.History at 0x1b263669e10>"
      ]
     },
     "execution_count": 53,
     "metadata": {},
     "output_type": "execute_result"
    }
   ],
   "source": [
    "model = Sequential()\n",
    "\n",
    "model.add(Dense(50, input_dim=x_train_tf.shape[1], activation='relu')) # Hidden 1     #  why input_dim=x.shape[1]?  \n",
    "model.add(Dense(200, activation='relu')) # Hidden 2\n",
    "model.add(Dense(100, activation='relu')) # Hidden 3\n",
    "model.add(Dense(10, activation='relu')) # Hidden 4\n",
    "model.add(Dense(1)) # Output\n",
    "\n",
    "model.compile(loss='mean_squared_error', optimizer='adam')\n",
    "\n",
    "monitor = EarlyStopping(monitor='val_loss', min_delta=1e-3, patience=5, verbose=1, mode='auto')\n",
    "checkpointer = ModelCheckpoint(filepath=\".\\lowest_error.hdf5\", verbose=0, save_best_only=True) # save best model\n",
    "\n",
    "\n",
    "model.fit(x_train_tf,y_train_tf, validation_data=(x_test_tf,y_test_tf), callbacks=[monitor,checkpointer],verbose=2,epochs=1000)    # Verbosity mode. 0 = silent, 1 = progress bar, 2 = one line per epoch.\n"
   ]
  },
  {
   "cell_type": "code",
   "execution_count": null,
   "metadata": {},
   "outputs": [],
   "source": [
    "pred = model.predict(x_test)\n",
    "print(\"Shape: {}\".format(pred.shape))\n",
    "print(pred)"
   ]
  },
  {
   "cell_type": "code",
   "execution_count": null,
   "metadata": {},
   "outputs": [],
   "source": [
    "score = np.sqrt(metrics.mean_squared_error(pred,y_test))\n",
    "print(\"Final score (RMSE): {}\".format(score))"
   ]
  },
  {
   "cell_type": "code",
   "execution_count": null,
   "metadata": {},
   "outputs": [],
   "source": [
    "# Plot the chart\n",
    "chart_regression(pred.flatten(),y_test)"
   ]
  },
  {
   "cell_type": "markdown",
   "metadata": {},
   "source": [
    "### Use tfidfVectorizer to obtain TFIDF representation for each business"
   ]
  },
  {
   "cell_type": "code",
   "execution_count": null,
   "metadata": {},
   "outputs": [],
   "source": [
    "#obtain tfidf score for reviews\n",
    "vectorizer = sk_text.TfidfVectorizer(max_features=250, min_df=10)\n",
    "\n",
    "reviews_matrix = vectorizer.fit_transform(df_ready_for_sklearn['all_reviews'])\n",
    "\n",
    "reviews_tfidf = reviews_matrix.toarray()"
   ]
  },
  {
   "cell_type": "code",
   "execution_count": null,
   "metadata": {},
   "outputs": [],
   "source": [
    "print(reviews_tfidf.shape)\n",
    "vectorizer.get_feature_names()"
   ]
  },
  {
   "cell_type": "code",
   "execution_count": null,
   "metadata": {},
   "outputs": [],
   "source": [
    "#obtain tfidf score for tips\n",
    "vectorizer = sk_text.TfidfVectorizer(max_features=250, min_df=10)\n",
    "\n",
    "tips_matrix = vectorizer.fit_transform(df_ready_for_sklearn['all_tips'])\n",
    "\n",
    "tips_tfidf = tips_matrix.toarray()"
   ]
  },
  {
   "cell_type": "code",
   "execution_count": null,
   "metadata": {},
   "outputs": [],
   "source": [
    "print(tips_tfidf[0:5])\n",
    "vectorizer.get_feature_names()"
   ]
  },
  {
   "cell_type": "markdown",
   "metadata": {},
   "source": [
    "# Linear Regression"
   ]
  },
  {
   "cell_type": "markdown",
   "metadata": {},
   "source": [
    "Preparing data for training/testing"
   ]
  },
  {
   "cell_type": "code",
   "execution_count": null,
   "metadata": {},
   "outputs": [],
   "source": [
    "#Merge reviews_tfidf, tips_tfidf and review_count into one array for input\n",
    "temp = df_ready_for_sklearn['review_count_zscore'].values\n",
    "input_data = np.column_stack((reviews_tfidf, tips_tfidf))\n",
    "input_data = np.column_stack((input_data, temp))\n",
    "input_data.shape"
   ]
  },
  {
   "cell_type": "code",
   "execution_count": null,
   "metadata": {},
   "outputs": [],
   "source": [
    "#split into train/test data\n",
    "x_train, x_test, y_train, y_test = train_test_split(input_data, df_ready_for_sklearn['stars'], test_size=0.25, random_state=43)"
   ]
  },
  {
   "cell_type": "code",
   "execution_count": null,
   "metadata": {},
   "outputs": [],
   "source": [
    "test_data = input_data[test_loc[0]]\n",
    "for i in range(1, len(test_loc)):\n",
    "    test_data = np.append(test_data, input_data[test_loc[i]], axis=0)\n",
    "test_data.shape"
   ]
  },
  {
   "cell_type": "code",
   "execution_count": null,
   "metadata": {},
   "outputs": [],
   "source": [
    "print(x_train.shape)\n",
    "print(x_test.shape)\n",
    "print(y_train.shape)\n",
    "print(y_test.shape)"
   ]
  },
  {
   "cell_type": "code",
   "execution_count": null,
   "metadata": {},
   "outputs": [],
   "source": [
    "from sklearn.linear_model import LinearRegression\n",
    "\n",
    "# instantiate the model (using the default parameters)\n",
    "linreg = LinearRegression()\n",
    "\n",
    "# fit the model with data\n",
    "linreg.fit(x_train, y_train)\n",
    "\n",
    "# predict the response for new observations\n",
    "y_pred_Linear = linreg.predict(test_data)"
   ]
  },
  {
   "cell_type": "code",
   "execution_count": null,
   "metadata": {},
   "outputs": [],
   "source": [
    "print(\"Prediction result: \")\n",
    "print(\"Business ID                         Categories             Predicted Star Rating         True Star Rating\")\n",
    "for i in range(5):\n",
    "    print(\"{:.20}             {:.23}         {:.5}                         {}\".format(test_businesses[i]['business_id'], test_businesses[i]['categories'], y_pred_Linear[i], test_true_stars[i]))"
   ]
  },
  {
   "cell_type": "markdown",
   "metadata": {},
   "source": [
    "### Support Vector Machine"
   ]
  },
  {
   "cell_type": "code",
   "execution_count": null,
   "metadata": {},
   "outputs": [],
   "source": [
    "#split into train/test data\n",
    "#using encoded stars because classification problem\n",
    "x_train, x_test, y_train, y_test = train_test_split(input_data, df_ready_for_sklearn['encoded_stars'], test_size=0.25, random_state=43)"
   ]
  },
  {
   "cell_type": "code",
   "execution_count": null,
   "metadata": {},
   "outputs": [],
   "source": [
    "print(x_train.shape)\n",
    "print(x_test.shape)\n",
    "print(y_train.shape)\n",
    "print(y_test.shape)"
   ]
  },
  {
   "cell_type": "code",
   "execution_count": null,
   "metadata": {},
   "outputs": [],
   "source": [
    "from sklearn.svm import LinearSVC\n",
    "\n",
    "clf = LinearSVC(dual=False)\n",
    "clf.fit(x_train, y_train)\n",
    "\n",
    "y_pred_SVM = clf.predict(test_data)"
   ]
  },
  {
   "cell_type": "code",
   "execution_count": null,
   "metadata": {},
   "outputs": [],
   "source": [
    "y_pred_SVM = le.inverse_transform(y_pred_SVM)\n",
    "print(\"Prediction result: \")\n",
    "print(\"Business ID                         Categories             Predicted Star Rating         True Star Rating\")\n",
    "for i in range(5):\n",
    "    print(\"{:.20}             {:.23}         {:.5}                         {}\".format(test_businesses[i]['business_id'], test_businesses[i]['categories'], y_pred_SVM[i], test_true_stars[i]))"
   ]
  },
  {
   "cell_type": "markdown",
   "metadata": {},
   "source": [
    "### Logistic Regression"
   ]
  },
  {
   "cell_type": "code",
   "execution_count": null,
   "metadata": {},
   "outputs": [],
   "source": [
    "from sklearn.linear_model import LogisticRegression\n",
    "\n",
    "# instantiate the model (using the default parameters)\n",
    "logreg = LogisticRegression()\n",
    "\n",
    "# fit the model with data\n",
    "logreg.fit(x_train, y_train)\n",
    "\n",
    "# predict the response for new observations\n",
    "y_pred_Logistic = logreg.predict(test_data)"
   ]
  },
  {
   "cell_type": "code",
   "execution_count": null,
   "metadata": {},
   "outputs": [],
   "source": [
    "y_pred_Logistic = le.inverse_transform(y_pred_Logistic)\n",
    "print(\"Prediction result: \")\n",
    "print(\"Business ID                         Categories             Predicted Star Rating         True Star Rating\")\n",
    "for i in range(5):\n",
    "    print(\"{:.20}             {:.23}         {:.5}                         {}\".format(test_businesses[i]['business_id'], test_businesses[i]['categories'], y_pred_Logistic[i], test_true_stars[i]))"
   ]
  },
  {
   "cell_type": "markdown",
   "metadata": {},
   "source": [
    "### Nearest Neighbor"
   ]
  },
  {
   "cell_type": "code",
   "execution_count": null,
   "metadata": {},
   "outputs": [],
   "source": [
    "from sklearn.neighbors import KNeighborsClassifier\n",
    "\n",
    "# instantiate the model (using the value K=10)\n",
    "knn = KNeighborsClassifier(n_neighbors=10)\n",
    "\n",
    "# fit the model with data\n",
    "knn.fit(x_train, y_train)"
   ]
  },
  {
   "cell_type": "code",
   "execution_count": null,
   "metadata": {},
   "outputs": [],
   "source": [
    "# predict the response for new observations\n",
    "y_neighbor = knn.predict(test_data)"
   ]
  },
  {
   "cell_type": "code",
   "execution_count": null,
   "metadata": {},
   "outputs": [],
   "source": [
    "y_neighbor = le.inverse_transform(y_neighbor)\n",
    "print(\"Prediction result: \")\n",
    "print(\"Business ID                         Categories             Predicted Star Rating         True Star Rating\")\n",
    "for i in range(5):\n",
    "    print(\"{:.20}             {:.23}         {:.5}                         {}\".format(test_businesses[i]['business_id'], test_businesses[i]['categories'], y_neighbor[i], test_true_stars[i]))"
   ]
  },
  {
   "cell_type": "markdown",
   "metadata": {},
   "source": [
    "### Multinomial Naive Bayes"
   ]
  },
  {
   "cell_type": "code",
   "execution_count": null,
   "metadata": {},
   "outputs": [],
   "source": [
    "from sklearn.preprocessing import MinMaxScaler\n",
    "\n",
    "scaler = MinMaxScaler()\n",
    "\n",
    "temp = scaler.fit_transform(df_ready_for_sklearn['review_count'].values.reshape(1, -1))\n",
    "\n",
    "input_data_MNB = np.column_stack((reviews_tfidf, tips_tfidf))\n",
    "input_data_MNB = np.column_stack((input_data_MNB, temp.reshape(-1,1)))\n",
    "\n",
    "input_data_MNB"
   ]
  },
  {
   "cell_type": "code",
   "execution_count": null,
   "metadata": {},
   "outputs": [],
   "source": [
    "test_data = input_data_MNB[test_loc[0]]\n",
    "for i in range(1, len(test_loc)):\n",
    "    test_data = np.append(test_data, input_data_MNB[test_loc[i]], axis=0)\n",
    "test_data.shape"
   ]
  },
  {
   "cell_type": "code",
   "execution_count": null,
   "metadata": {},
   "outputs": [],
   "source": [
    "x_train, x_test, y_train, y_test = train_test_split(input_data_MNB, df_ready_for_sklearn['encoded_stars'], test_size=0.25, random_state=43)"
   ]
  },
  {
   "cell_type": "code",
   "execution_count": null,
   "metadata": {},
   "outputs": [],
   "source": [
    "from sklearn.naive_bayes import MultinomialNB\n",
    "\n",
    "# instantiate the model (using the default parameters)\n",
    "mnb = MultinomialNB()\n",
    "\n",
    "# fit the model with data\n",
    "mnb.fit(x_train, y_train)\n",
    "\n",
    "# predict the response for new observations\n",
    "y_mnb = mnb.predict(test_data)"
   ]
  },
  {
   "cell_type": "code",
   "execution_count": null,
   "metadata": {
    "scrolled": false
   },
   "outputs": [],
   "source": [
    "y_mnb = le.inverse_transform(y_mnb)\n",
    "print(\"Prediction result: \")\n",
    "print(\"Business ID                         Categories             Predicted Star Rating         True Star Rating\")\n",
    "for i in range(5):\n",
    "    print(\"{:.20}             {:.23}         {:.5}                         {}\".format(test_businesses[i]['business_id'], test_businesses[i]['categories'], y_mnb[i], test_true_stars[i]))"
   ]
  },
  {
   "cell_type": "markdown",
   "metadata": {},
   "source": [
    "# TensorFlow"
   ]
  },
  {
   "cell_type": "code",
   "execution_count": 49,
   "metadata": {},
   "outputs": [
    {
     "name": "stderr",
     "output_type": "stream",
     "text": [
      "Using TensorFlow backend.\n"
     ]
    }
   ],
   "source": [
    "from keras.models import Sequential\n",
    "from keras.layers.core import Dense, Activation\n",
    "from keras.callbacks import EarlyStopping\n",
    "from keras.callbacks import ModelCheckpoint\n",
    "from keras import optimizers"
   ]
  },
  {
   "cell_type": "code",
   "execution_count": null,
   "metadata": {},
   "outputs": [],
   "source": [
    "#obtain tfidf score for reviews\n",
    "vectorizer = sk_text.TfidfVectorizer(stop_words='english', max_features=250, min_df=10)\n",
    "\n",
    "reviews_matrix_train = vectorizer.fit_transform(x_train['all_reviews'])\n",
    "reviews_tfidf_train = reviews_matrix_train.toarray()\n",
    "\n",
    "reviews_matrix_test = vectorizer.transform(x_test['all_reviews'])\n",
    "reviews_tfidf_test = reviews_matrix_test.toarray()\n",
    "\n",
    "vectorizer.get_feature_names()"
   ]
  },
  {
   "cell_type": "code",
   "execution_count": null,
   "metadata": {},
   "outputs": [],
   "source": [
    "#obtain tfidf score for tips\n",
    "vectorizer = sk_text.TfidfVectorizer(stop_words='english', max_features=250, min_df=10)\n",
    "\n",
    "tips_matrix_train = vectorizer.fit_transform(x_train['all_tips'])\n",
    "tips_tfidf_train = tips_matrix_train.toarray()\n",
    "\n",
    "tips_matrix_test = vectorizer.transform(x_test['all_tips'])\n",
    "tips_tfidf_test = tips_matrix_test.toarray()\n",
    "\n",
    "vectorizer.get_feature_names()"
   ]
  },
  {
   "cell_type": "code",
   "execution_count": null,
   "metadata": {},
   "outputs": [],
   "source": [
    "temp = x_train['review_count_zscore'].values\n",
    "input_data_train = np.column_stack((reviews_tfidf_train, tips_tfidf_train))\n",
    "input_data_train = np.column_stack((input_data_train, temp))\n",
    "input_data_train.shape\n",
    "\n",
    "temp = x_test['review_count_zscore'].values\n",
    "input_data_test = np.column_stack((reviews_tfidf_test, tips_tfidf_test))\n",
    "input_data_test = np.column_stack((input_data_test, temp))\n",
    "input_data_test.shape"
   ]
  },
  {
   "cell_type": "code",
   "execution_count": null,
   "metadata": {},
   "outputs": [],
   "source": [
    "df_train = pd.DataFrame(input_data_train)\n",
    "df_test = pd.DataFrame(input_data_test)\n",
    "df_train['encoded_stars'] = y_train\n",
    "df_test['encoded_stars'] = y_test\n",
    "missing_median(df_train, 'encoded_stars')\n",
    "missing_median(df_test, 'encoded_stars')"
   ]
  },
  {
   "cell_type": "code",
   "execution_count": null,
   "metadata": {},
   "outputs": [],
   "source": [
    "df_train.shape"
   ]
  },
  {
   "cell_type": "code",
   "execution_count": null,
   "metadata": {},
   "outputs": [],
   "source": [
    "y_train.shape"
   ]
  },
  {
   "cell_type": "code",
   "execution_count": null,
   "metadata": {},
   "outputs": [],
   "source": [
    "y_train.isnull().values.any()"
   ]
  },
  {
   "cell_type": "code",
   "execution_count": null,
   "metadata": {},
   "outputs": [],
   "source": [
    "x_train,y_train = to_xy(df_train,'encoded_stars')"
   ]
  },
  {
   "cell_type": "code",
   "execution_count": null,
   "metadata": {},
   "outputs": [],
   "source": [
    "# Encode to a 2D matrix for training\n",
    "x,y = to_xy(df_train,'stars')"
   ]
  },
  {
   "cell_type": "code",
   "execution_count": null,
   "metadata": {},
   "outputs": [],
   "source": [
    "x.shape"
   ]
  },
  {
   "cell_type": "code",
   "execution_count": null,
   "metadata": {},
   "outputs": [],
   "source": [
    "y.shape"
   ]
  },
  {
   "cell_type": "code",
   "execution_count": null,
   "metadata": {},
   "outputs": [],
   "source": [
    "x_train, x_test, y_train, y_test = train_test_split(x, y, test_size=0.25, random_state=43)"
   ]
  },
  {
   "cell_type": "code",
   "execution_count": null,
   "metadata": {},
   "outputs": [],
   "source": [
    "model = Sequential()\n",
    "\n",
    "model.add(Dense(501, input_dim=x_train.shape[1], activation='relu')) # Hidden 1     #  why input_dim=x.shape[1]?  \n",
    "model.add(Dense(200, activation='relu')) # Hidden 2\n",
    "model.add(Dense(100, activation='relu')) # Hidden 3\n",
    "model.add(Dense(10, activation='relu')) # Hidden 4\n",
    "model.add(Dense(1)) # Output\n",
    "\n",
    "model.compile(loss='mean_squared_error', optimizer='adam')\n",
    "\n",
    "monitor = EarlyStopping(monitor='loss', min_delta=1e-3, patience=3, verbose=1, mode='auto')\n",
    "checkpointer = ModelCheckpoint(filepath=\".\\lowest_error.hdf5\", verbose=0, save_best_only=True) # save best model\n",
    "\n",
    "\n",
    "model.fit(x_train,y_train,callbacks=[monitor,checkpointer],verbose=2,epochs=100)    # Verbosity mode. 0 = silent, 1 = progress bar, 2 = one line per epoch.\n"
   ]
  },
  {
   "cell_type": "code",
   "execution_count": null,
   "metadata": {},
   "outputs": [],
   "source": [
    "pred = model.predict(x_test)\n",
    "print(\"Shape: {}\".format(pred.shape))\n",
    "print(pred)"
   ]
  },
  {
   "cell_type": "code",
   "execution_count": null,
   "metadata": {},
   "outputs": [],
   "source": [
    "score = np.sqrt(metrics.mean_squared_error(pred,y_test))\n",
    "print(\"Final score (RMSE): {}\".format(score))"
   ]
  },
  {
   "cell_type": "code",
   "execution_count": null,
   "metadata": {},
   "outputs": [],
   "source": [
    "# Plot the chart\n",
    "chart_regression(pred.flatten(),y_test)"
   ]
  },
  {
   "cell_type": "code",
   "execution_count": null,
   "metadata": {},
   "outputs": [],
   "source": []
  }
 ],
 "metadata": {
  "kernelspec": {
   "display_name": "TensorFlow-GPU",
   "language": "python",
   "name": "tf-gpu"
  },
  "language_info": {
   "codemirror_mode": {
    "name": "ipython",
    "version": 3
   },
   "file_extension": ".py",
   "mimetype": "text/x-python",
   "name": "python",
   "nbconvert_exporter": "python",
   "pygments_lexer": "ipython3",
   "version": "3.6.8"
  }
 },
 "nbformat": 4,
 "nbformat_minor": 2
}
