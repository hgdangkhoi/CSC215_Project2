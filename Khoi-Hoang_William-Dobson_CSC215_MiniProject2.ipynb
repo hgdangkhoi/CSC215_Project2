{
 "cells": [
  {
   "cell_type": "markdown",
   "metadata": {},
   "source": [
    "## CSC 215 - Project 2\n",
    "### Khoi Hoang\n",
    "### William Dobson"
   ]
  },
  {
   "cell_type": "code",
   "execution_count": null,
   "metadata": {},
   "outputs": [],
   "source": [
    "import os\n",
    "import csv\n",
    "import json\n",
    "import numpy as np\n",
    "import pandas as pd\n",
    "from scipy.stats import zscore\n",
    "from sklearn import preprocessing\n",
    "from sklearn.model_selection import train_test_split\n",
    "from sklearn import metrics\n",
    "from matplotlib.pyplot import figure, show\n",
    "import matplotlib.pyplot as plt\n",
    "%matplotlib inline\n",
    "import collections\n",
    "import sklearn.feature_extraction.text as sk_text"
   ]
  },
  {
   "cell_type": "code",
   "execution_count": 2,
   "metadata": {},
   "outputs": [],
   "source": [
    "# Encode text values to dummy variables(i.e. [1,0,0],[0,1,0],[0,0,1] for red,green,blue)\n",
    "def encode_text_dummy(df, name):\n",
    "    dummies = pd.get_dummies(df[name])\n",
    "    for x in dummies.columns:\n",
    "        dummy_name = \"{}-{}\".format(name, x)\n",
    "        df[dummy_name] = dummies[x]\n",
    "    df.drop(name, axis=1, inplace=True)\n",
    "\n",
    "# Encode text values to indexes(i.e. [1],[2],[3] for red,green,blue).\n",
    "def encode_text_index(df, name):\n",
    "    le = preprocessing.LabelEncoder()\n",
    "    df[name] = le.fit_transform(df[name])\n",
    "    return le.classes_\n",
    "\n",
    "# Encode a numeric column as zscores\n",
    "def encode_numeric_zscore(df, name, mean=None, sd=None):\n",
    "    if mean is None:\n",
    "        mean = df[name].mean()\n",
    "\n",
    "    if sd is None:\n",
    "        sd = df[name].std()\n",
    "\n",
    "    df[name] = (df[name] - mean) / sd\n",
    "    \n",
    "# Convert all missing values in the specified column to the median\n",
    "def missing_median(df, name):\n",
    "    med = df[name].median()\n",
    "    df[name] = df[name].fillna(med)    \n",
    "\n",
    "# Regression chart.\n",
    "def chart_regression(pred,y,sort=True):\n",
    "    t = pd.DataFrame({'pred' : pred, 'y' : y.flatten()})\n",
    "    if sort:\n",
    "        t.sort_values(by=['y'],inplace=True)\n",
    "    a = plt.plot(t['y'].tolist(),label='expected')\n",
    "    b = plt.plot(t['pred'].tolist(),label='prediction')\n",
    "    plt.ylabel('output')\n",
    "    plt.legend()\n",
    "    plt.show()    \n",
    "    \n",
    "# Convert a Pandas dataframe to the x,y inputs that TensorFlow needs\n",
    "def to_xy(df, target):\n",
    "    result = []\n",
    "    for x in df.columns:\n",
    "        if x != target:\n",
    "            result.append(x)\n",
    "    # find out the type of the target column. \n",
    "    target_type = df[target].dtypes\n",
    "    target_type = target_type[0] if isinstance(target_type, collections.Sequence) else target_type\n",
    "    # Encode to int for classification, float otherwise. TensorFlow likes 32 bits.\n",
    "    if target_type in (np.int64, np.int32):\n",
    "        # Classification\n",
    "        dummies = pd.get_dummies(df[target])\n",
    "        return df[result].values.astype(np.float32), dummies.values.astype(np.float32)\n",
    "    else:\n",
    "        # Regression\n",
    "        return df[result].values.astype(np.float32), df[target].values.astype(np.float32)\n"
   ]
  },
  {
   "cell_type": "markdown",
   "metadata": {},
   "source": [
    "### Convert JSON data into tabular format for Pandas"
   ]
  },
  {
   "cell_type": "code",
   "execution_count": null,
   "metadata": {},
   "outputs": [],
   "source": [
    "#reviews.json\n",
    "outfile = open(\"review_stars.tsv\", 'w')\n",
    "sfile = csv.writer(outfile, delimiter =\"\\t\", quoting=csv.QUOTE_MINIMAL)\n",
    "sfile.writerow(['business_id','stars', 'text'])\n",
    "with open('review.json', encoding=\"utf8\") as f:\n",
    "    for line in f:\n",
    "        row = json.loads(line)\n",
    "        # some special char must be encoded in 'utf-8'\n",
    "        sfile.writerow([row['business_id'], row['stars'], (row['text']).encode('utf-8')])\n",
    "\n",
    "outfile.close()"
   ]
  },
  {
   "cell_type": "code",
   "execution_count": null,
   "metadata": {},
   "outputs": [],
   "source": [
    "#business.json\n",
    "outfile = open(\"business.tsv\", 'w')\n",
    "sfile = csv.writer(outfile, delimiter =\"\\t\", quoting=csv.QUOTE_MINIMAL)\n",
    "sfile.writerow(['business_id','stars', 'review_count', 'categories'])\n",
    "with open('business.json', encoding=\"utf8\") as f:\n",
    "    for line in f:\n",
    "        row = json.loads(line)\n",
    "        # some special char must be encoded in 'utf-8'\n",
    "        sfile.writerow([row['business_id'], row['stars'], row['review_count'], row['categories']])\n",
    "\n",
    "outfile.close()"
   ]
  },
  {
   "cell_type": "code",
   "execution_count": null,
   "metadata": {},
   "outputs": [],
   "source": [
    "#tip.json\n",
    "outfile = open(\"tip.tsv\", 'w')\n",
    "sfile = csv.writer(outfile, delimiter =\"\\t\", quoting=csv.QUOTE_MINIMAL)\n",
    "sfile.writerow(['business_id','text'])\n",
    "with open('tip.json', encoding=\"utf8\") as f:\n",
    "    for line in f:\n",
    "        row = json.loads(line)\n",
    "        # some special char must be encoded in 'utf-8'\n",
    "        sfile.writerow([row['business_id'], (row['text']).encode('utf-8')])\n",
    "\n",
    "outfile.close()"
   ]
  },
  {
   "cell_type": "code",
   "execution_count": 3,
   "metadata": {},
   "outputs": [
    {
     "data": {
      "text/html": [
       "<div>\n",
       "<style scoped>\n",
       "    .dataframe tbody tr th:only-of-type {\n",
       "        vertical-align: middle;\n",
       "    }\n",
       "\n",
       "    .dataframe tbody tr th {\n",
       "        vertical-align: top;\n",
       "    }\n",
       "\n",
       "    .dataframe thead th {\n",
       "        text-align: right;\n",
       "    }\n",
       "</style>\n",
       "<table border=\"1\" class=\"dataframe\">\n",
       "  <thead>\n",
       "    <tr style=\"text-align: right;\">\n",
       "      <th></th>\n",
       "      <th>business_id</th>\n",
       "      <th>text</th>\n",
       "    </tr>\n",
       "  </thead>\n",
       "  <tbody>\n",
       "    <tr>\n",
       "      <th>0</th>\n",
       "      <td>VaKXUpmWTTWDKbpJ3aQdMw</td>\n",
       "      <td>b'Great for watching games, ufc, and whatever ...</td>\n",
       "    </tr>\n",
       "    <tr>\n",
       "      <th>1</th>\n",
       "      <td>OPiPeoJiv92rENwbq76orA</td>\n",
       "      <td>b'Happy Hour 2-4 daily with 1/2 price drinks a...</td>\n",
       "    </tr>\n",
       "    <tr>\n",
       "      <th>2</th>\n",
       "      <td>5KheTjYPu1HcQzQFtm4_vw</td>\n",
       "      <td>b'Good chips and salsa. Loud at times. Good se...</td>\n",
       "    </tr>\n",
       "    <tr>\n",
       "      <th>3</th>\n",
       "      <td>TkoyGi8J7YFjA6SbaRzrxg</td>\n",
       "      <td>b'The setting and decoration here is amazing. ...</td>\n",
       "    </tr>\n",
       "    <tr>\n",
       "      <th>4</th>\n",
       "      <td>AkL6Ous6A1atZejfZXn1Bg</td>\n",
       "      <td>b'Molly is definately taking a picture with Sa...</td>\n",
       "    </tr>\n",
       "  </tbody>\n",
       "</table>\n",
       "</div>"
      ],
      "text/plain": [
       "              business_id                                               text\n",
       "0  VaKXUpmWTTWDKbpJ3aQdMw  b'Great for watching games, ufc, and whatever ...\n",
       "1  OPiPeoJiv92rENwbq76orA  b'Happy Hour 2-4 daily with 1/2 price drinks a...\n",
       "2  5KheTjYPu1HcQzQFtm4_vw  b'Good chips and salsa. Loud at times. Good se...\n",
       "3  TkoyGi8J7YFjA6SbaRzrxg  b'The setting and decoration here is amazing. ...\n",
       "4  AkL6Ous6A1atZejfZXn1Bg  b'Molly is definately taking a picture with Sa..."
      ]
     },
     "execution_count": 3,
     "metadata": {},
     "output_type": "execute_result"
    }
   ],
   "source": [
    "df_review= pd.read_csv('review_stars.tsv', delimiter =\"\\t\", encoding=\"utf-8\")\n",
    "df_business= pd.read_csv('business.tsv', delimiter =\"\\t\", encoding=\"utf-8\")\n",
    "df_tip= pd.read_csv('tip.tsv', delimiter =\"\\t\", encoding=\"utf-8\")\n",
    "df_tip[0:5]"
   ]
  },
  {
   "cell_type": "code",
   "execution_count": 4,
   "metadata": {},
   "outputs": [
    {
     "data": {
      "text/html": [
       "<div>\n",
       "<style scoped>\n",
       "    .dataframe tbody tr th:only-of-type {\n",
       "        vertical-align: middle;\n",
       "    }\n",
       "\n",
       "    .dataframe tbody tr th {\n",
       "        vertical-align: top;\n",
       "    }\n",
       "\n",
       "    .dataframe thead th {\n",
       "        text-align: right;\n",
       "    }\n",
       "</style>\n",
       "<table border=\"1\" class=\"dataframe\">\n",
       "  <thead>\n",
       "    <tr style=\"text-align: right;\">\n",
       "      <th></th>\n",
       "      <th>business_id</th>\n",
       "      <th>stars</th>\n",
       "      <th>text</th>\n",
       "    </tr>\n",
       "  </thead>\n",
       "  <tbody>\n",
       "    <tr>\n",
       "      <th>0</th>\n",
       "      <td>ujmEBvifdJM6h6RLv4wQIg</td>\n",
       "      <td>1.0</td>\n",
       "      <td>b'Total bill for this horrible service? Over $...</td>\n",
       "    </tr>\n",
       "    <tr>\n",
       "      <th>1</th>\n",
       "      <td>NZnhc2sEQy3RmzKTZnqtwQ</td>\n",
       "      <td>5.0</td>\n",
       "      <td>b\"I *adore* Travis at the Hard Rock's new Kell...</td>\n",
       "    </tr>\n",
       "    <tr>\n",
       "      <th>2</th>\n",
       "      <td>WTqjgwHlXbSFevF32_DJVw</td>\n",
       "      <td>5.0</td>\n",
       "      <td>b\"I have to say that this office really has it...</td>\n",
       "    </tr>\n",
       "    <tr>\n",
       "      <th>3</th>\n",
       "      <td>ikCg8xy5JIg_NGPx-MSIDA</td>\n",
       "      <td>5.0</td>\n",
       "      <td>b\"Went in for a lunch. Steak sandwich was deli...</td>\n",
       "    </tr>\n",
       "    <tr>\n",
       "      <th>4</th>\n",
       "      <td>b1b1eb3uo-w561D0ZfCEiQ</td>\n",
       "      <td>1.0</td>\n",
       "      <td>b'Today was my second out of three sessions I ...</td>\n",
       "    </tr>\n",
       "  </tbody>\n",
       "</table>\n",
       "</div>"
      ],
      "text/plain": [
       "              business_id  stars  \\\n",
       "0  ujmEBvifdJM6h6RLv4wQIg    1.0   \n",
       "1  NZnhc2sEQy3RmzKTZnqtwQ    5.0   \n",
       "2  WTqjgwHlXbSFevF32_DJVw    5.0   \n",
       "3  ikCg8xy5JIg_NGPx-MSIDA    5.0   \n",
       "4  b1b1eb3uo-w561D0ZfCEiQ    1.0   \n",
       "\n",
       "                                                text  \n",
       "0  b'Total bill for this horrible service? Over $...  \n",
       "1  b\"I *adore* Travis at the Hard Rock's new Kell...  \n",
       "2  b\"I have to say that this office really has it...  \n",
       "3  b\"Went in for a lunch. Steak sandwich was deli...  \n",
       "4  b'Today was my second out of three sessions I ...  "
      ]
     },
     "execution_count": 4,
     "metadata": {},
     "output_type": "execute_result"
    }
   ],
   "source": [
    "df_review.head()"
   ]
  },
  {
   "cell_type": "code",
   "execution_count": 5,
   "metadata": {},
   "outputs": [
    {
     "data": {
      "text/plain": [
       "(6678404, 3)"
      ]
     },
     "execution_count": 5,
     "metadata": {},
     "output_type": "execute_result"
    }
   ],
   "source": [
    "#only consider reviews that have more than 50 characters\n",
    "df_review = df_review[df_review['text'].str.len() >= 50]\n",
    "df_review.shape"
   ]
  },
  {
   "cell_type": "code",
   "execution_count": 6,
   "metadata": {},
   "outputs": [
    {
     "data": {
      "text/plain": [
       "(1094522, 2)"
      ]
     },
     "execution_count": 6,
     "metadata": {},
     "output_type": "execute_result"
    }
   ],
   "source": [
    "df_tip = df_tip[df_tip['text'].str.len() >= 20]\n",
    "df_tip.shape"
   ]
  },
  {
   "cell_type": "code",
   "execution_count": 7,
   "metadata": {},
   "outputs": [],
   "source": [
    "#group all reviews by each business and create a new dataframe, where each line is a business with all its reviews\n",
    "df_review_agg = df_review.groupby('business_id')['text'].sum()\n",
    "\n",
    "df_all_reviews = pd.DataFrame({'business_id': df_review_agg.index, 'all_reviews': df_review_agg.values})"
   ]
  },
  {
   "cell_type": "code",
   "execution_count": 8,
   "metadata": {},
   "outputs": [],
   "source": [
    "#group all tip by each business and create a new dataframe, where each line is a business with all its tips\n",
    "df_tip_agg = df_tip.groupby('business_id')['text'].sum()\n",
    "\n",
    "df_all_tips = pd.DataFrame({'business_id': df_tip_agg.index, 'all_tips': df_tip_agg.values})"
   ]
  },
  {
   "cell_type": "code",
   "execution_count": 9,
   "metadata": {},
   "outputs": [
    {
     "data": {
      "text/html": [
       "<div>\n",
       "<style scoped>\n",
       "    .dataframe tbody tr th:only-of-type {\n",
       "        vertical-align: middle;\n",
       "    }\n",
       "\n",
       "    .dataframe tbody tr th {\n",
       "        vertical-align: top;\n",
       "    }\n",
       "\n",
       "    .dataframe thead th {\n",
       "        text-align: right;\n",
       "    }\n",
       "</style>\n",
       "<table border=\"1\" class=\"dataframe\">\n",
       "  <thead>\n",
       "    <tr style=\"text-align: right;\">\n",
       "      <th></th>\n",
       "      <th>business_id</th>\n",
       "      <th>all_tips</th>\n",
       "    </tr>\n",
       "  </thead>\n",
       "  <tbody>\n",
       "    <tr>\n",
       "      <th>0</th>\n",
       "      <td>--1UhMGODdWsrMastO9DZw</td>\n",
       "      <td>b\"Delicious! One of the best burritos, salsa a...</td>\n",
       "    </tr>\n",
       "    <tr>\n",
       "      <th>1</th>\n",
       "      <td>--6MefnULPED_I942VcFNA</td>\n",
       "      <td>b'BBQ pork is sold out early on Saturday'b'The...</td>\n",
       "    </tr>\n",
       "    <tr>\n",
       "      <th>2</th>\n",
       "      <td>--7zmmkVg-IMGaXbuVd0SQ</td>\n",
       "      <td>b\"Good place to stop when traffic don't go.\"b'...</td>\n",
       "    </tr>\n",
       "    <tr>\n",
       "      <th>3</th>\n",
       "      <td>--9QQLMTbFzLJ_oT-ON3Xw</td>\n",
       "      <td>b\"Tip? Don't get your hair cut here. If they'r...</td>\n",
       "    </tr>\n",
       "    <tr>\n",
       "      <th>4</th>\n",
       "      <td>--9e1ONYQuAa-CB_Rrw7Tw</td>\n",
       "      <td>b'Wine pairings for my prix fixe meal.  Mmmm'b...</td>\n",
       "    </tr>\n",
       "  </tbody>\n",
       "</table>\n",
       "</div>"
      ],
      "text/plain": [
       "              business_id                                           all_tips\n",
       "0  --1UhMGODdWsrMastO9DZw  b\"Delicious! One of the best burritos, salsa a...\n",
       "1  --6MefnULPED_I942VcFNA  b'BBQ pork is sold out early on Saturday'b'The...\n",
       "2  --7zmmkVg-IMGaXbuVd0SQ  b\"Good place to stop when traffic don't go.\"b'...\n",
       "3  --9QQLMTbFzLJ_oT-ON3Xw  b\"Tip? Don't get your hair cut here. If they'r...\n",
       "4  --9e1ONYQuAa-CB_Rrw7Tw  b'Wine pairings for my prix fixe meal.  Mmmm'b..."
      ]
     },
     "execution_count": 9,
     "metadata": {},
     "output_type": "execute_result"
    }
   ],
   "source": [
    "df_all_tips.head()"
   ]
  },
  {
   "cell_type": "markdown",
   "metadata": {},
   "source": [
    "#### Only consider businesses which have more than 20 reviews"
   ]
  },
  {
   "cell_type": "code",
   "execution_count": 10,
   "metadata": {},
   "outputs": [
    {
     "data": {
      "text/plain": [
       "(57644, 4)"
      ]
     },
     "execution_count": 10,
     "metadata": {},
     "output_type": "execute_result"
    }
   ],
   "source": [
    "df_business = df_business[df_business['review_count'] >= 20]\n",
    "df_business.shape"
   ]
  },
  {
   "cell_type": "code",
   "execution_count": 11,
   "metadata": {},
   "outputs": [
    {
     "data": {
      "text/plain": [
       "(57644, 5)"
      ]
     },
     "execution_count": 11,
     "metadata": {},
     "output_type": "execute_result"
    }
   ],
   "source": [
    "#merge df_business, df_all_reviews, and df_all_tips by business_id\n",
    "#df_ready_for_sklearn = pd.merge(pd.merge(df_all_reviews, df_business, on='business_id', how='inner'), df_all_tips, on='business_id', how='inner')\n",
    "df_ready_for_sklearn = pd.merge(df_all_reviews, df_business, on='business_id', how='inner')\n",
    "df_ready_for_sklearn.shape"
   ]
  },
  {
   "cell_type": "code",
   "execution_count": 17,
   "metadata": {},
   "outputs": [
    {
     "data": {
      "text/plain": [
       "business_id     False\n",
       "all_reviews     False\n",
       "stars           False\n",
       "review_count    False\n",
       "categories       True\n",
       "dtype: bool"
      ]
     },
     "execution_count": 17,
     "metadata": {},
     "output_type": "execute_result"
    }
   ],
   "source": [
    "df_ready_for_sklearn.isnull().any()"
   ]
  },
  {
   "cell_type": "code",
   "execution_count": 18,
   "metadata": {},
   "outputs": [],
   "source": [
    "#label encode the stars\n",
    "le = preprocessing.LabelEncoder()\n",
    "df_ready_for_sklearn['encoded_stars'] = le.fit_transform(df_ready_for_sklearn['stars'])"
   ]
  },
  {
   "cell_type": "code",
   "execution_count": 19,
   "metadata": {},
   "outputs": [
    {
     "name": "stdout",
     "output_type": "stream",
     "text": [
      "(57644, 6)\n"
     ]
    },
    {
     "data": {
      "text/html": [
       "<div>\n",
       "<style scoped>\n",
       "    .dataframe tbody tr th:only-of-type {\n",
       "        vertical-align: middle;\n",
       "    }\n",
       "\n",
       "    .dataframe tbody tr th {\n",
       "        vertical-align: top;\n",
       "    }\n",
       "\n",
       "    .dataframe thead th {\n",
       "        text-align: right;\n",
       "    }\n",
       "</style>\n",
       "<table border=\"1\" class=\"dataframe\">\n",
       "  <thead>\n",
       "    <tr style=\"text-align: right;\">\n",
       "      <th></th>\n",
       "      <th>business_id</th>\n",
       "      <th>all_reviews</th>\n",
       "      <th>stars</th>\n",
       "      <th>review_count</th>\n",
       "      <th>categories</th>\n",
       "      <th>encoded_stars</th>\n",
       "    </tr>\n",
       "  </thead>\n",
       "  <tbody>\n",
       "    <tr>\n",
       "      <th>0</th>\n",
       "      <td>--1UhMGODdWsrMastO9DZw</td>\n",
       "      <td>b'If you are looking for authentic Mexican str...</td>\n",
       "      <td>4.0</td>\n",
       "      <td>24</td>\n",
       "      <td>Restaurants, Mexican</td>\n",
       "      <td>6</td>\n",
       "    </tr>\n",
       "    <tr>\n",
       "      <th>1</th>\n",
       "      <td>--6MefnULPED_I942VcFNA</td>\n",
       "      <td>b\"They have the best Chinese BBQ Pork (Char Si...</td>\n",
       "      <td>3.0</td>\n",
       "      <td>44</td>\n",
       "      <td>Chinese, Restaurants</td>\n",
       "      <td>4</td>\n",
       "    </tr>\n",
       "    <tr>\n",
       "      <th>2</th>\n",
       "      <td>--7zmmkVg-IMGaXbuVd0SQ</td>\n",
       "      <td>b\"I'm a tad reluctant to write a review as I r...</td>\n",
       "      <td>4.0</td>\n",
       "      <td>58</td>\n",
       "      <td>Breweries, Food</td>\n",
       "      <td>6</td>\n",
       "    </tr>\n",
       "    <tr>\n",
       "      <th>3</th>\n",
       "      <td>--9e1ONYQuAa-CB_Rrw7Tw</td>\n",
       "      <td>b'Very busy and noisy restaurant.\\nAsparagas w...</td>\n",
       "      <td>4.0</td>\n",
       "      <td>1613</td>\n",
       "      <td>Cajun/Creole, Seafood, Steakhouses, Restaurants</td>\n",
       "      <td>6</td>\n",
       "    </tr>\n",
       "    <tr>\n",
       "      <th>4</th>\n",
       "      <td>--DaPTJW3-tB1vP-PfdTEg</td>\n",
       "      <td>b'My sister and in laws were in town and we wa...</td>\n",
       "      <td>3.5</td>\n",
       "      <td>49</td>\n",
       "      <td>Restaurants, Breakfast &amp; Brunch</td>\n",
       "      <td>5</td>\n",
       "    </tr>\n",
       "  </tbody>\n",
       "</table>\n",
       "</div>"
      ],
      "text/plain": [
       "              business_id                                        all_reviews  \\\n",
       "0  --1UhMGODdWsrMastO9DZw  b'If you are looking for authentic Mexican str...   \n",
       "1  --6MefnULPED_I942VcFNA  b\"They have the best Chinese BBQ Pork (Char Si...   \n",
       "2  --7zmmkVg-IMGaXbuVd0SQ  b\"I'm a tad reluctant to write a review as I r...   \n",
       "3  --9e1ONYQuAa-CB_Rrw7Tw  b'Very busy and noisy restaurant.\\nAsparagas w...   \n",
       "4  --DaPTJW3-tB1vP-PfdTEg  b'My sister and in laws were in town and we wa...   \n",
       "\n",
       "   stars  review_count                                       categories  \\\n",
       "0    4.0            24                             Restaurants, Mexican   \n",
       "1    3.0            44                             Chinese, Restaurants   \n",
       "2    4.0            58                                  Breweries, Food   \n",
       "3    4.0          1613  Cajun/Creole, Seafood, Steakhouses, Restaurants   \n",
       "4    3.5            49                  Restaurants, Breakfast & Brunch   \n",
       "\n",
       "   encoded_stars  \n",
       "0              6  \n",
       "1              4  \n",
       "2              6  \n",
       "3              6  \n",
       "4              5  "
      ]
     },
     "execution_count": 19,
     "metadata": {},
     "output_type": "execute_result"
    }
   ],
   "source": [
    "print(df_ready_for_sklearn.shape)\n",
    "df_ready_for_sklearn[0:5]"
   ]
  },
  {
   "cell_type": "markdown",
   "metadata": {},
   "source": [
    "## Split the data and prepare for training and testing"
   ]
  },
  {
   "cell_type": "code",
   "execution_count": 20,
   "metadata": {},
   "outputs": [],
   "source": [
    "x_train, x_test, y_train, y_test = train_test_split(df_ready_for_sklearn, df_ready_for_sklearn['stars'], test_size=0.25, random_state=43)"
   ]
  },
  {
   "cell_type": "code",
   "execution_count": 21,
   "metadata": {},
   "outputs": [
    {
     "name": "stderr",
     "output_type": "stream",
     "text": [
      "C:\\Users\\hgdan\\Anaconda3\\envs\\tf-gpu\\lib\\site-packages\\ipykernel_launcher.py:1: SettingWithCopyWarning: \n",
      "A value is trying to be set on a copy of a slice from a DataFrame.\n",
      "Try using .loc[row_indexer,col_indexer] = value instead\n",
      "\n",
      "See the caveats in the documentation: http://pandas.pydata.org/pandas-docs/stable/indexing.html#indexing-view-versus-copy\n",
      "  \"\"\"Entry point for launching an IPython kernel.\n"
     ]
    },
    {
     "data": {
      "text/html": [
       "<div>\n",
       "<style scoped>\n",
       "    .dataframe tbody tr th:only-of-type {\n",
       "        vertical-align: middle;\n",
       "    }\n",
       "\n",
       "    .dataframe tbody tr th {\n",
       "        vertical-align: top;\n",
       "    }\n",
       "\n",
       "    .dataframe thead th {\n",
       "        text-align: right;\n",
       "    }\n",
       "</style>\n",
       "<table border=\"1\" class=\"dataframe\">\n",
       "  <thead>\n",
       "    <tr style=\"text-align: right;\">\n",
       "      <th></th>\n",
       "      <th>business_id</th>\n",
       "      <th>all_reviews</th>\n",
       "      <th>stars</th>\n",
       "      <th>review_count</th>\n",
       "      <th>categories</th>\n",
       "      <th>encoded_stars</th>\n",
       "      <th>review_count_zscore</th>\n",
       "    </tr>\n",
       "  </thead>\n",
       "  <tbody>\n",
       "    <tr>\n",
       "      <th>13124</th>\n",
       "      <td>DYi6jJYhK3kTfaYn81tORQ</td>\n",
       "      <td>b\"Great little place. \\n\\nSimple, comfy, low-k...</td>\n",
       "      <td>4.5</td>\n",
       "      <td>22</td>\n",
       "      <td>Burgers, Nightlife, Karaoke, Chicken Wings, Ar...</td>\n",
       "      <td>7</td>\n",
       "      <td>-0.388956</td>\n",
       "    </tr>\n",
       "    <tr>\n",
       "      <th>48569</th>\n",
       "      <td>q0PKLCgApK5XynhaZAY3EA</td>\n",
       "      <td>b\"Great experience at Shoe Therapy.  I brought...</td>\n",
       "      <td>4.5</td>\n",
       "      <td>24</td>\n",
       "      <td>Local Services, Fashion, Shopping, Leather Goo...</td>\n",
       "      <td>7</td>\n",
       "      <td>-0.378257</td>\n",
       "    </tr>\n",
       "    <tr>\n",
       "      <th>50871</th>\n",
       "      <td>sZv5q1vMP2-G3z1stxNrOw</td>\n",
       "      <td>b'The salon was clean and they did a great job...</td>\n",
       "      <td>3.5</td>\n",
       "      <td>48</td>\n",
       "      <td>Hair Removal, Skin Care, Nail Salons, Beauty &amp;...</td>\n",
       "      <td>5</td>\n",
       "      <td>-0.249863</td>\n",
       "    </tr>\n",
       "    <tr>\n",
       "      <th>55316</th>\n",
       "      <td>xULATz2siGXOPia614mg2A</td>\n",
       "      <td>b'Oh, college. When I think back on off-campus...</td>\n",
       "      <td>3.0</td>\n",
       "      <td>394</td>\n",
       "      <td>Chinese, Vegetarian, Pan Asian, Restaurants, J...</td>\n",
       "      <td>4</td>\n",
       "      <td>1.601145</td>\n",
       "    </tr>\n",
       "    <tr>\n",
       "      <th>50459</th>\n",
       "      <td>s6lTNO57vXsfzyYrPfXOvA</td>\n",
       "      <td>b\"The chicken over broken rice tastes no so go...</td>\n",
       "      <td>4.0</td>\n",
       "      <td>349</td>\n",
       "      <td>Vietnamese, Restaurants</td>\n",
       "      <td>6</td>\n",
       "      <td>1.360407</td>\n",
       "    </tr>\n",
       "  </tbody>\n",
       "</table>\n",
       "</div>"
      ],
      "text/plain": [
       "                  business_id  \\\n",
       "13124  DYi6jJYhK3kTfaYn81tORQ   \n",
       "48569  q0PKLCgApK5XynhaZAY3EA   \n",
       "50871  sZv5q1vMP2-G3z1stxNrOw   \n",
       "55316  xULATz2siGXOPia614mg2A   \n",
       "50459  s6lTNO57vXsfzyYrPfXOvA   \n",
       "\n",
       "                                             all_reviews  stars  review_count  \\\n",
       "13124  b\"Great little place. \\n\\nSimple, comfy, low-k...    4.5            22   \n",
       "48569  b\"Great experience at Shoe Therapy.  I brought...    4.5            24   \n",
       "50871  b'The salon was clean and they did a great job...    3.5            48   \n",
       "55316  b'Oh, college. When I think back on off-campus...    3.0           394   \n",
       "50459  b\"The chicken over broken rice tastes no so go...    4.0           349   \n",
       "\n",
       "                                              categories  encoded_stars  \\\n",
       "13124  Burgers, Nightlife, Karaoke, Chicken Wings, Ar...              7   \n",
       "48569  Local Services, Fashion, Shopping, Leather Goo...              7   \n",
       "50871  Hair Removal, Skin Care, Nail Salons, Beauty &...              5   \n",
       "55316  Chinese, Vegetarian, Pan Asian, Restaurants, J...              4   \n",
       "50459                            Vietnamese, Restaurants              6   \n",
       "\n",
       "       review_count_zscore  \n",
       "13124            -0.388956  \n",
       "48569            -0.378257  \n",
       "50871            -0.249863  \n",
       "55316             1.601145  \n",
       "50459             1.360407  "
      ]
     },
     "execution_count": 21,
     "metadata": {},
     "output_type": "execute_result"
    }
   ],
   "source": [
    "x_train['review_count_zscore'] = zscore(x_train['review_count'])\n",
    "x_train[0:5]"
   ]
  },
  {
   "cell_type": "code",
   "execution_count": 22,
   "metadata": {},
   "outputs": [
    {
     "name": "stderr",
     "output_type": "stream",
     "text": [
      "C:\\Users\\hgdan\\Anaconda3\\envs\\tf-gpu\\lib\\site-packages\\ipykernel_launcher.py:1: SettingWithCopyWarning: \n",
      "A value is trying to be set on a copy of a slice from a DataFrame.\n",
      "Try using .loc[row_indexer,col_indexer] = value instead\n",
      "\n",
      "See the caveats in the documentation: http://pandas.pydata.org/pandas-docs/stable/indexing.html#indexing-view-versus-copy\n",
      "  \"\"\"Entry point for launching an IPython kernel.\n"
     ]
    },
    {
     "data": {
      "text/html": [
       "<div>\n",
       "<style scoped>\n",
       "    .dataframe tbody tr th:only-of-type {\n",
       "        vertical-align: middle;\n",
       "    }\n",
       "\n",
       "    .dataframe tbody tr th {\n",
       "        vertical-align: top;\n",
       "    }\n",
       "\n",
       "    .dataframe thead th {\n",
       "        text-align: right;\n",
       "    }\n",
       "</style>\n",
       "<table border=\"1\" class=\"dataframe\">\n",
       "  <thead>\n",
       "    <tr style=\"text-align: right;\">\n",
       "      <th></th>\n",
       "      <th>business_id</th>\n",
       "      <th>all_reviews</th>\n",
       "      <th>stars</th>\n",
       "      <th>review_count</th>\n",
       "      <th>categories</th>\n",
       "      <th>encoded_stars</th>\n",
       "      <th>review_count_zscore</th>\n",
       "    </tr>\n",
       "  </thead>\n",
       "  <tbody>\n",
       "    <tr>\n",
       "      <th>5538</th>\n",
       "      <td>55lgqZ_IVMHCuAfqSHx_CQ</td>\n",
       "      <td>b'We had the best time tonight on this heli tr...</td>\n",
       "      <td>5.0</td>\n",
       "      <td>56</td>\n",
       "      <td>Education, Specialty Schools, Vocational &amp; Tec...</td>\n",
       "      <td>8</td>\n",
       "      <td>-0.217415</td>\n",
       "    </tr>\n",
       "    <tr>\n",
       "      <th>7593</th>\n",
       "      <td>7QAwB7CV5BmSpU3uCWlfeA</td>\n",
       "      <td>b\"I bought my Yamaha TW200 from these guys. \\n...</td>\n",
       "      <td>4.0</td>\n",
       "      <td>27</td>\n",
       "      <td>Motorcycle Dealers, Shopping, Motorcycle Gear,...</td>\n",
       "      <td>6</td>\n",
       "      <td>-0.371616</td>\n",
       "    </tr>\n",
       "    <tr>\n",
       "      <th>17961</th>\n",
       "      <td>Iqu-RwRA4XfwILKQLKQZew</td>\n",
       "      <td>b\"Do yourself a favor and try the chaats. We h...</td>\n",
       "      <td>3.5</td>\n",
       "      <td>56</td>\n",
       "      <td>Indian, Bakeries, Restaurants, Food</td>\n",
       "      <td>5</td>\n",
       "      <td>-0.217415</td>\n",
       "    </tr>\n",
       "    <tr>\n",
       "      <th>39121</th>\n",
       "      <td>fMdfTMXQBioNlfcZsD1gOw</td>\n",
       "      <td>b\"I bought a group on deal for a swedish massa...</td>\n",
       "      <td>4.0</td>\n",
       "      <td>189</td>\n",
       "      <td>Day Spas, Beauty &amp; Spas, Massage, Skin Care</td>\n",
       "      <td>6</td>\n",
       "      <td>0.489787</td>\n",
       "    </tr>\n",
       "    <tr>\n",
       "      <th>56861</th>\n",
       "      <td>z9aXGRH8xtqpNDFE5_I3KA</td>\n",
       "      <td>b\"received a  mailer and thought okay let's go...</td>\n",
       "      <td>4.0</td>\n",
       "      <td>86</td>\n",
       "      <td>Restaurants, Bars, Nightlife, American (Tradit...</td>\n",
       "      <td>6</td>\n",
       "      <td>-0.057896</td>\n",
       "    </tr>\n",
       "  </tbody>\n",
       "</table>\n",
       "</div>"
      ],
      "text/plain": [
       "                  business_id  \\\n",
       "5538   55lgqZ_IVMHCuAfqSHx_CQ   \n",
       "7593   7QAwB7CV5BmSpU3uCWlfeA   \n",
       "17961  Iqu-RwRA4XfwILKQLKQZew   \n",
       "39121  fMdfTMXQBioNlfcZsD1gOw   \n",
       "56861  z9aXGRH8xtqpNDFE5_I3KA   \n",
       "\n",
       "                                             all_reviews  stars  review_count  \\\n",
       "5538   b'We had the best time tonight on this heli tr...    5.0            56   \n",
       "7593   b\"I bought my Yamaha TW200 from these guys. \\n...    4.0            27   \n",
       "17961  b\"Do yourself a favor and try the chaats. We h...    3.5            56   \n",
       "39121  b\"I bought a group on deal for a swedish massa...    4.0           189   \n",
       "56861  b\"received a  mailer and thought okay let's go...    4.0            86   \n",
       "\n",
       "                                              categories  encoded_stars  \\\n",
       "5538   Education, Specialty Schools, Vocational & Tec...              8   \n",
       "7593   Motorcycle Dealers, Shopping, Motorcycle Gear,...              6   \n",
       "17961                Indian, Bakeries, Restaurants, Food              5   \n",
       "39121        Day Spas, Beauty & Spas, Massage, Skin Care              6   \n",
       "56861  Restaurants, Bars, Nightlife, American (Tradit...              6   \n",
       "\n",
       "       review_count_zscore  \n",
       "5538             -0.217415  \n",
       "7593             -0.371616  \n",
       "17961            -0.217415  \n",
       "39121             0.489787  \n",
       "56861            -0.057896  "
      ]
     },
     "execution_count": 22,
     "metadata": {},
     "output_type": "execute_result"
    }
   ],
   "source": [
    "x_test['review_count_zscore'] = zscore(x_test['review_count'])\n",
    "x_test[0:5]"
   ]
  },
  {
   "cell_type": "code",
   "execution_count": 26,
   "metadata": {},
   "outputs": [
    {
     "data": {
      "text/plain": [
       "['10',\n",
       " '15',\n",
       " '20',\n",
       " '30',\n",
       " '50',\n",
       " 'able',\n",
       " 'absolutely',\n",
       " 'actually',\n",
       " 'add',\n",
       " 'ago',\n",
       " 'amazing',\n",
       " 'appetizer',\n",
       " 'appointment',\n",
       " 'area',\n",
       " 'arrived',\n",
       " 'ask',\n",
       " 'asked',\n",
       " 'ate',\n",
       " 'atmosphere',\n",
       " 'attentive',\n",
       " 'authentic',\n",
       " 'available',\n",
       " 'average',\n",
       " 'away',\n",
       " 'awesome',\n",
       " 'bacon',\n",
       " 'bad',\n",
       " 'bar',\n",
       " 'bbq',\n",
       " 'beautiful',\n",
       " 'beef',\n",
       " 'beer',\n",
       " 'believe',\n",
       " 'best',\n",
       " 'better',\n",
       " 'big',\n",
       " 'birthday',\n",
       " 'bit',\n",
       " 'bite',\n",
       " 'bowl',\n",
       " 'bread',\n",
       " 'breakfast',\n",
       " 'bring',\n",
       " 'brought',\n",
       " 'brunch',\n",
       " 'buffet',\n",
       " 'burger',\n",
       " 'burgers',\n",
       " 'business',\n",
       " 'busy',\n",
       " 'buy',\n",
       " 'cake',\n",
       " 'called',\n",
       " 'came',\n",
       " 'car',\n",
       " 'card',\n",
       " 'care',\n",
       " 'change',\n",
       " 'charge',\n",
       " 'cheap',\n",
       " 'check',\n",
       " 'cheese',\n",
       " 'chef',\n",
       " 'chicken',\n",
       " 'chinese',\n",
       " 'chips',\n",
       " 'chocolate',\n",
       " 'choice',\n",
       " 'choose',\n",
       " 'city',\n",
       " 'clean',\n",
       " 'close',\n",
       " 'coffee',\n",
       " 'cold',\n",
       " 'come',\n",
       " 'comes',\n",
       " 'comfortable',\n",
       " 'coming',\n",
       " 'company',\n",
       " 'completely',\n",
       " 'cooked',\n",
       " 'cool',\n",
       " 'cost',\n",
       " 'couldn',\n",
       " 'counter',\n",
       " 'couple',\n",
       " 'course',\n",
       " 'crab',\n",
       " 'cream',\n",
       " 'crispy',\n",
       " 'customer',\n",
       " 'customers',\n",
       " 'cut',\n",
       " 'day',\n",
       " 'days',\n",
       " 'deal',\n",
       " 'decent',\n",
       " 'decided',\n",
       " 'decor',\n",
       " 'definitely',\n",
       " 'delicious',\n",
       " 'dessert',\n",
       " 'did',\n",
       " 'didn',\n",
       " 'different',\n",
       " 'dining',\n",
       " 'dinner',\n",
       " 'disappointed',\n",
       " 'dish',\n",
       " 'dishes',\n",
       " 'does',\n",
       " 'doesn',\n",
       " 'dog',\n",
       " 'doing',\n",
       " 'don',\n",
       " 'door',\n",
       " 'dr',\n",
       " 'drink',\n",
       " 'drinks',\n",
       " 'drive',\n",
       " 'dry',\n",
       " 'early',\n",
       " 'easy',\n",
       " 'eat',\n",
       " 'eating',\n",
       " 'egg',\n",
       " 'eggs',\n",
       " 'employees',\n",
       " 'end',\n",
       " 'ended',\n",
       " 'enjoy',\n",
       " 'enjoyed',\n",
       " 'entire',\n",
       " 'especially',\n",
       " 'evening',\n",
       " 'excellent',\n",
       " 'expect',\n",
       " 'expected',\n",
       " 'expensive',\n",
       " 'experience',\n",
       " 'extra',\n",
       " 'extremely',\n",
       " 'fact',\n",
       " 'family',\n",
       " 'fan',\n",
       " 'fantastic',\n",
       " 'far',\n",
       " 'fast',\n",
       " 'favorite',\n",
       " 'feel',\n",
       " 'felt',\n",
       " 'finally',\n",
       " 'fine',\n",
       " 'fish',\n",
       " 'flavor',\n",
       " 'flavors',\n",
       " 'floor',\n",
       " 'food',\n",
       " 'free',\n",
       " 'french',\n",
       " 'fresh',\n",
       " 'friday',\n",
       " 'fried',\n",
       " 'friend',\n",
       " 'friendly',\n",
       " 'friends',\n",
       " 'fries',\n",
       " 'fun',\n",
       " 'garlic',\n",
       " 'gave',\n",
       " 'gets',\n",
       " 'getting',\n",
       " 'girl',\n",
       " 'given',\n",
       " 'glad',\n",
       " 'glass',\n",
       " 'going',\n",
       " 'gone',\n",
       " 'good',\n",
       " 'got',\n",
       " 'great',\n",
       " 'green',\n",
       " 'grilled',\n",
       " 'group',\n",
       " 'guess',\n",
       " 'guy',\n",
       " 'guys',\n",
       " 'hair',\n",
       " 'half',\n",
       " 'happy',\n",
       " 'hard',\n",
       " 'haven',\n",
       " 'having',\n",
       " 'heard',\n",
       " 'help',\n",
       " 'helpful',\n",
       " 'high',\n",
       " 'highly',\n",
       " 'hit',\n",
       " 'home',\n",
       " 'horrible',\n",
       " 'hot',\n",
       " 'hotel',\n",
       " 'hour',\n",
       " 'hours',\n",
       " 'house',\n",
       " 'huge',\n",
       " 'husband',\n",
       " 'ice',\n",
       " 'impressed',\n",
       " 'inside',\n",
       " 'instead',\n",
       " 'isn',\n",
       " 'issue',\n",
       " 'italian',\n",
       " 'items',\n",
       " 'job',\n",
       " 'just',\n",
       " 'kept',\n",
       " 'kids',\n",
       " 'kind',\n",
       " 'kitchen',\n",
       " 'knew',\n",
       " 'know',\n",
       " 'lady',\n",
       " 'large',\n",
       " 'las',\n",
       " 'late',\n",
       " 'later',\n",
       " 'leave',\n",
       " 'left',\n",
       " 'let',\n",
       " 'life',\n",
       " 'light',\n",
       " 'like',\n",
       " 'liked',\n",
       " 'line',\n",
       " 'list',\n",
       " 'little',\n",
       " 'live',\n",
       " 'll',\n",
       " 'lobster',\n",
       " 'local',\n",
       " 'location',\n",
       " 'long',\n",
       " 'look',\n",
       " 'looked',\n",
       " 'looking',\n",
       " 'looks',\n",
       " 'lot',\n",
       " 'lots',\n",
       " 'love',\n",
       " 'loved',\n",
       " 'lunch',\n",
       " 'main',\n",
       " 'make',\n",
       " 'makes',\n",
       " 'making',\n",
       " 'man',\n",
       " 'manager',\n",
       " 'maybe',\n",
       " 'meal',\n",
       " 'meat',\n",
       " 'menu',\n",
       " 'mexican',\n",
       " 'mind',\n",
       " 'minutes',\n",
       " 'money',\n",
       " 'months',\n",
       " 'morning',\n",
       " 'music',\n",
       " 'nails',\n",
       " 'near',\n",
       " 'need',\n",
       " 'needed',\n",
       " 'needs',\n",
       " 'new',\n",
       " 'ni',\n",
       " 'nice',\n",
       " 'night',\n",
       " 'nit',\n",
       " 'nmy',\n",
       " 'non',\n",
       " 'noodles',\n",
       " 'nthe',\n",
       " 'nthey',\n",
       " 'nthis',\n",
       " 'nwe',\n",
       " 'offer',\n",
       " 'offered',\n",
       " 'office',\n",
       " 'oh',\n",
       " 'ok',\n",
       " 'okay',\n",
       " 'old',\n",
       " 'open',\n",
       " 'options',\n",
       " 'order',\n",
       " 'ordered',\n",
       " 'ordering',\n",
       " 'orders',\n",
       " 'outside',\n",
       " 'overall',\n",
       " 'owner',\n",
       " 'packed',\n",
       " 'paid',\n",
       " 'parking',\n",
       " 'party',\n",
       " 'past',\n",
       " 'pasta',\n",
       " 'patio',\n",
       " 'pay',\n",
       " 'people',\n",
       " 'perfect',\n",
       " 'perfectly',\n",
       " 'person',\n",
       " 'phone',\n",
       " 'pick',\n",
       " 'pizza',\n",
       " 'place',\n",
       " 'places',\n",
       " 'plate',\n",
       " 'plenty',\n",
       " 'plus',\n",
       " 'point',\n",
       " 'pool',\n",
       " 'pork',\n",
       " 'portion',\n",
       " 'portions',\n",
       " 'potato',\n",
       " 'potatoes',\n",
       " 'pretty',\n",
       " 'price',\n",
       " 'priced',\n",
       " 'prices',\n",
       " 'probably',\n",
       " 'problem',\n",
       " 'professional',\n",
       " 'quality',\n",
       " 'quick',\n",
       " 'quickly',\n",
       " 'quite',\n",
       " 'ready',\n",
       " 'real',\n",
       " 'really',\n",
       " 'reason',\n",
       " 'reasonable',\n",
       " 'received',\n",
       " 'recommend',\n",
       " 'recommended',\n",
       " 'red',\n",
       " 'regular',\n",
       " 'remember',\n",
       " 'restaurant',\n",
       " 'restaurants',\n",
       " 'return',\n",
       " 'review',\n",
       " 'reviews',\n",
       " 'rice',\n",
       " 'right',\n",
       " 'roll',\n",
       " 'rolls',\n",
       " 'room',\n",
       " 'rooms',\n",
       " 'rude',\n",
       " 'run',\n",
       " 'said',\n",
       " 'salad',\n",
       " 'salmon',\n",
       " 'salsa',\n",
       " 'sandwich',\n",
       " 'sandwiches',\n",
       " 'sat',\n",
       " 'saturday',\n",
       " 'sauce',\n",
       " 'saw',\n",
       " 'say',\n",
       " 'seafood',\n",
       " 'seated',\n",
       " 'seating',\n",
       " 'second',\n",
       " 'seen',\n",
       " 'selection',\n",
       " 'serve',\n",
       " 'served',\n",
       " 'server',\n",
       " 'servers',\n",
       " 'service',\n",
       " 'set',\n",
       " 'shop',\n",
       " 'short',\n",
       " 'shrimp',\n",
       " 'simple',\n",
       " 'sit',\n",
       " 'sitting',\n",
       " 'size',\n",
       " 'slow',\n",
       " 'small',\n",
       " 'soft',\n",
       " 'soon',\n",
       " 'soup',\n",
       " 'space',\n",
       " 'special',\n",
       " 'spicy',\n",
       " 'spot',\n",
       " 'staff',\n",
       " 'star',\n",
       " 'stars',\n",
       " 'start',\n",
       " 'started',\n",
       " 'stay',\n",
       " 'steak',\n",
       " 'stop',\n",
       " 'stopped',\n",
       " 'store',\n",
       " 'street',\n",
       " 'strip',\n",
       " 'stuff',\n",
       " 'style',\n",
       " 'sunday',\n",
       " 'super',\n",
       " 'sure',\n",
       " 'sushi',\n",
       " 'sweet',\n",
       " 'table',\n",
       " 'tables',\n",
       " 'taco',\n",
       " 'tacos',\n",
       " 'taking',\n",
       " 'taste',\n",
       " 'tasted',\n",
       " 'tasty',\n",
       " 'tea',\n",
       " 'tell',\n",
       " 'terrible',\n",
       " 'thai',\n",
       " 'thank',\n",
       " 'thanks',\n",
       " 'thing',\n",
       " 'things',\n",
       " 'think',\n",
       " 'thought',\n",
       " 'time',\n",
       " 'times',\n",
       " 'tip',\n",
       " 'today',\n",
       " 'told',\n",
       " 'took',\n",
       " 'totally',\n",
       " 'town',\n",
       " 'tried',\n",
       " 'trip',\n",
       " 'try',\n",
       " 'trying',\n",
       " 'twice',\n",
       " 'type',\n",
       " 'use',\n",
       " 'used',\n",
       " 'usually',\n",
       " 'variety',\n",
       " 've',\n",
       " 'vegas',\n",
       " 'view',\n",
       " 'visit',\n",
       " 'wait',\n",
       " 'waited',\n",
       " 'waiter',\n",
       " 'waiting',\n",
       " 'waitress',\n",
       " 'walk',\n",
       " 'walked',\n",
       " 'want',\n",
       " 'wanted',\n",
       " 'warm',\n",
       " 'wasn',\n",
       " 'water',\n",
       " 'way',\n",
       " 'week',\n",
       " 'weekend',\n",
       " 'went',\n",
       " 'white',\n",
       " 'wife',\n",
       " 'wine',\n",
       " 'wings',\n",
       " 'wish',\n",
       " 'won',\n",
       " 'wonderful',\n",
       " 'work',\n",
       " 'working',\n",
       " 'worst',\n",
       " 'worth',\n",
       " 'wouldn',\n",
       " 'wow',\n",
       " 'wrong',\n",
       " 'xc3',\n",
       " 'year',\n",
       " 'years',\n",
       " 'yelp',\n",
       " 'yes',\n",
       " 'yummy']"
      ]
     },
     "execution_count": 26,
     "metadata": {},
     "output_type": "execute_result"
    }
   ],
   "source": [
    "#obtain tfidf score for reviews\n",
    "vectorizer = sk_text.TfidfVectorizer(stop_words='english', max_features=500, min_df=0.05)\n",
    "\n",
    "reviews_matrix_train = vectorizer.fit_transform(x_train['all_reviews'])\n",
    "reviews_tfidf_train = reviews_matrix_train.toarray()\n",
    "\n",
    "reviews_matrix_test = vectorizer.transform(x_test['all_reviews'])\n",
    "reviews_tfidf_test = reviews_matrix_test.toarray()\n",
    "\n",
    "vectorizer.get_feature_names()"
   ]
  },
  {
   "cell_type": "code",
   "execution_count": 47,
   "metadata": {},
   "outputs": [
    {
     "data": {
      "text/plain": [
       "13124    4.5\n",
       "48569    4.5\n",
       "50871    3.5\n",
       "55316    3.0\n",
       "50459    4.0\n",
       "Name: stars, dtype: float64"
      ]
     },
     "execution_count": 47,
     "metadata": {},
     "output_type": "execute_result"
    }
   ],
   "source": [
    "y_train.head()"
   ]
  },
  {
   "cell_type": "code",
   "execution_count": null,
   "metadata": {},
   "outputs": [],
   "source": [
    "#obtain tfidf score for tips\n",
    "#vectorizer = sk_text.TfidfVectorizer(stop_words='english', max_features=250, min_df=10)\n",
    "\n",
    "#tips_matrix_train = vectorizer.fit_transform(x_train['all_tips'])\n",
    "#tips_tfidf_train = tips_matrix_train.toarray()\n",
    "\n",
    "#tips_matrix_test = vectorizer.transform(x_test['all_tips'])\n",
    "#tips_tfidf_test = tips_matrix_test.toarray()\n",
    "\n",
    "#vectorizer.get_feature_names()"
   ]
  },
  {
   "cell_type": "code",
   "execution_count": 28,
   "metadata": {},
   "outputs": [
    {
     "data": {
      "text/plain": [
       "(14411, 501)"
      ]
     },
     "execution_count": 28,
     "metadata": {},
     "output_type": "execute_result"
    }
   ],
   "source": [
    "temp = x_train['review_count_zscore'].values\n",
    "#input_data_train = np.column_stack((reviews_tfidf_train, tips_tfidf_train))\n",
    "#input_data_train = np.column_stack((input_data_train, temp))\n",
    "input_data_train = np.column_stack((reviews_tfidf_train, temp))\n",
    "input_data_train.shape\n",
    "\n",
    "temp = x_test['review_count_zscore'].values\n",
    "#input_data_test = np.column_stack((reviews_tfidf_test, tips_tfidf_test))\n",
    "#input_data_test = np.column_stack((input_data_test, temp))\n",
    "input_data_test = np.column_stack((reviews_tfidf_test, temp))\n",
    "input_data_test.shape"
   ]
  },
  {
   "cell_type": "code",
   "execution_count": 48,
   "metadata": {},
   "outputs": [
    {
     "data": {
      "text/plain": [
       "numpy.ndarray"
      ]
     },
     "execution_count": 48,
     "metadata": {},
     "output_type": "execute_result"
    }
   ],
   "source": [
    "type(input_data_train)"
   ]
  },
  {
   "cell_type": "code",
   "execution_count": 49,
   "metadata": {},
   "outputs": [],
   "source": [
    "#convert into dataframe\n",
    "df_train = pd.DataFrame(input_data_train)\n",
    "df_test = pd.DataFrame(input_data_test)\n",
    "df_train['stars'] = y_train.values\n",
    "df_test['stars'] = y_test.values\n",
    "#df_train.dropna()\n",
    "#missing_median(df_train, 'stars')\n",
    "#missing_median(df_test, 'stars')"
   ]
  },
  {
   "cell_type": "code",
   "execution_count": 52,
   "metadata": {},
   "outputs": [
    {
     "data": {
      "text/plain": [
       "False"
      ]
     },
     "execution_count": 52,
     "metadata": {},
     "output_type": "execute_result"
    }
   ],
   "source": [
    "df_test.isnull().values.any()"
   ]
  },
  {
   "cell_type": "code",
   "execution_count": 34,
   "metadata": {},
   "outputs": [
    {
     "data": {
      "text/plain": [
       "(43233, 502)"
      ]
     },
     "execution_count": 34,
     "metadata": {},
     "output_type": "execute_result"
    }
   ],
   "source": [
    "df_train.shape"
   ]
  },
  {
   "cell_type": "code",
   "execution_count": 53,
   "metadata": {},
   "outputs": [],
   "source": [
    "x_train_tf,y_train_tf = to_xy(df_train,'stars')"
   ]
  },
  {
   "cell_type": "code",
   "execution_count": 54,
   "metadata": {},
   "outputs": [],
   "source": [
    "x_test_tf,y_test_tf = to_xy(df_test,'stars')"
   ]
  },
  {
   "cell_type": "code",
   "execution_count": 55,
   "metadata": {},
   "outputs": [
    {
     "data": {
      "text/plain": [
       "array([4.5, 4.5, 3.5, ..., 4.5, 3.5, 4.5], dtype=float32)"
      ]
     },
     "execution_count": 55,
     "metadata": {},
     "output_type": "execute_result"
    }
   ],
   "source": [
    "y_train_tf"
   ]
  },
  {
   "cell_type": "markdown",
   "metadata": {},
   "source": [
    "# Tensorflow"
   ]
  },
  {
   "cell_type": "markdown",
   "metadata": {},
   "source": [
    "### Regression model"
   ]
  },
  {
   "cell_type": "code",
   "execution_count": 56,
   "metadata": {},
   "outputs": [
    {
     "name": "stderr",
     "output_type": "stream",
     "text": [
      "Using TensorFlow backend.\n"
     ]
    }
   ],
   "source": [
    "from keras.models import Sequential\n",
    "from keras.layers.core import Dense, Activation\n",
    "from keras.callbacks import EarlyStopping\n",
    "from keras.callbacks import ModelCheckpoint\n",
    "from keras import optimizers"
   ]
  },
  {
   "cell_type": "code",
   "execution_count": 62,
   "metadata": {},
   "outputs": [
    {
     "name": "stdout",
     "output_type": "stream",
     "text": [
      "Train on 43233 samples, validate on 14411 samples\n",
      "Epoch 1/1000\n",
      " - 6s - loss: 0.2476 - val_loss: 0.1162\n",
      "Epoch 2/1000\n",
      " - 5s - loss: 0.0864 - val_loss: 0.0801\n",
      "Epoch 3/1000\n",
      " - 5s - loss: 0.0783 - val_loss: 0.0891\n",
      "Epoch 4/1000\n",
      " - 5s - loss: 0.0757 - val_loss: 0.1199\n",
      "Epoch 5/1000\n",
      " - 5s - loss: 0.0702 - val_loss: 0.0798\n",
      "Epoch 6/1000\n",
      " - 5s - loss: 0.0683 - val_loss: 0.0710\n",
      "Epoch 7/1000\n",
      " - 5s - loss: 0.0657 - val_loss: 0.0725\n",
      "Epoch 8/1000\n",
      " - 5s - loss: 0.0624 - val_loss: 0.0716\n",
      "Epoch 9/1000\n",
      " - 5s - loss: 0.0587 - val_loss: 0.0741\n",
      "Epoch 10/1000\n",
      " - 5s - loss: 0.0574 - val_loss: 0.0727\n",
      "Epoch 11/1000\n",
      " - 5s - loss: 0.0536 - val_loss: 0.0950\n",
      "Epoch 00011: early stopping\n"
     ]
    },
    {
     "data": {
      "text/plain": [
       "<keras.callbacks.History at 0x279e4d4e898>"
      ]
     },
     "execution_count": 62,
     "metadata": {},
     "output_type": "execute_result"
    }
   ],
   "source": [
    "model = Sequential()\n",
    "\n",
    "model.add(Dense(100, input_dim=x_train_tf.shape[1], activation='relu')) # Hidden 1     #  why input_dim=x.shape[1]?  \n",
    "model.add(Dense(200, activation='relu')) # Hidden 2\n",
    "model.add(Dense(300, activation='relu')) # Hidden 3\n",
    "model.add(Dense(200, activation='relu')) # Hidden 4\n",
    "model.add(Dense(1)) # Output\n",
    "\n",
    "model.compile(loss='mean_squared_error', optimizer='adam')\n",
    "\n",
    "monitor = EarlyStopping(monitor='val_loss', min_delta=1e-3, patience=5, verbose=1, mode='auto')\n",
    "checkpointer = ModelCheckpoint(filepath=\".\\lowest_error.hdf5\", verbose=0, save_best_only=True) # save best model\n",
    "\n",
    "\n",
    "model.fit(x_train_tf,y_train_tf, validation_data=(x_test_tf,y_test_tf), callbacks=[monitor,checkpointer],verbose=2,epochs=1000)    # Verbosity mode. 0 = silent, 1 = progress bar, 2 = one line per epoch.\n"
   ]
  },
  {
   "cell_type": "code",
   "execution_count": 63,
   "metadata": {},
   "outputs": [
    {
     "name": "stdout",
     "output_type": "stream",
     "text": [
      "Shape: (14411, 1)\n",
      "[[4.565313 ]\n",
      " [3.9358768]\n",
      " [3.6168494]\n",
      " ...\n",
      " [4.049435 ]\n",
      " [4.210229 ]\n",
      " [3.112597 ]]\n"
     ]
    }
   ],
   "source": [
    "pred = model.predict(x_test_tf)\n",
    "print(\"Shape: {}\".format(pred.shape))\n",
    "print(pred)"
   ]
  },
  {
   "cell_type": "code",
   "execution_count": 64,
   "metadata": {},
   "outputs": [
    {
     "name": "stdout",
     "output_type": "stream",
     "text": [
      "Final score (RMSE): 0.3082558810710907\n"
     ]
    }
   ],
   "source": [
    "score = np.sqrt(metrics.mean_squared_error(pred,y_test_tf))\n",
    "print(\"Final score (RMSE): {}\".format(score))"
   ]
  },
  {
   "cell_type": "code",
   "execution_count": 68,
   "metadata": {},
   "outputs": [
    {
     "data": {
      "text/plain": [
       "(14411,)"
      ]
     },
     "execution_count": 68,
     "metadata": {},
     "output_type": "execute_result"
    }
   ],
   "source": [
    "y_test_tf.shape"
   ]
  },
  {
   "cell_type": "code",
   "execution_count": 65,
   "metadata": {},
   "outputs": [
    {
     "data": {
      "image/png": "[encoded data removed]",
      "text/plain": [
       "<Figure size 432x288 with 1 Axes>"
      ]
     },
     "metadata": {
      "needs_background": "light"
     },
     "output_type": "display_data"
    }
   ],
   "source": [
    "# Plot the chart\n",
    "chart_regression(pred.flatten(),y_test_tf)"
   ]
  },
  {
   "cell_type": "code",
   "execution_count": 66,
   "metadata": {},
   "outputs": [
    {
     "data": {
      "image/png": "[encoded data removed]",
      "text/plain": [
       "<Figure size 432x288 with 1 Axes>"
      ]
     },
     "metadata": {
      "needs_background": "light"
     },
     "output_type": "display_data"
    }
   ],
   "source": [
    "chart_regression(pred.flatten(),y_test_tf, sort=False)"
   ]
  },
  {
   "cell_type": "markdown",
   "metadata": {},
   "source": [
    "### Use tfidfVectorizer to obtain TFIDF representation for each business"
   ]
  },
  {
   "cell_type": "code",
   "execution_count": null,
   "metadata": {},
   "outputs": [],
   "source": [
    "#obtain tfidf score for reviews\n",
    "vectorizer = sk_text.TfidfVectorizer(max_features=250, min_df=10)\n",
    "\n",
    "reviews_matrix = vectorizer.fit_transform(df_ready_for_sklearn['all_reviews'])\n",
    "\n",
    "reviews_tfidf = reviews_matrix.toarray()"
   ]
  },
  {
   "cell_type": "code",
   "execution_count": null,
   "metadata": {},
   "outputs": [],
   "source": [
    "print(reviews_tfidf.shape)\n",
    "vectorizer.get_feature_names()"
   ]
  },
  {
   "cell_type": "code",
   "execution_count": null,
   "metadata": {},
   "outputs": [],
   "source": [
    "#obtain tfidf score for tips\n",
    "vectorizer = sk_text.TfidfVectorizer(max_features=250, min_df=10)\n",
    "\n",
    "tips_matrix = vectorizer.fit_transform(df_ready_for_sklearn['all_tips'])\n",
    "\n",
    "tips_tfidf = tips_matrix.toarray()"
   ]
  },
  {
   "cell_type": "code",
   "execution_count": null,
   "metadata": {},
   "outputs": [],
   "source": [
    "print(tips_tfidf[0:5])\n",
    "vectorizer.get_feature_names()"
   ]
  },
  {
   "cell_type": "markdown",
   "metadata": {},
   "source": [
    "# Linear Regression"
   ]
  },
  {
   "cell_type": "markdown",
   "metadata": {},
   "source": [
    "Preparing data for training/testing"
   ]
  },
  {
   "cell_type": "code",
   "execution_count": null,
   "metadata": {},
   "outputs": [],
   "source": [
    "#Merge reviews_tfidf, tips_tfidf and review_count into one array for input\n",
    "temp = df_ready_for_sklearn['review_count_zscore'].values\n",
    "input_data = np.column_stack((reviews_tfidf, tips_tfidf))\n",
    "input_data = np.column_stack((input_data, temp))\n",
    "input_data.shape"
   ]
  },
  {
   "cell_type": "code",
   "execution_count": null,
   "metadata": {},
   "outputs": [],
   "source": [
    "#split into train/test data\n",
    "x_train, x_test, y_train, y_test = train_test_split(input_data, df_ready_for_sklearn['stars'], test_size=0.25, random_state=43)"
   ]
  },
  {
   "cell_type": "code",
   "execution_count": null,
   "metadata": {},
   "outputs": [],
   "source": [
    "test_data = input_data[test_loc[0]]\n",
    "for i in range(1, len(test_loc)):\n",
    "    test_data = np.append(test_data, input_data[test_loc[i]], axis=0)\n",
    "test_data.shape"
   ]
  },
  {
   "cell_type": "code",
   "execution_count": null,
   "metadata": {},
   "outputs": [],
   "source": [
    "print(x_train.shape)\n",
    "print(x_test.shape)\n",
    "print(y_train.shape)\n",
    "print(y_test.shape)"
   ]
  },
  {
   "cell_type": "code",
   "execution_count": null,
   "metadata": {},
   "outputs": [],
   "source": [
    "from sklearn.linear_model import LinearRegression\n",
    "\n",
    "# instantiate the model (using the default parameters)\n",
    "linreg = LinearRegression()\n",
    "\n",
    "# fit the model with data\n",
    "linreg.fit(x_train, y_train)\n",
    "\n",
    "# predict the response for new observations\n",
    "y_pred_Linear = linreg.predict(test_data)"
   ]
  },
  {
   "cell_type": "code",
   "execution_count": null,
   "metadata": {},
   "outputs": [],
   "source": [
    "print(\"Prediction result: \")\n",
    "print(\"Business ID                         Categories             Predicted Star Rating         True Star Rating\")\n",
    "for i in range(5):\n",
    "    print(\"{:.20}             {:.23}         {:.5}                         {}\".format(test_businesses[i]['business_id'], test_businesses[i]['categories'], y_pred_Linear[i], test_true_stars[i]))"
   ]
  },
  {
   "cell_type": "markdown",
   "metadata": {},
   "source": [
    "### Support Vector Machine"
   ]
  },
  {
   "cell_type": "code",
   "execution_count": null,
   "metadata": {},
   "outputs": [],
   "source": [
    "#split into train/test data\n",
    "#using encoded stars because classification problem\n",
    "x_train, x_test, y_train, y_test = train_test_split(input_data, df_ready_for_sklearn['encoded_stars'], test_size=0.25, random_state=43)"
   ]
  },
  {
   "cell_type": "code",
   "execution_count": null,
   "metadata": {},
   "outputs": [],
   "source": [
    "print(x_train.shape)\n",
    "print(x_test.shape)\n",
    "print(y_train.shape)\n",
    "print(y_test.shape)"
   ]
  },
  {
   "cell_type": "code",
   "execution_count": null,
   "metadata": {},
   "outputs": [],
   "source": [
    "from sklearn.svm import LinearSVC\n",
    "\n",
    "clf = LinearSVC(dual=False)\n",
    "clf.fit(x_train, y_train)\n",
    "\n",
    "y_pred_SVM = clf.predict(test_data)"
   ]
  },
  {
   "cell_type": "code",
   "execution_count": null,
   "metadata": {},
   "outputs": [],
   "source": [
    "y_pred_SVM = le.inverse_transform(y_pred_SVM)\n",
    "print(\"Prediction result: \")\n",
    "print(\"Business ID                         Categories             Predicted Star Rating         True Star Rating\")\n",
    "for i in range(5):\n",
    "    print(\"{:.20}             {:.23}         {:.5}                         {}\".format(test_businesses[i]['business_id'], test_businesses[i]['categories'], y_pred_SVM[i], test_true_stars[i]))"
   ]
  },
  {
   "cell_type": "markdown",
   "metadata": {},
   "source": [
    "### Logistic Regression"
   ]
  },
  {
   "cell_type": "code",
   "execution_count": null,
   "metadata": {},
   "outputs": [],
   "source": [
    "from sklearn.linear_model import LogisticRegression\n",
    "\n",
    "# instantiate the model (using the default parameters)\n",
    "logreg = LogisticRegression()\n",
    "\n",
    "# fit the model with data\n",
    "logreg.fit(x_train, y_train)\n",
    "\n",
    "# predict the response for new observations\n",
    "y_pred_Logistic = logreg.predict(test_data)"
   ]
  },
  {
   "cell_type": "code",
   "execution_count": null,
   "metadata": {},
   "outputs": [],
   "source": [
    "y_pred_Logistic = le.inverse_transform(y_pred_Logistic)\n",
    "print(\"Prediction result: \")\n",
    "print(\"Business ID                         Categories             Predicted Star Rating         True Star Rating\")\n",
    "for i in range(5):\n",
    "    print(\"{:.20}             {:.23}         {:.5}                         {}\".format(test_businesses[i]['business_id'], test_businesses[i]['categories'], y_pred_Logistic[i], test_true_stars[i]))"
   ]
  },
  {
   "cell_type": "markdown",
   "metadata": {},
   "source": [
    "### Nearest Neighbor"
   ]
  },
  {
   "cell_type": "code",
   "execution_count": null,
   "metadata": {},
   "outputs": [],
   "source": [
    "from sklearn.neighbors import KNeighborsClassifier\n",
    "\n",
    "# instantiate the model (using the value K=10)\n",
    "knn = KNeighborsClassifier(n_neighbors=10)\n",
    "\n",
    "# fit the model with data\n",
    "knn.fit(x_train, y_train)"
   ]
  },
  {
   "cell_type": "code",
   "execution_count": null,
   "metadata": {},
   "outputs": [],
   "source": [
    "# predict the response for new observations\n",
    "y_neighbor = knn.predict(test_data)"
   ]
  },
  {
   "cell_type": "code",
   "execution_count": null,
   "metadata": {},
   "outputs": [],
   "source": [
    "y_neighbor = le.inverse_transform(y_neighbor)\n",
    "print(\"Prediction result: \")\n",
    "print(\"Business ID                         Categories             Predicted Star Rating         True Star Rating\")\n",
    "for i in range(5):\n",
    "    print(\"{:.20}             {:.23}         {:.5}                         {}\".format(test_businesses[i]['business_id'], test_businesses[i]['categories'], y_neighbor[i], test_true_stars[i]))"
   ]
  },
  {
   "cell_type": "markdown",
   "metadata": {},
   "source": [
    "### Multinomial Naive Bayes"
   ]
  },
  {
   "cell_type": "code",
   "execution_count": null,
   "metadata": {},
   "outputs": [],
   "source": [
    "from sklearn.preprocessing import MinMaxScaler\n",
    "\n",
    "scaler = MinMaxScaler()\n",
    "\n",
    "temp = scaler.fit_transform(df_ready_for_sklearn['review_count'].values.reshape(1, -1))\n",
    "\n",
    "input_data_MNB = np.column_stack((reviews_tfidf, tips_tfidf))\n",
    "input_data_MNB = np.column_stack((input_data_MNB, temp.reshape(-1,1)))\n",
    "\n",
    "input_data_MNB"
   ]
  },
  {
   "cell_type": "code",
   "execution_count": null,
   "metadata": {},
   "outputs": [],
   "source": [
    "test_data = input_data_MNB[test_loc[0]]\n",
    "for i in range(1, len(test_loc)):\n",
    "    test_data = np.append(test_data, input_data_MNB[test_loc[i]], axis=0)\n",
    "test_data.shape"
   ]
  },
  {
   "cell_type": "code",
   "execution_count": null,
   "metadata": {},
   "outputs": [],
   "source": [
    "x_train, x_test, y_train, y_test = train_test_split(input_data_MNB, df_ready_for_sklearn['encoded_stars'], test_size=0.25, random_state=43)"
   ]
  },
  {
   "cell_type": "code",
   "execution_count": null,
   "metadata": {},
   "outputs": [],
   "source": [
    "from sklearn.naive_bayes import MultinomialNB\n",
    "\n",
    "# instantiate the model (using the default parameters)\n",
    "mnb = MultinomialNB()\n",
    "\n",
    "# fit the model with data\n",
    "mnb.fit(x_train, y_train)\n",
    "\n",
    "# predict the response for new observations\n",
    "y_mnb = mnb.predict(test_data)"
   ]
  },
  {
   "cell_type": "code",
   "execution_count": null,
   "metadata": {
    "scrolled": false
   },
   "outputs": [],
   "source": [
    "y_mnb = le.inverse_transform(y_mnb)\n",
    "print(\"Prediction result: \")\n",
    "print(\"Business ID                         Categories             Predicted Star Rating         True Star Rating\")\n",
    "for i in range(5):\n",
    "    print(\"{:.20}             {:.23}         {:.5}                         {}\".format(test_businesses[i]['business_id'], test_businesses[i]['categories'], y_mnb[i], test_true_stars[i]))"
   ]
  }
 ],
 "metadata": {
  "kernelspec": {
   "display_name": "Python 3",
   "language": "python",
   "name": "python3"
  },
  "language_info": {
   "codemirror_mode": {
    "name": "ipython",
    "version": 3
   },
   "file_extension": ".py",
   "mimetype": "text/x-python",
   "name": "python",
   "nbconvert_exporter": "python",
   "pygments_lexer": "ipython3",
   "version": "3.6.5"
  }
 },
 "nbformat": 4,
 "nbformat_minor": 2
}
