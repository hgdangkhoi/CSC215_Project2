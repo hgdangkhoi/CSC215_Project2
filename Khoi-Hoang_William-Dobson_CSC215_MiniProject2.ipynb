{
 "cells": [
  {
   "cell_type": "markdown",
   "metadata": {},
   "source": [
    "## CSC 215 - Project 2\n",
    "### Khoi Hoang\n",
    "### William Dobson"
   ]
  },
  {
   "cell_type": "code",
   "execution_count": 248,
   "metadata": {},
   "outputs": [],
   "source": [
    "import os\n",
    "import csv\n",
    "import json\n",
    "import numpy as np\n",
    "import pandas as pd\n",
    "import matplotlib.pyplot as plt\n",
    "import collections\n",
    "import sklearn.feature_extraction.text as sk_text\n",
    "from scipy.stats import zscore\n",
    "from sklearn import preprocessing\n",
    "from sklearn.model_selection import train_test_split\n",
    "from sklearn import metrics\n",
    "from sklearn.metrics import roc_curve, auc\n",
    "from sklearn import svm, datasets\n",
    "from sklearn.metrics import confusion_matrix, classification_report\n",
    "from matplotlib.pyplot import figure, show\n",
    "%matplotlib inline"
   ]
  },
  {
   "cell_type": "code",
   "execution_count": 2,
   "metadata": {},
   "outputs": [],
   "source": [
    "# Encode text values to dummy variables(i.e. [1,0,0],[0,1,0],[0,0,1] for red,green,blue)\n",
    "def encode_text_dummy(df, name):\n",
    "    dummies = pd.get_dummies(df[name])\n",
    "    for x in dummies.columns:\n",
    "        dummy_name = \"{}-{}\".format(name, x)\n",
    "        df[dummy_name] = dummies[x]\n",
    "    df.drop(name, axis=1, inplace=True)\n",
    "\n",
    "# Encode text values to indexes(i.e. [1],[2],[3] for red,green,blue).\n",
    "def encode_text_index(df, name):\n",
    "    le = preprocessing.LabelEncoder()\n",
    "    df[name] = le.fit_transform(df[name])\n",
    "    return le.classes_\n",
    "\n",
    "# Encode a numeric column as zscores\n",
    "def encode_numeric_zscore(df, name, mean=None, sd=None):\n",
    "    if mean is None:\n",
    "        mean = df[name].mean()\n",
    "\n",
    "    if sd is None:\n",
    "        sd = df[name].std()\n",
    "\n",
    "    df[name] = (df[name] - mean) / sd\n",
    "    \n",
    "# Convert all missing values in the specified column to the median\n",
    "def missing_median(df, name):\n",
    "    med = df[name].median()\n",
    "    df[name] = df[name].fillna(med)    \n",
    "\n",
    "# Regression chart.\n",
    "def chart_regression(pred,y,sort=True):\n",
    "    t = pd.DataFrame({'pred' : pred, 'y' : y.flatten()})\n",
    "    if sort:\n",
    "        t.sort_values(by=['y'],inplace=True)\n",
    "    a = plt.plot(t['y'].tolist(),label='expected')\n",
    "    b = plt.plot(t['pred'].tolist(),label='prediction')\n",
    "    plt.ylabel('output')\n",
    "    plt.legend()\n",
    "    plt.show()    \n",
    "    \n",
    "# Convert a Pandas dataframe to the x,y inputs that TensorFlow needs\n",
    "def to_xy(df, target):\n",
    "    result = []\n",
    "    for x in df.columns:\n",
    "        if x != target:\n",
    "            result.append(x)\n",
    "    # find out the type of the target column. \n",
    "    target_type = df[target].dtypes\n",
    "    target_type = target_type[0] if isinstance(target_type, collections.Sequence) else target_type\n",
    "    # Encode to int for classification, float otherwise. TensorFlow likes 32 bits.\n",
    "    if target_type in (np.int64, np.int32):\n",
    "        # Classification\n",
    "        dummies = pd.get_dummies(df[target])\n",
    "        return df[result].values.astype(np.float32), dummies.values.astype(np.float32)\n",
    "    else:\n",
    "        # Regression\n",
    "        return df[result].values.astype(np.float32), df[target].values.astype(np.float32)\n"
   ]
  },
  {
   "cell_type": "code",
   "execution_count": 3,
   "metadata": {},
   "outputs": [],
   "source": [
    "# Plot a confusion matrix.\n",
    "# cm is the confusion matrix, names are the names of the classes.\n",
    "def plot_confusion_matrix(cm, names, title='Confusion matrix', cmap=plt.cm.Blues):\n",
    "    plt.imshow(cm, interpolation='nearest', cmap=cmap)\n",
    "    plt.title(title)\n",
    "    plt.colorbar()\n",
    "    tick_marks = np.arange(len(names))\n",
    "    plt.xticks(tick_marks, names, rotation=45)\n",
    "    plt.yticks(tick_marks, names)\n",
    "    plt.tight_layout()\n",
    "    plt.ylabel('True label')\n",
    "    plt.xlabel('Predicted label')\n",
    "    \n",
    "\n",
    "# Plot an ROC. pred - the predictions, y - the expected output.\n",
    "def plot_roc(pred,y):\n",
    "    fpr, tpr, thresholds = roc_curve(y, pred)\n",
    "    roc_auc = auc(fpr, tpr)\n",
    "\n",
    "    plt.figure()\n",
    "    plt.plot(fpr, tpr, label='ROC curve (area = %0.2f)' % roc_auc)\n",
    "    plt.plot([0, 1], [0, 1], 'k--')\n",
    "    plt.xlim([0.0, 1.0])\n",
    "    plt.ylim([0.0, 1.05])\n",
    "    plt.xlabel('False Positive Rate')\n",
    "    plt.ylabel('True Positive Rate')\n",
    "    plt.title('Receiver Operating Characteristic (ROC)')\n",
    "    plt.legend(loc=\"lower right\")\n",
    "    plt.show()"
   ]
  },
  {
   "cell_type": "markdown",
   "metadata": {},
   "source": [
    "### Convert JSON data into tabular format for Pandas"
   ]
  },
  {
   "cell_type": "code",
   "execution_count": null,
   "metadata": {},
   "outputs": [],
   "source": [
    "#reviews.json\n",
    "outfile = open(\"review_stars.tsv\", 'w')\n",
    "sfile = csv.writer(outfile, delimiter =\"\\t\", quoting=csv.QUOTE_MINIMAL)\n",
    "sfile.writerow(['business_id','stars', 'text'])\n",
    "with open('review.json', encoding=\"utf8\") as f:\n",
    "    for line in f:\n",
    "        row = json.loads(line)\n",
    "        # some special char must be encoded in 'utf-8'\n",
    "        sfile.writerow([row['business_id'], row['stars'], (row['text']).encode('utf-8')])\n",
    "\n",
    "outfile.close()"
   ]
  },
  {
   "cell_type": "code",
   "execution_count": null,
   "metadata": {},
   "outputs": [],
   "source": [
    "#business.json\n",
    "outfile = open(\"business.tsv\", 'w')\n",
    "sfile = csv.writer(outfile, delimiter =\"\\t\", quoting=csv.QUOTE_MINIMAL)\n",
    "sfile.writerow(['business_id','stars', 'review_count', 'categories'])\n",
    "with open('business.json', encoding=\"utf8\") as f:\n",
    "    for line in f:\n",
    "        row = json.loads(line)\n",
    "        # some special char must be encoded in 'utf-8'\n",
    "        sfile.writerow([row['business_id'], row['stars'], row['review_count'], row['categories']])\n",
    "\n",
    "outfile.close()"
   ]
  },
  {
   "cell_type": "code",
   "execution_count": null,
   "metadata": {},
   "outputs": [],
   "source": [
    "#tip.json\n",
    "outfile = open(\"tip.tsv\", 'w')\n",
    "sfile = csv.writer(outfile, delimiter =\"\\t\", quoting=csv.QUOTE_MINIMAL)\n",
    "sfile.writerow(['business_id','text'])\n",
    "with open('tip.json', encoding=\"utf8\") as f:\n",
    "    for line in f:\n",
    "        row = json.loads(line)\n",
    "        # some special char must be encoded in 'utf-8'\n",
    "        sfile.writerow([row['business_id'], (row['text']).encode('utf-8')])\n",
    "\n",
    "outfile.close()"
   ]
  },
  {
   "cell_type": "code",
   "execution_count": 4,
   "metadata": {},
   "outputs": [
    {
     "data": {
      "text/html": [
       "<div>\n",
       "<style scoped>\n",
       "    .dataframe tbody tr th:only-of-type {\n",
       "        vertical-align: middle;\n",
       "    }\n",
       "\n",
       "    .dataframe tbody tr th {\n",
       "        vertical-align: top;\n",
       "    }\n",
       "\n",
       "    .dataframe thead th {\n",
       "        text-align: right;\n",
       "    }\n",
       "</style>\n",
       "<table border=\"1\" class=\"dataframe\">\n",
       "  <thead>\n",
       "    <tr style=\"text-align: right;\">\n",
       "      <th></th>\n",
       "      <th>business_id</th>\n",
       "      <th>text</th>\n",
       "    </tr>\n",
       "  </thead>\n",
       "  <tbody>\n",
       "    <tr>\n",
       "      <th>0</th>\n",
       "      <td>VaKXUpmWTTWDKbpJ3aQdMw</td>\n",
       "      <td>b'Great for watching games, ufc, and whatever ...</td>\n",
       "    </tr>\n",
       "    <tr>\n",
       "      <th>1</th>\n",
       "      <td>OPiPeoJiv92rENwbq76orA</td>\n",
       "      <td>b'Happy Hour 2-4 daily with 1/2 price drinks a...</td>\n",
       "    </tr>\n",
       "    <tr>\n",
       "      <th>2</th>\n",
       "      <td>5KheTjYPu1HcQzQFtm4_vw</td>\n",
       "      <td>b'Good chips and salsa. Loud at times. Good se...</td>\n",
       "    </tr>\n",
       "    <tr>\n",
       "      <th>3</th>\n",
       "      <td>TkoyGi8J7YFjA6SbaRzrxg</td>\n",
       "      <td>b'The setting and decoration here is amazing. ...</td>\n",
       "    </tr>\n",
       "    <tr>\n",
       "      <th>4</th>\n",
       "      <td>AkL6Ous6A1atZejfZXn1Bg</td>\n",
       "      <td>b'Molly is definately taking a picture with Sa...</td>\n",
       "    </tr>\n",
       "  </tbody>\n",
       "</table>\n",
       "</div>"
      ],
      "text/plain": [
       "              business_id                                               text\n",
       "0  VaKXUpmWTTWDKbpJ3aQdMw  b'Great for watching games, ufc, and whatever ...\n",
       "1  OPiPeoJiv92rENwbq76orA  b'Happy Hour 2-4 daily with 1/2 price drinks a...\n",
       "2  5KheTjYPu1HcQzQFtm4_vw  b'Good chips and salsa. Loud at times. Good se...\n",
       "3  TkoyGi8J7YFjA6SbaRzrxg  b'The setting and decoration here is amazing. ...\n",
       "4  AkL6Ous6A1atZejfZXn1Bg  b'Molly is definately taking a picture with Sa..."
      ]
     },
     "execution_count": 4,
     "metadata": {},
     "output_type": "execute_result"
    }
   ],
   "source": [
    "df_review= pd.read_csv('review_stars.tsv', delimiter =\"\\t\", encoding=\"utf-8\")\n",
    "df_business= pd.read_csv('business.tsv', delimiter =\"\\t\", encoding=\"utf-8\")\n",
    "df_tip= pd.read_csv('tip.tsv', delimiter =\"\\t\", encoding=\"utf-8\")\n",
    "df_tip[0:5]"
   ]
  },
  {
   "cell_type": "code",
   "execution_count": 5,
   "metadata": {},
   "outputs": [
    {
     "data": {
      "text/html": [
       "<div>\n",
       "<style scoped>\n",
       "    .dataframe tbody tr th:only-of-type {\n",
       "        vertical-align: middle;\n",
       "    }\n",
       "\n",
       "    .dataframe tbody tr th {\n",
       "        vertical-align: top;\n",
       "    }\n",
       "\n",
       "    .dataframe thead th {\n",
       "        text-align: right;\n",
       "    }\n",
       "</style>\n",
       "<table border=\"1\" class=\"dataframe\">\n",
       "  <thead>\n",
       "    <tr style=\"text-align: right;\">\n",
       "      <th></th>\n",
       "      <th>business_id</th>\n",
       "      <th>stars</th>\n",
       "      <th>text</th>\n",
       "    </tr>\n",
       "  </thead>\n",
       "  <tbody>\n",
       "    <tr>\n",
       "      <th>0</th>\n",
       "      <td>ujmEBvifdJM6h6RLv4wQIg</td>\n",
       "      <td>1.0</td>\n",
       "      <td>b'Total bill for this horrible service? Over $...</td>\n",
       "    </tr>\n",
       "    <tr>\n",
       "      <th>1</th>\n",
       "      <td>NZnhc2sEQy3RmzKTZnqtwQ</td>\n",
       "      <td>5.0</td>\n",
       "      <td>b\"I *adore* Travis at the Hard Rock's new Kell...</td>\n",
       "    </tr>\n",
       "    <tr>\n",
       "      <th>2</th>\n",
       "      <td>WTqjgwHlXbSFevF32_DJVw</td>\n",
       "      <td>5.0</td>\n",
       "      <td>b\"I have to say that this office really has it...</td>\n",
       "    </tr>\n",
       "    <tr>\n",
       "      <th>3</th>\n",
       "      <td>ikCg8xy5JIg_NGPx-MSIDA</td>\n",
       "      <td>5.0</td>\n",
       "      <td>b\"Went in for a lunch. Steak sandwich was deli...</td>\n",
       "    </tr>\n",
       "    <tr>\n",
       "      <th>4</th>\n",
       "      <td>b1b1eb3uo-w561D0ZfCEiQ</td>\n",
       "      <td>1.0</td>\n",
       "      <td>b'Today was my second out of three sessions I ...</td>\n",
       "    </tr>\n",
       "  </tbody>\n",
       "</table>\n",
       "</div>"
      ],
      "text/plain": [
       "              business_id  stars  \\\n",
       "0  ujmEBvifdJM6h6RLv4wQIg    1.0   \n",
       "1  NZnhc2sEQy3RmzKTZnqtwQ    5.0   \n",
       "2  WTqjgwHlXbSFevF32_DJVw    5.0   \n",
       "3  ikCg8xy5JIg_NGPx-MSIDA    5.0   \n",
       "4  b1b1eb3uo-w561D0ZfCEiQ    1.0   \n",
       "\n",
       "                                                text  \n",
       "0  b'Total bill for this horrible service? Over $...  \n",
       "1  b\"I *adore* Travis at the Hard Rock's new Kell...  \n",
       "2  b\"I have to say that this office really has it...  \n",
       "3  b\"Went in for a lunch. Steak sandwich was deli...  \n",
       "4  b'Today was my second out of three sessions I ...  "
      ]
     },
     "execution_count": 5,
     "metadata": {},
     "output_type": "execute_result"
    }
   ],
   "source": [
    "df_review.head()"
   ]
  },
  {
   "cell_type": "code",
   "execution_count": 6,
   "metadata": {},
   "outputs": [
    {
     "data": {
      "text/plain": [
       "(6678404, 3)"
      ]
     },
     "execution_count": 6,
     "metadata": {},
     "output_type": "execute_result"
    }
   ],
   "source": [
    "#only consider reviews that have more than 50 characters\n",
    "df_review = df_review[df_review['text'].str.len() >= 50]\n",
    "df_review.shape"
   ]
  },
  {
   "cell_type": "code",
   "execution_count": 7,
   "metadata": {},
   "outputs": [
    {
     "data": {
      "text/plain": [
       "(1094522, 2)"
      ]
     },
     "execution_count": 7,
     "metadata": {},
     "output_type": "execute_result"
    }
   ],
   "source": [
    "df_tip = df_tip[df_tip['text'].str.len() >= 20]\n",
    "df_tip.shape"
   ]
  },
  {
   "cell_type": "code",
   "execution_count": 13,
   "metadata": {},
   "outputs": [],
   "source": [
    "#group all reviews by each business and create a new dataframe, where each line is a business with all its reviews\n",
    "df_review_agg = df_review.groupby('business_id')['text'].sum()\n",
    "\n",
    "df_all_reviews = pd.DataFrame({'business_id': df_review_agg.index, 'all_reviews': df_review_agg.values})"
   ]
  },
  {
   "cell_type": "code",
   "execution_count": 14,
   "metadata": {},
   "outputs": [],
   "source": [
    "#group all tip by each business and create a new dataframe, where each line is a business with all its tips\n",
    "df_tip_agg = df_tip.groupby('business_id')['text'].sum()\n",
    "\n",
    "df_all_tips = pd.DataFrame({'business_id': df_tip_agg.index, 'all_tips': df_tip_agg.values})"
   ]
  },
  {
   "cell_type": "code",
   "execution_count": 110,
   "metadata": {},
   "outputs": [
    {
     "name": "stdout",
     "output_type": "stream",
     "text": [
      "(120966, 2)\n",
      "(192606, 2)\n"
     ]
    }
   ],
   "source": [
    "print(df_all_tips.shape)\n",
    "print(df_all_reviews.shape)"
   ]
  },
  {
   "cell_type": "markdown",
   "metadata": {},
   "source": [
    "#### Only consider businesses which have more than 45 reviews"
   ]
  },
  {
   "cell_type": "code",
   "execution_count": 182,
   "metadata": {},
   "outputs": [
    {
     "data": {
      "text/plain": [
       "(120965, 6)"
      ]
     },
     "execution_count": 182,
     "metadata": {},
     "output_type": "execute_result"
    }
   ],
   "source": [
    "#merge df_business, df_all_reviews, and df_all_tips by business_id\n",
    "df_ready_for_sklearn = pd.merge(pd.merge(df_all_reviews, df_business, on='business_id', how='inner'), df_all_tips, on='business_id', how='inner')\n",
    "df_ready_for_sklearn.shape"
   ]
  },
  {
   "cell_type": "code",
   "execution_count": 183,
   "metadata": {},
   "outputs": [
    {
     "data": {
      "text/plain": [
       "(29508, 6)"
      ]
     },
     "execution_count": 183,
     "metadata": {},
     "output_type": "execute_result"
    }
   ],
   "source": [
    "df_ready_for_sklearn = df_ready_for_sklearn[df_ready_for_sklearn['review_count'] >= 45]\n",
    "df_ready_for_sklearn.shape"
   ]
  },
  {
   "cell_type": "code",
   "execution_count": 184,
   "metadata": {},
   "outputs": [],
   "source": [
    "#label encode the stars\n",
    "le = preprocessing.LabelEncoder()\n",
    "df_ready_for_sklearn['encoded_stars'] = le.fit_transform(df_ready_for_sklearn['stars'])"
   ]
  },
  {
   "cell_type": "code",
   "execution_count": 185,
   "metadata": {},
   "outputs": [
    {
     "name": "stdout",
     "output_type": "stream",
     "text": [
      "(29508, 7)\n"
     ]
    },
    {
     "data": {
      "text/html": [
       "<div>\n",
       "<style scoped>\n",
       "    .dataframe tbody tr th:only-of-type {\n",
       "        vertical-align: middle;\n",
       "    }\n",
       "\n",
       "    .dataframe tbody tr th {\n",
       "        vertical-align: top;\n",
       "    }\n",
       "\n",
       "    .dataframe thead th {\n",
       "        text-align: right;\n",
       "    }\n",
       "</style>\n",
       "<table border=\"1\" class=\"dataframe\">\n",
       "  <thead>\n",
       "    <tr style=\"text-align: right;\">\n",
       "      <th></th>\n",
       "      <th>business_id</th>\n",
       "      <th>all_reviews</th>\n",
       "      <th>stars</th>\n",
       "      <th>review_count</th>\n",
       "      <th>categories</th>\n",
       "      <th>all_tips</th>\n",
       "      <th>encoded_stars</th>\n",
       "    </tr>\n",
       "  </thead>\n",
       "  <tbody>\n",
       "    <tr>\n",
       "      <th>2</th>\n",
       "      <td>--7zmmkVg-IMGaXbuVd0SQ</td>\n",
       "      <td>b\"I'm a tad reluctant to write a review as I r...</td>\n",
       "      <td>4.0</td>\n",
       "      <td>58</td>\n",
       "      <td>Breweries, Food</td>\n",
       "      <td>b\"Good place to stop when traffic don't go.\"b'...</td>\n",
       "      <td>6</td>\n",
       "    </tr>\n",
       "    <tr>\n",
       "      <th>4</th>\n",
       "      <td>--9e1ONYQuAa-CB_Rrw7Tw</td>\n",
       "      <td>b'Very busy and noisy restaurant.\\nAsparagas w...</td>\n",
       "      <td>4.0</td>\n",
       "      <td>1613</td>\n",
       "      <td>Cajun/Creole, Seafood, Steakhouses, Restaurants</td>\n",
       "      <td>b'Wine pairings for my prix fixe meal.  Mmmm'b...</td>\n",
       "      <td>6</td>\n",
       "    </tr>\n",
       "    <tr>\n",
       "      <th>5</th>\n",
       "      <td>--DaPTJW3-tB1vP-PfdTEg</td>\n",
       "      <td>b'My sister and in laws were in town and we wa...</td>\n",
       "      <td>3.5</td>\n",
       "      <td>49</td>\n",
       "      <td>Restaurants, Breakfast &amp; Brunch</td>\n",
       "      <td>b'Awesome. Huge portions  definitely worth a v...</td>\n",
       "      <td>5</td>\n",
       "    </tr>\n",
       "    <tr>\n",
       "      <th>8</th>\n",
       "      <td>--FBCX-N37CMYDfs790Bnw</td>\n",
       "      <td>b\"My husband and I live nearby and only stoppe...</td>\n",
       "      <td>4.0</td>\n",
       "      <td>135</td>\n",
       "      <td>Nightlife, Beer, Wine &amp; Spirits, Bars, Restaur...</td>\n",
       "      <td>b'Love my girls here'b'This place is bad @$$!!...</td>\n",
       "      <td>6</td>\n",
       "    </tr>\n",
       "    <tr>\n",
       "      <th>10</th>\n",
       "      <td>--I7YYLada0tSLkORTHb5Q</td>\n",
       "      <td>b\"Had to get my wing fix, I like dry rubs on w...</td>\n",
       "      <td>3.5</td>\n",
       "      <td>96</td>\n",
       "      <td>Nightlife, Sports Bars, Restaurants, Bars, Ame...</td>\n",
       "      <td>b'Quick and Friendly service.\\nExcellent food....</td>\n",
       "      <td>5</td>\n",
       "    </tr>\n",
       "  </tbody>\n",
       "</table>\n",
       "</div>"
      ],
      "text/plain": [
       "               business_id                                        all_reviews  \\\n",
       "2   --7zmmkVg-IMGaXbuVd0SQ  b\"I'm a tad reluctant to write a review as I r...   \n",
       "4   --9e1ONYQuAa-CB_Rrw7Tw  b'Very busy and noisy restaurant.\\nAsparagas w...   \n",
       "5   --DaPTJW3-tB1vP-PfdTEg  b'My sister and in laws were in town and we wa...   \n",
       "8   --FBCX-N37CMYDfs790Bnw  b\"My husband and I live nearby and only stoppe...   \n",
       "10  --I7YYLada0tSLkORTHb5Q  b\"Had to get my wing fix, I like dry rubs on w...   \n",
       "\n",
       "    stars  review_count                                         categories  \\\n",
       "2     4.0            58                                    Breweries, Food   \n",
       "4     4.0          1613    Cajun/Creole, Seafood, Steakhouses, Restaurants   \n",
       "5     3.5            49                    Restaurants, Breakfast & Brunch   \n",
       "8     4.0           135  Nightlife, Beer, Wine & Spirits, Bars, Restaur...   \n",
       "10    3.5            96  Nightlife, Sports Bars, Restaurants, Bars, Ame...   \n",
       "\n",
       "                                             all_tips  encoded_stars  \n",
       "2   b\"Good place to stop when traffic don't go.\"b'...              6  \n",
       "4   b'Wine pairings for my prix fixe meal.  Mmmm'b...              6  \n",
       "5   b'Awesome. Huge portions  definitely worth a v...              5  \n",
       "8   b'Love my girls here'b'This place is bad @$$!!...              6  \n",
       "10  b'Quick and Friendly service.\\nExcellent food....              5  "
      ]
     },
     "execution_count": 185,
     "metadata": {},
     "output_type": "execute_result"
    }
   ],
   "source": [
    "print(df_ready_for_sklearn.shape)\n",
    "df_ready_for_sklearn[0:5]"
   ]
  },
  {
   "cell_type": "code",
   "execution_count": 186,
   "metadata": {},
   "outputs": [
    {
     "data": {
      "text/html": [
       "<div>\n",
       "<style scoped>\n",
       "    .dataframe tbody tr th:only-of-type {\n",
       "        vertical-align: middle;\n",
       "    }\n",
       "\n",
       "    .dataframe tbody tr th {\n",
       "        vertical-align: top;\n",
       "    }\n",
       "\n",
       "    .dataframe thead th {\n",
       "        text-align: right;\n",
       "    }\n",
       "</style>\n",
       "<table border=\"1\" class=\"dataframe\">\n",
       "  <thead>\n",
       "    <tr style=\"text-align: right;\">\n",
       "      <th></th>\n",
       "      <th>business_id</th>\n",
       "      <th>all_reviews</th>\n",
       "      <th>stars</th>\n",
       "      <th>review_count</th>\n",
       "      <th>categories</th>\n",
       "      <th>all_tips</th>\n",
       "      <th>encoded_stars</th>\n",
       "      <th>review_count_zscore</th>\n",
       "    </tr>\n",
       "  </thead>\n",
       "  <tbody>\n",
       "    <tr>\n",
       "      <th>2</th>\n",
       "      <td>--7zmmkVg-IMGaXbuVd0SQ</td>\n",
       "      <td>b\"I'm a tad reluctant to write a review as I r...</td>\n",
       "      <td>4.0</td>\n",
       "      <td>58</td>\n",
       "      <td>Breweries, Food</td>\n",
       "      <td>b\"Good place to stop when traffic don't go.\"b'...</td>\n",
       "      <td>6</td>\n",
       "      <td>-0.405565</td>\n",
       "    </tr>\n",
       "    <tr>\n",
       "      <th>4</th>\n",
       "      <td>--9e1ONYQuAa-CB_Rrw7Tw</td>\n",
       "      <td>b'Very busy and noisy restaurant.\\nAsparagas w...</td>\n",
       "      <td>4.0</td>\n",
       "      <td>1613</td>\n",
       "      <td>Cajun/Creole, Seafood, Steakhouses, Restaurants</td>\n",
       "      <td>b'Wine pairings for my prix fixe meal.  Mmmm'b...</td>\n",
       "      <td>6</td>\n",
       "      <td>5.920846</td>\n",
       "    </tr>\n",
       "    <tr>\n",
       "      <th>5</th>\n",
       "      <td>--DaPTJW3-tB1vP-PfdTEg</td>\n",
       "      <td>b'My sister and in laws were in town and we wa...</td>\n",
       "      <td>3.5</td>\n",
       "      <td>49</td>\n",
       "      <td>Restaurants, Breakfast &amp; Brunch</td>\n",
       "      <td>b'Awesome. Huge portions  definitely worth a v...</td>\n",
       "      <td>5</td>\n",
       "      <td>-0.442181</td>\n",
       "    </tr>\n",
       "    <tr>\n",
       "      <th>8</th>\n",
       "      <td>--FBCX-N37CMYDfs790Bnw</td>\n",
       "      <td>b\"My husband and I live nearby and only stoppe...</td>\n",
       "      <td>4.0</td>\n",
       "      <td>135</td>\n",
       "      <td>Nightlife, Beer, Wine &amp; Spirits, Bars, Restaur...</td>\n",
       "      <td>b'Love my girls here'b'This place is bad @$$!!...</td>\n",
       "      <td>6</td>\n",
       "      <td>-0.092296</td>\n",
       "    </tr>\n",
       "    <tr>\n",
       "      <th>10</th>\n",
       "      <td>--I7YYLada0tSLkORTHb5Q</td>\n",
       "      <td>b\"Had to get my wing fix, I like dry rubs on w...</td>\n",
       "      <td>3.5</td>\n",
       "      <td>96</td>\n",
       "      <td>Nightlife, Sports Bars, Restaurants, Bars, Ame...</td>\n",
       "      <td>b'Quick and Friendly service.\\nExcellent food....</td>\n",
       "      <td>5</td>\n",
       "      <td>-0.250965</td>\n",
       "    </tr>\n",
       "  </tbody>\n",
       "</table>\n",
       "</div>"
      ],
      "text/plain": [
       "               business_id                                        all_reviews  \\\n",
       "2   --7zmmkVg-IMGaXbuVd0SQ  b\"I'm a tad reluctant to write a review as I r...   \n",
       "4   --9e1ONYQuAa-CB_Rrw7Tw  b'Very busy and noisy restaurant.\\nAsparagas w...   \n",
       "5   --DaPTJW3-tB1vP-PfdTEg  b'My sister and in laws were in town and we wa...   \n",
       "8   --FBCX-N37CMYDfs790Bnw  b\"My husband and I live nearby and only stoppe...   \n",
       "10  --I7YYLada0tSLkORTHb5Q  b\"Had to get my wing fix, I like dry rubs on w...   \n",
       "\n",
       "    stars  review_count                                         categories  \\\n",
       "2     4.0            58                                    Breweries, Food   \n",
       "4     4.0          1613    Cajun/Creole, Seafood, Steakhouses, Restaurants   \n",
       "5     3.5            49                    Restaurants, Breakfast & Brunch   \n",
       "8     4.0           135  Nightlife, Beer, Wine & Spirits, Bars, Restaur...   \n",
       "10    3.5            96  Nightlife, Sports Bars, Restaurants, Bars, Ame...   \n",
       "\n",
       "                                             all_tips  encoded_stars  \\\n",
       "2   b\"Good place to stop when traffic don't go.\"b'...              6   \n",
       "4   b'Wine pairings for my prix fixe meal.  Mmmm'b...              6   \n",
       "5   b'Awesome. Huge portions  definitely worth a v...              5   \n",
       "8   b'Love my girls here'b'This place is bad @$$!!...              6   \n",
       "10  b'Quick and Friendly service.\\nExcellent food....              5   \n",
       "\n",
       "    review_count_zscore  \n",
       "2             -0.405565  \n",
       "4              5.920846  \n",
       "5             -0.442181  \n",
       "8             -0.092296  \n",
       "10            -0.250965  "
      ]
     },
     "execution_count": 186,
     "metadata": {},
     "output_type": "execute_result"
    }
   ],
   "source": [
    "df_ready_for_sklearn['review_count_zscore'] = zscore(df_ready_for_sklearn['review_count'])\n",
    "df_ready_for_sklearn[0:5]"
   ]
  },
  {
   "cell_type": "code",
   "execution_count": 187,
   "metadata": {},
   "outputs": [
    {
     "data": {
      "text/plain": [
       "4.0    8752\n",
       "3.5    7365\n",
       "4.5    5301\n",
       "3.0    4135\n",
       "2.5    1777\n",
       "5.0    1185\n",
       "2.0     681\n",
       "1.5     279\n",
       "1.0      33\n",
       "Name: stars, dtype: int64"
      ]
     },
     "execution_count": 187,
     "metadata": {},
     "output_type": "execute_result"
    }
   ],
   "source": [
    "df_ready_for_sklearn['stars'].value_counts()"
   ]
  },
  {
   "cell_type": "markdown",
   "metadata": {},
   "source": [
    "## Split the data and prepare for training and testing"
   ]
  },
  {
   "cell_type": "code",
   "execution_count": 188,
   "metadata": {},
   "outputs": [],
   "source": [
    "#vectorizer = sk_text.TfidfVectorizer(max_features=1000, min_df=10)\n",
    "vectorizer = sk_text.TfidfVectorizer(ngram_range=(1,2), max_features=1000, min_df=0.03)\n",
    "\n",
    "reviews_matrix = vectorizer.fit_transform(df_ready_for_sklearn['all_reviews'])\n",
    "\n",
    "reviews_tfidf = reviews_matrix.toarray()\n",
    "\n",
    "vectorizer = sk_text.TfidfVectorizer(ngram_range=(1,2), max_features=1000, min_df=0.03)\n",
    "\n",
    "tips_matrix = vectorizer.fit_transform(df_ready_for_sklearn['all_tips'])\n",
    "\n",
    "tips_tfidf = tips_matrix.toarray()"
   ]
  },
  {
   "cell_type": "code",
   "execution_count": 189,
   "metadata": {},
   "outputs": [
    {
     "data": {
      "text/plain": [
       "(29508, 2001)"
      ]
     },
     "execution_count": 189,
     "metadata": {},
     "output_type": "execute_result"
    }
   ],
   "source": [
    "temp = df_ready_for_sklearn['review_count_zscore'].values\n",
    "input_data = np.column_stack((reviews_tfidf, tips_tfidf))\n",
    "input_data = np.column_stack((input_data, temp))\n",
    "#input_data = np.column_stack((input_data, df_ready_for_sklearn['stars']))\n",
    "input_data.shape"
   ]
  },
  {
   "cell_type": "code",
   "execution_count": 190,
   "metadata": {},
   "outputs": [],
   "source": [
    "df_input = pd.DataFrame(input_data)\n",
    "df_input['stars'] = df_ready_for_sklearn['stars'].values\n",
    "#df_input.isnull().values.any()\n",
    "x, y = to_xy(df_input, 'stars')"
   ]
  },
  {
   "cell_type": "code",
   "execution_count": 191,
   "metadata": {},
   "outputs": [
    {
     "data": {
      "text/plain": [
       "(29508, 2001)"
      ]
     },
     "execution_count": 191,
     "metadata": {},
     "output_type": "execute_result"
    }
   ],
   "source": [
    "x.shape"
   ]
  },
  {
   "cell_type": "code",
   "execution_count": 192,
   "metadata": {},
   "outputs": [
    {
     "data": {
      "text/plain": [
       "(29508,)"
      ]
     },
     "execution_count": 192,
     "metadata": {},
     "output_type": "execute_result"
    }
   ],
   "source": [
    "y.shape"
   ]
  },
  {
   "cell_type": "code",
   "execution_count": 193,
   "metadata": {},
   "outputs": [],
   "source": [
    "x_train_tf, x_test_tf, y_train_tf, y_test_tf = train_test_split(x, y, test_size=0.25, random_state=43)"
   ]
  },
  {
   "cell_type": "code",
   "execution_count": 194,
   "metadata": {},
   "outputs": [
    {
     "data": {
      "text/plain": [
       "(22131, 2001)"
      ]
     },
     "execution_count": 194,
     "metadata": {},
     "output_type": "execute_result"
    }
   ],
   "source": [
    "x_train_tf.shape"
   ]
  },
  {
   "cell_type": "code",
   "execution_count": 195,
   "metadata": {},
   "outputs": [
    {
     "data": {
      "text/plain": [
       "(22131,)"
      ]
     },
     "execution_count": 195,
     "metadata": {},
     "output_type": "execute_result"
    }
   ],
   "source": [
    "y_train_tf.shape"
   ]
  },
  {
   "cell_type": "code",
   "execution_count": 196,
   "metadata": {},
   "outputs": [
    {
     "data": {
      "text/plain": [
       "(7377,)"
      ]
     },
     "execution_count": 196,
     "metadata": {},
     "output_type": "execute_result"
    }
   ],
   "source": [
    "y_test_tf.shape"
   ]
  },
  {
   "cell_type": "markdown",
   "metadata": {},
   "source": [
    "# Regression Models"
   ]
  },
  {
   "cell_type": "markdown",
   "metadata": {},
   "source": [
    "## Tensorflow"
   ]
  },
  {
   "cell_type": "code",
   "execution_count": 197,
   "metadata": {},
   "outputs": [],
   "source": [
    "from keras.models import Sequential\n",
    "from keras.layers.core import Dense, Activation, Dropout\n",
    "from keras.callbacks import EarlyStopping\n",
    "from keras.callbacks import ModelCheckpoint\n",
    "from keras import optimizers\n",
    "from tensorflow import keras"
   ]
  },
  {
   "cell_type": "code",
   "execution_count": 198,
   "metadata": {},
   "outputs": [
    {
     "name": "stdout",
     "output_type": "stream",
     "text": [
      "0\n",
      "Train on 22131 samples, validate on 7377 samples\n",
      "Epoch 1/1000\n",
      " - 6s - loss: 0.3331 - val_loss: 0.0841\n",
      "Epoch 2/1000\n",
      " - 3s - loss: 0.0762 - val_loss: 0.0722\n",
      "Epoch 3/1000\n",
      " - 3s - loss: 0.0680 - val_loss: 0.0745\n",
      "Epoch 4/1000\n",
      " - 3s - loss: 0.0596 - val_loss: 0.0665\n",
      "Epoch 5/1000\n",
      " - 3s - loss: 0.0511 - val_loss: 0.0655\n",
      "Epoch 6/1000\n",
      " - 3s - loss: 0.0445 - val_loss: 0.0717\n",
      "Epoch 7/1000\n",
      " - 3s - loss: 0.0382 - val_loss: 0.0622\n",
      "Epoch 8/1000\n",
      " - 3s - loss: 0.0333 - val_loss: 0.0660\n",
      "Epoch 9/1000\n",
      " - 3s - loss: 0.0294 - val_loss: 0.0656\n",
      "Epoch 10/1000\n",
      " - 3s - loss: 0.0247 - val_loss: 0.0689\n",
      "Epoch 11/1000\n",
      " - 3s - loss: 0.0214 - val_loss: 0.0693\n",
      "Epoch 12/1000\n",
      " - 3s - loss: 0.0187 - val_loss: 0.0715\n",
      "Epoch 00012: early stopping\n",
      "1\n",
      "Train on 22131 samples, validate on 7377 samples\n",
      "Epoch 1/1000\n",
      " - 4s - loss: 0.3078 - val_loss: 0.0883\n",
      "Epoch 2/1000\n",
      " - 3s - loss: 0.0765 - val_loss: 0.0734\n",
      "Epoch 3/1000\n",
      " - 3s - loss: 0.0655 - val_loss: 0.0685\n",
      "Epoch 4/1000\n",
      " - 3s - loss: 0.0569 - val_loss: 0.0661\n",
      "Epoch 5/1000\n",
      " - 3s - loss: 0.0473 - val_loss: 0.0627\n",
      "Epoch 6/1000\n",
      " - 3s - loss: 0.0408 - val_loss: 0.0621\n",
      "Epoch 7/1000\n",
      " - 3s - loss: 0.0352 - val_loss: 0.0616\n",
      "Epoch 8/1000\n",
      " - 3s - loss: 0.0299 - val_loss: 0.0675\n",
      "Epoch 9/1000\n",
      " - 4s - loss: 0.0246 - val_loss: 0.0678\n",
      "Epoch 10/1000\n",
      " - 4s - loss: 0.0209 - val_loss: 0.0697\n",
      "Epoch 11/1000\n",
      " - 3s - loss: 0.0181 - val_loss: 0.0690\n",
      "Epoch 12/1000\n",
      " - 3s - loss: 0.0153 - val_loss: 0.0720\n",
      "Epoch 00012: early stopping\n",
      "2\n",
      "Train on 22131 samples, validate on 7377 samples\n",
      "Epoch 1/1000\n",
      " - 5s - loss: 0.3295 - val_loss: 0.0831\n",
      "Epoch 2/1000\n",
      " - 3s - loss: 0.0734 - val_loss: 0.0685\n",
      "Epoch 3/1000\n",
      " - 3s - loss: 0.0621 - val_loss: 0.0650\n",
      "Epoch 4/1000\n",
      " - 3s - loss: 0.0557 - val_loss: 0.0625\n",
      "Epoch 5/1000\n",
      " - 3s - loss: 0.0484 - val_loss: 0.0608\n",
      "Epoch 6/1000\n",
      " - 3s - loss: 0.0409 - val_loss: 0.0723\n",
      "Epoch 7/1000\n",
      " - 3s - loss: 0.0363 - val_loss: 0.0659\n",
      "Epoch 8/1000\n",
      " - 3s - loss: 0.0302 - val_loss: 0.0641\n",
      "Epoch 9/1000\n",
      " - 3s - loss: 0.0263 - val_loss: 0.0652\n",
      "Epoch 10/1000\n",
      " - 3s - loss: 0.0225 - val_loss: 0.0689\n",
      "Epoch 00010: early stopping\n",
      "3\n",
      "Train on 22131 samples, validate on 7377 samples\n",
      "Epoch 1/1000\n",
      " - 5s - loss: 0.2947 - val_loss: 0.0851\n",
      "Epoch 2/1000\n",
      " - 3s - loss: 0.0773 - val_loss: 0.0928\n",
      "Epoch 3/1000\n",
      " - 3s - loss: 0.0683 - val_loss: 0.0702\n",
      "Epoch 4/1000\n",
      " - 3s - loss: 0.0599 - val_loss: 0.0716\n",
      "Epoch 5/1000\n",
      " - 3s - loss: 0.0534 - val_loss: 0.0660\n",
      "Epoch 6/1000\n",
      " - 3s - loss: 0.0470 - val_loss: 0.0692\n",
      "Epoch 7/1000\n",
      " - 3s - loss: 0.0400 - val_loss: 0.0648\n",
      "Epoch 8/1000\n",
      " - 3s - loss: 0.0341 - val_loss: 0.0812\n",
      "Epoch 9/1000\n",
      " - 3s - loss: 0.0289 - val_loss: 0.0682\n",
      "Epoch 10/1000\n",
      " - 3s - loss: 0.0252 - val_loss: 0.1164\n",
      "Epoch 11/1000\n",
      " - 3s - loss: 0.0223 - val_loss: 0.0691\n",
      "Epoch 12/1000\n",
      " - 3s - loss: 0.0186 - val_loss: 0.0710\n",
      "Epoch 00012: early stopping\n",
      "4\n",
      "Train on 22131 samples, validate on 7377 samples\n",
      "Epoch 1/1000\n",
      " - 5s - loss: 0.3338 - val_loss: 0.0786\n",
      "Epoch 2/1000\n",
      " - 3s - loss: 0.0698 - val_loss: 0.0760\n",
      "Epoch 3/1000\n",
      " - 3s - loss: 0.0595 - val_loss: 0.0676\n",
      "Epoch 4/1000\n",
      " - 3s - loss: 0.0533 - val_loss: 0.0654\n",
      "Epoch 5/1000\n",
      " - 3s - loss: 0.0468 - val_loss: 0.0614\n",
      "Epoch 6/1000\n",
      " - 3s - loss: 0.0410 - val_loss: 0.0612\n",
      "Epoch 7/1000\n",
      " - 3s - loss: 0.0356 - val_loss: 0.0699\n",
      "Epoch 8/1000\n",
      " - 3s - loss: 0.0307 - val_loss: 0.0640\n",
      "Epoch 9/1000\n",
      " - 3s - loss: 0.0254 - val_loss: 0.0628\n",
      "Epoch 10/1000\n",
      " - 3s - loss: 0.0222 - val_loss: 0.0672\n",
      "Epoch 00010: early stopping\n",
      "Training finished...Loading the best model\n",
      "\n"
     ]
    }
   ],
   "source": [
    "checkpointer = ModelCheckpoint(filepath=\".\\lowest_error.hdf5\", verbose=0, save_best_only=True) # save best model\n",
    "\n",
    "for i in range(5):\n",
    "    print(i)\n",
    "    \n",
    "    #Build network\n",
    "    model = Sequential()\n",
    "\n",
    "    model.add(Dense(256, input_dim=x_train_tf.shape[1], activation='relu')) # Hidden 1     #  why input_dim=x.shape[1]?  \n",
    "    #model.add(Dropout(0.2))\n",
    "    model.add(Dense(128, activation='relu')) # Hidden 2\n",
    "    #model.add(Dense(64, activation='relu')) # Hidden 3\n",
    "    #model.add(Dropout(0.2))\n",
    "    model.add(Dense(1)) # Output\n",
    "\n",
    "    adam = optimizers.Adam(lr=0.001, beta_1=0.9, beta_2=0.999, epsilon=1e-08, decay=0.0)\n",
    "    model.compile(loss='mean_squared_error', optimizer=adam)\n",
    "\n",
    "    monitor = EarlyStopping(monitor='val_loss', min_delta=1e-3, patience=5, verbose=1, mode='auto')\n",
    "    #checkpointer = ModelCheckpoint(filepath=\".\\lowest_error.hdf5\", verbose=0, save_best_only=True) # save best model\n",
    "\n",
    "\n",
    "    model.fit(x_train_tf,y_train_tf, validation_data=(x_test_tf,y_test_tf), callbacks=[monitor,checkpointer],verbose=2,epochs=1000, batch_size=32, shuffle=True)    # Verbosity mode. 0 = silent, 1 = progress bar, 2 = one line per epoch.\n",
    "    \n",
    "print('Training finished...Loading the best model')  \n",
    "print()\n",
    "model.load_weights('.\\lowest_error.hdf5') # load weights from best model"
   ]
  },
  {
   "cell_type": "code",
   "execution_count": 199,
   "metadata": {},
   "outputs": [
    {
     "name": "stdout",
     "output_type": "stream",
     "text": [
      "Shape: (7377, 1)\n",
      "[[3.9951143]\n",
      " [3.8761597]\n",
      " [3.341063 ]\n",
      " ...\n",
      " [3.7553947]\n",
      " [4.358076 ]\n",
      " [3.7388144]]\n"
     ]
    }
   ],
   "source": [
    "pred = model.predict(x_test_tf)\n",
    "print(\"Shape: {}\".format(pred.shape))\n",
    "print(pred)"
   ]
  },
  {
   "cell_type": "code",
   "execution_count": 200,
   "metadata": {},
   "outputs": [
    {
     "name": "stdout",
     "output_type": "stream",
     "text": [
      "Final score (RMSE): 0.24658729135990143\n"
     ]
    }
   ],
   "source": [
    "tf_rmse = np.sqrt(metrics.mean_squared_error(pred,y_test_tf))\n",
    "print(\"Final score (RMSE): {}\".format(tf_rmse))"
   ]
  },
  {
   "cell_type": "code",
   "execution_count": 201,
   "metadata": {},
   "outputs": [
    {
     "data": {
      "text/plain": [
       "(7377,)"
      ]
     },
     "execution_count": 201,
     "metadata": {},
     "output_type": "execute_result"
    }
   ],
   "source": [
    "y_test_tf.shape"
   ]
  },
  {
   "cell_type": "code",
   "execution_count": 202,
   "metadata": {},
   "outputs": [
    {
     "data": {
      "image/png": "[encoded data removed]",
      "text/plain": [
       "<Figure size 432x288 with 1 Axes>"
      ]
     },
     "metadata": {
      "needs_background": "light"
     },
     "output_type": "display_data"
    }
   ],
   "source": [
    "# Plot the chart\n",
    "chart_regression(pred.flatten(),y_test_tf)"
   ]
  },
  {
   "cell_type": "code",
   "execution_count": 203,
   "metadata": {},
   "outputs": [
    {
     "data": {
      "image/png": "[encoded data removed]",
      "text/plain": [
       "<Figure size 432x288 with 1 Axes>"
      ]
     },
     "metadata": {
      "needs_background": "light"
     },
     "output_type": "display_data"
    }
   ],
   "source": [
    "chart_regression(pred.flatten(),y_test_tf, sort=False)"
   ]
  },
  {
   "cell_type": "markdown",
   "metadata": {},
   "source": [
    "## Linear Regression"
   ]
  },
  {
   "cell_type": "code",
   "execution_count": 204,
   "metadata": {},
   "outputs": [],
   "source": [
    "x_train, x_test, y_train, y_test = train_test_split(input_data, df_ready_for_sklearn['stars'],test_size=0.25, random_state=43)"
   ]
  },
  {
   "cell_type": "code",
   "execution_count": 205,
   "metadata": {},
   "outputs": [
    {
     "data": {
      "text/plain": [
       "(22131,)"
      ]
     },
     "execution_count": 205,
     "metadata": {},
     "output_type": "execute_result"
    }
   ],
   "source": [
    "y_train.shape"
   ]
  },
  {
   "cell_type": "code",
   "execution_count": 206,
   "metadata": {},
   "outputs": [],
   "source": [
    "from sklearn.linear_model import LinearRegression\n",
    "\n",
    "# instantiate the model (using the default parameters)\n",
    "linreg = LinearRegression()\n",
    "\n",
    "# fit the model with data\n",
    "linreg.fit(x_train, y_train)\n",
    "\n",
    "# predict the response for new observations\n",
    "y_pred_Linear = linreg.predict(x_test)"
   ]
  },
  {
   "cell_type": "code",
   "execution_count": 207,
   "metadata": {},
   "outputs": [
    {
     "name": "stdout",
     "output_type": "stream",
     "text": [
      "Final score (RMSE): 0.24851591935166453\n"
     ]
    }
   ],
   "source": [
    "# Measure RMSE error.  RMSE is common for regression.\n",
    "linear_rmse = np.sqrt(metrics.mean_squared_error(y_pred_Linear,y_test))\n",
    "print(\"Final score (RMSE): {}\".format(linear_rmse))"
   ]
  },
  {
   "cell_type": "markdown",
   "metadata": {},
   "source": [
    "# Classification Models"
   ]
  },
  {
   "cell_type": "markdown",
   "metadata": {},
   "source": [
    "## Tensorflow"
   ]
  },
  {
   "cell_type": "code",
   "execution_count": 208,
   "metadata": {},
   "outputs": [
    {
     "data": {
      "text/plain": [
       "(29508, 2001)"
      ]
     },
     "execution_count": 208,
     "metadata": {},
     "output_type": "execute_result"
    }
   ],
   "source": [
    "input_data.shape"
   ]
  },
  {
   "cell_type": "code",
   "execution_count": 209,
   "metadata": {},
   "outputs": [],
   "source": [
    "df_input = pd.DataFrame(input_data)\n",
    "df_input['encoded_stars'] = df_ready_for_sklearn['encoded_stars'].values\n",
    "#df_input.isnull().values.any()\n",
    "x, y = to_xy(df_input, 'encoded_stars')"
   ]
  },
  {
   "cell_type": "code",
   "execution_count": 210,
   "metadata": {},
   "outputs": [],
   "source": [
    "x_train_tf, x_test_tf, y_train_tf, y_test_tf = train_test_split(x, y, test_size=0.25, random_state=43)"
   ]
  },
  {
   "cell_type": "code",
   "execution_count": 211,
   "metadata": {},
   "outputs": [
    {
     "data": {
      "text/plain": [
       "(22131, 2001)"
      ]
     },
     "execution_count": 211,
     "metadata": {},
     "output_type": "execute_result"
    }
   ],
   "source": [
    "x_train_tf.shape"
   ]
  },
  {
   "cell_type": "code",
   "execution_count": 212,
   "metadata": {},
   "outputs": [
    {
     "data": {
      "text/plain": [
       "(22131, 9)"
      ]
     },
     "execution_count": 212,
     "metadata": {},
     "output_type": "execute_result"
    }
   ],
   "source": [
    "y_train_tf.shape"
   ]
  },
  {
   "cell_type": "code",
   "execution_count": 213,
   "metadata": {},
   "outputs": [
    {
     "data": {
      "text/plain": [
       "(7377, 9)"
      ]
     },
     "execution_count": 213,
     "metadata": {},
     "output_type": "execute_result"
    }
   ],
   "source": [
    "y_test_tf.shape"
   ]
  },
  {
   "cell_type": "code",
   "execution_count": 214,
   "metadata": {},
   "outputs": [
    {
     "name": "stdout",
     "output_type": "stream",
     "text": [
      "0\n",
      "Train on 22131 samples, validate on 7377 samples\n",
      "Epoch 1/1000\n",
      " - 6s - loss: 1.1270 - acc: 0.5249 - val_loss: 0.7536 - val_acc: 0.6673\n",
      "Epoch 2/1000\n",
      " - 4s - loss: 0.7229 - acc: 0.6823 - val_loss: 0.6768 - val_acc: 0.7026\n",
      "Epoch 3/1000\n",
      " - 4s - loss: 0.6306 - acc: 0.7258 - val_loss: 0.6545 - val_acc: 0.7091\n",
      "Epoch 4/1000\n",
      " - 4s - loss: 0.5812 - acc: 0.7473 - val_loss: 0.6416 - val_acc: 0.7167\n",
      "Epoch 5/1000\n",
      " - 4s - loss: 0.5436 - acc: 0.7664 - val_loss: 0.6274 - val_acc: 0.7290\n",
      "Epoch 6/1000\n",
      " - 4s - loss: 0.4965 - acc: 0.7878 - val_loss: 0.6382 - val_acc: 0.7210\n",
      "Epoch 7/1000\n",
      " - 4s - loss: 0.4582 - acc: 0.8098 - val_loss: 0.6561 - val_acc: 0.7170\n",
      "Epoch 8/1000\n",
      " - 4s - loss: 0.4211 - acc: 0.8218 - val_loss: 0.6863 - val_acc: 0.7157\n",
      "Epoch 9/1000\n",
      " - 4s - loss: 0.3676 - acc: 0.8531 - val_loss: 0.7378 - val_acc: 0.7064\n",
      "Epoch 10/1000\n",
      " - 4s - loss: 0.3329 - acc: 0.8696 - val_loss: 0.7381 - val_acc: 0.7141\n",
      "Epoch 11/1000\n",
      " - 4s - loss: 0.2876 - acc: 0.8867 - val_loss: 0.7827 - val_acc: 0.7134\n",
      "Epoch 12/1000\n",
      " - 4s - loss: 0.2543 - acc: 0.9013 - val_loss: 0.8470 - val_acc: 0.6995\n",
      "Epoch 13/1000\n",
      " - 4s - loss: 0.2402 - acc: 0.9084 - val_loss: 0.9169 - val_acc: 0.7045\n",
      "Epoch 14/1000\n",
      " - 4s - loss: 0.2121 - acc: 0.9189 - val_loss: 0.9472 - val_acc: 0.7107\n",
      "Epoch 15/1000\n",
      " - 4s - loss: 0.1923 - acc: 0.9261 - val_loss: 0.9630 - val_acc: 0.7050\n",
      "Epoch 00015: early stopping\n",
      "1\n",
      "Train on 22131 samples, validate on 7377 samples\n",
      "Epoch 1/1000\n",
      " - 6s - loss: 1.0890 - acc: 0.5351 - val_loss: 0.7553 - val_acc: 0.6690\n",
      "Epoch 2/1000\n",
      " - 4s - loss: 0.7125 - acc: 0.6841 - val_loss: 0.6856 - val_acc: 0.6923\n",
      "Epoch 3/1000\n",
      " - 4s - loss: 0.6368 - acc: 0.7247 - val_loss: 0.6309 - val_acc: 0.7220\n",
      "Epoch 4/1000\n",
      " - 4s - loss: 0.5899 - acc: 0.7446 - val_loss: 0.6328 - val_acc: 0.7254\n",
      "Epoch 5/1000\n",
      " - 4s - loss: 0.5396 - acc: 0.7708 - val_loss: 0.6614 - val_acc: 0.7168\n",
      "Epoch 6/1000\n",
      " - 4s - loss: 0.4989 - acc: 0.7884 - val_loss: 0.6495 - val_acc: 0.7206\n",
      "Epoch 7/1000\n",
      " - 4s - loss: 0.4573 - acc: 0.8126 - val_loss: 0.6816 - val_acc: 0.7191\n",
      "Epoch 8/1000\n",
      " - 4s - loss: 0.4173 - acc: 0.8256 - val_loss: 0.6846 - val_acc: 0.7189\n",
      "Epoch 9/1000\n",
      " - 4s - loss: 0.3673 - acc: 0.8513 - val_loss: 0.7303 - val_acc: 0.7160\n",
      "Epoch 10/1000\n",
      " - 4s - loss: 0.3396 - acc: 0.8652 - val_loss: 0.7394 - val_acc: 0.7153\n",
      "Epoch 11/1000\n",
      " - 4s - loss: 0.2990 - acc: 0.8826 - val_loss: 0.8269 - val_acc: 0.7035\n",
      "Epoch 12/1000\n",
      " - 5s - loss: 0.2637 - acc: 0.8960 - val_loss: 0.8544 - val_acc: 0.7073\n",
      "Epoch 13/1000\n",
      " - 5s - loss: 0.2415 - acc: 0.9074 - val_loss: 0.9007 - val_acc: 0.7057\n",
      "Epoch 00013: early stopping\n",
      "2\n",
      "Train on 22131 samples, validate on 7377 samples\n",
      "Epoch 1/1000\n",
      " - 6s - loss: 1.1216 - acc: 0.5193 - val_loss: 0.7527 - val_acc: 0.6684\n",
      "Epoch 2/1000\n",
      " - 4s - loss: 0.7329 - acc: 0.6750 - val_loss: 0.6801 - val_acc: 0.7004\n",
      "Epoch 3/1000\n",
      " - 4s - loss: 0.6443 - acc: 0.7209 - val_loss: 0.6370 - val_acc: 0.7255\n",
      "Epoch 4/1000\n",
      " - 4s - loss: 0.5868 - acc: 0.7450 - val_loss: 0.6253 - val_acc: 0.7274\n",
      "Epoch 5/1000\n",
      " - 4s - loss: 0.5523 - acc: 0.7656 - val_loss: 0.7164 - val_acc: 0.6790\n",
      "Epoch 6/1000\n",
      " - 4s - loss: 0.5087 - acc: 0.7839 - val_loss: 0.6729 - val_acc: 0.7100\n",
      "Epoch 7/1000\n",
      " - 4s - loss: 0.4625 - acc: 0.8067 - val_loss: 0.6806 - val_acc: 0.7130\n",
      "Epoch 8/1000\n",
      " - 4s - loss: 0.4253 - acc: 0.8267 - val_loss: 0.6822 - val_acc: 0.7182\n",
      "Epoch 9/1000\n",
      " - 4s - loss: 0.3827 - acc: 0.8423 - val_loss: 0.6994 - val_acc: 0.7119\n",
      "Epoch 10/1000\n",
      " - 4s - loss: 0.3389 - acc: 0.8646 - val_loss: 0.8077 - val_acc: 0.6965\n",
      "Epoch 11/1000\n",
      " - 4s - loss: 0.2988 - acc: 0.8818 - val_loss: 0.8369 - val_acc: 0.7060\n",
      "Epoch 12/1000\n",
      " - 4s - loss: 0.2773 - acc: 0.8907 - val_loss: 0.8416 - val_acc: 0.7065\n",
      "Epoch 13/1000\n",
      " - 4s - loss: 0.2413 - acc: 0.9088 - val_loss: 0.8846 - val_acc: 0.7099\n",
      "Epoch 14/1000\n",
      " - 4s - loss: 0.2136 - acc: 0.9179 - val_loss: 0.9216 - val_acc: 0.7044\n",
      "Epoch 00014: early stopping\n",
      "3\n",
      "Train on 22131 samples, validate on 7377 samples\n",
      "Epoch 1/1000\n",
      " - 6s - loss: 1.0954 - acc: 0.5416 - val_loss: 0.8279 - val_acc: 0.6324\n",
      "Epoch 2/1000\n",
      " - 4s - loss: 0.7140 - acc: 0.6882 - val_loss: 0.6469 - val_acc: 0.7190\n",
      "Epoch 3/1000\n",
      " - 4s - loss: 0.6405 - acc: 0.7211 - val_loss: 0.6474 - val_acc: 0.7122\n",
      "Epoch 4/1000\n",
      " - 4s - loss: 0.5905 - acc: 0.7476 - val_loss: 0.6385 - val_acc: 0.7157\n",
      "Epoch 5/1000\n",
      " - 4s - loss: 0.5499 - acc: 0.7658 - val_loss: 0.6553 - val_acc: 0.7168\n",
      "Epoch 6/1000\n",
      " - 4s - loss: 0.5038 - acc: 0.7866 - val_loss: 0.6558 - val_acc: 0.7105\n",
      "Epoch 7/1000\n",
      " - 4s - loss: 0.4612 - acc: 0.8070 - val_loss: 0.6522 - val_acc: 0.7191\n",
      "Epoch 8/1000\n",
      " - 4s - loss: 0.4280 - acc: 0.8216 - val_loss: 0.6976 - val_acc: 0.7115\n",
      "Epoch 9/1000\n",
      " - 4s - loss: 0.3832 - acc: 0.8450 - val_loss: 0.7294 - val_acc: 0.7064\n",
      "Epoch 10/1000\n",
      " - 4s - loss: 0.3381 - acc: 0.8633 - val_loss: 0.7290 - val_acc: 0.7212\n",
      "Epoch 11/1000\n",
      " - 4s - loss: 0.2950 - acc: 0.8843 - val_loss: 0.7947 - val_acc: 0.7098\n",
      "Epoch 12/1000\n",
      " - 4s - loss: 0.2749 - acc: 0.8916 - val_loss: 0.8216 - val_acc: 0.7080\n",
      "Epoch 13/1000\n",
      " - 4s - loss: 0.2413 - acc: 0.9063 - val_loss: 0.8693 - val_acc: 0.7015\n",
      "Epoch 14/1000\n",
      " - 4s - loss: 0.2142 - acc: 0.9191 - val_loss: 1.0034 - val_acc: 0.7012\n",
      "Epoch 00014: early stopping\n",
      "4\n",
      "Train on 22131 samples, validate on 7377 samples\n",
      "Epoch 1/1000\n",
      " - 6s - loss: 1.1135 - acc: 0.5305 - val_loss: 0.7548 - val_acc: 0.6720\n",
      "Epoch 2/1000\n",
      " - 5s - loss: 0.7280 - acc: 0.6832 - val_loss: 0.6799 - val_acc: 0.6983\n",
      "Epoch 3/1000\n",
      " - 4s - loss: 0.6429 - acc: 0.7184 - val_loss: 0.6956 - val_acc: 0.6957\n",
      "Epoch 4/1000\n",
      " - 5s - loss: 0.5885 - acc: 0.7469 - val_loss: 0.6521 - val_acc: 0.7126\n",
      "Epoch 5/1000\n",
      " - 4s - loss: 0.5405 - acc: 0.7681 - val_loss: 0.6341 - val_acc: 0.7235\n",
      "Epoch 6/1000\n",
      " - 5s - loss: 0.5020 - acc: 0.7888 - val_loss: 0.6548 - val_acc: 0.7208\n",
      "Epoch 7/1000\n",
      " - 4s - loss: 0.4642 - acc: 0.8045 - val_loss: 0.6455 - val_acc: 0.7206\n",
      "Epoch 8/1000\n",
      " - 4s - loss: 0.4164 - acc: 0.8292 - val_loss: 0.6972 - val_acc: 0.7099\n",
      "Epoch 9/1000\n",
      " - 4s - loss: 0.3720 - acc: 0.8499 - val_loss: 0.7760 - val_acc: 0.6951\n",
      "Epoch 10/1000\n",
      " - 5s - loss: 0.3336 - acc: 0.8654 - val_loss: 0.7559 - val_acc: 0.7155\n",
      "Epoch 11/1000\n",
      " - 4s - loss: 0.2996 - acc: 0.8818 - val_loss: 0.8042 - val_acc: 0.7050\n",
      "Epoch 12/1000\n",
      " - 4s - loss: 0.2643 - acc: 0.8971 - val_loss: 0.8391 - val_acc: 0.7071\n",
      "Epoch 13/1000\n",
      " - 4s - loss: 0.2361 - acc: 0.9089 - val_loss: 0.9216 - val_acc: 0.6984\n",
      "Epoch 14/1000\n",
      " - 4s - loss: 0.2210 - acc: 0.9136 - val_loss: 0.9956 - val_acc: 0.7042\n",
      "Epoch 15/1000\n",
      " - 4s - loss: 0.1957 - acc: 0.9258 - val_loss: 0.9614 - val_acc: 0.7054\n",
      "Epoch 00015: early stopping\n",
      "Training finished...Loading the best model\n",
      "\n"
     ]
    }
   ],
   "source": [
    "checkpointer = ModelCheckpoint(filepath=\".\\classification.hdf5\", verbose=0, save_best_only=True) # save best model\n",
    "\n",
    "for i in range(5):\n",
    "    print(i)\n",
    "    \n",
    "    #Build network\n",
    "    model = Sequential()\n",
    "\n",
    "    model.add(Dense(128, input_dim=x_train_tf.shape[1], activation='relu')) # Hidden 1     #  why input_dim=x.shape[1]?  \n",
    "    model.add(Dropout(0.2)) #dropout layer\n",
    "    model.add(Dense(64, activation='relu')) # Hidden 2\n",
    "    #model.add(Dropout(0.2)) #dropout layer\n",
    "    model.add(Dense(32, activation='relu')) # Hidden 4\n",
    "    model.add(Dense(y_train_tf.shape[1], activation='softmax')) # Output\n",
    "    \n",
    "    adam = optimizers.Adam(lr=0.001, beta_1=0.9, beta_2=0.999, epsilon=1e-08, decay=0.0)\n",
    "    model.compile(loss='categorical_crossentropy', optimizer=adam, metrics=['accuracy'])\n",
    "\n",
    "    monitor = EarlyStopping(monitor='val_loss', min_delta=1e-3, patience=10, verbose=1, mode='auto')\n",
    "\n",
    "    model.fit(x_train_tf,y_train_tf, validation_data=(x_test_tf,y_test_tf), callbacks=[monitor,checkpointer],verbose=2,epochs=1000, batch_size=32, shuffle=True)    # Verbosity mode. 0 = silent, 1 = progress bar, 2 = one line per epoch.\n",
    "    \n",
    "    \n",
    "print('Training finished...Loading the best model')  \n",
    "print()\n",
    "model.load_weights('.\\classification.hdf5') # load weights from best model"
   ]
  },
  {
   "cell_type": "code",
   "execution_count": 215,
   "metadata": {},
   "outputs": [
    {
     "name": "stdout",
     "output_type": "stream",
     "text": [
      "Final accuracy: 0.7273959604175139\n"
     ]
    },
    {
     "data": {
      "text/plain": [
       "array([[0., 0., 0., ..., 0., 1., 0.],\n",
       "       [0., 0., 0., ..., 1., 0., 0.],\n",
       "       [0., 0., 0., ..., 0., 0., 0.],\n",
       "       ...,\n",
       "       [0., 0., 0., ..., 0., 0., 0.],\n",
       "       [0., 0., 0., ..., 0., 1., 0.],\n",
       "       [0., 0., 0., ..., 1., 0., 0.]], dtype=float32)"
      ]
     },
     "execution_count": 215,
     "metadata": {},
     "output_type": "execute_result"
    }
   ],
   "source": [
    "# Measure accuracy\n",
    "pred = model.predict(x_test_tf)\n",
    "pred = np.argmax(pred,axis=1)\n",
    "\n",
    "y_true = np.argmax(y_test_tf,axis=1)\n",
    "\n",
    "tf_accuracy = metrics.accuracy_score(y_true, pred)\n",
    "print(\"Final accuracy: {}\".format(tf_accuracy))\n",
    "y_test_tf"
   ]
  },
  {
   "cell_type": "code",
   "execution_count": 216,
   "metadata": {},
   "outputs": [
    {
     "name": "stdout",
     "output_type": "stream",
     "text": [
      "Precision score: 0.7290576363984711\n"
     ]
    },
    {
     "name": "stderr",
     "output_type": "stream",
     "text": [
      "C:\\Users\\hgdan\\Anaconda3\\envs\\tf-gpu\\lib\\site-packages\\sklearn\\metrics\\classification.py:1143: UndefinedMetricWarning: Precision is ill-defined and being set to 0.0 in labels with no predicted samples.\n",
      "  'precision', 'predicted', average, warn_for)\n"
     ]
    }
   ],
   "source": [
    "tf_precision = metrics.precision_score(y_true, pred, average= \"weighted\")\n",
    "print(\"Precision score: {}\".format(tf_precision))"
   ]
  },
  {
   "cell_type": "code",
   "execution_count": 217,
   "metadata": {},
   "outputs": [
    {
     "name": "stdout",
     "output_type": "stream",
     "text": [
      "Recall score: 0.7273959604175139\n"
     ]
    }
   ],
   "source": [
    "tf_recall = metrics.recall_score(y_true, pred, average= \"weighted\")\n",
    "print(\"Recall score: {}\".format(tf_recall))"
   ]
  },
  {
   "cell_type": "code",
   "execution_count": 249,
   "metadata": {},
   "outputs": [
    {
     "name": "stdout",
     "output_type": "stream",
     "text": [
      "F1 score: 0.7250623829730384\n"
     ]
    },
    {
     "name": "stderr",
     "output_type": "stream",
     "text": [
      "C:\\Users\\hgdan\\Anaconda3\\envs\\tf-gpu\\lib\\site-packages\\sklearn\\metrics\\classification.py:1143: UndefinedMetricWarning: F-score is ill-defined and being set to 0.0 in labels with no predicted samples.\n",
      "  'precision', 'predicted', average, warn_for)\n"
     ]
    }
   ],
   "source": [
    "tf_f1 = metrics.f1_score(y_true, pred, average= \"weighted\")\n",
    "print(\"F1 score: {}\".format(tf_f1))"
   ]
  },
  {
   "cell_type": "markdown",
   "metadata": {},
   "source": [
    "### Support Vector Machine"
   ]
  },
  {
   "cell_type": "code",
   "execution_count": 219,
   "metadata": {},
   "outputs": [],
   "source": [
    "#split into train/test data\n",
    "#using encoded stars because classification problem\n",
    "x_train, x_test, y_train, y_test = train_test_split(input_data, df_ready_for_sklearn['encoded_stars'], test_size=0.25, random_state=43)"
   ]
  },
  {
   "cell_type": "code",
   "execution_count": 220,
   "metadata": {},
   "outputs": [
    {
     "name": "stdout",
     "output_type": "stream",
     "text": [
      "(22131, 2001)\n",
      "(7377, 2001)\n",
      "(22131,)\n",
      "(7377,)\n"
     ]
    }
   ],
   "source": [
    "print(x_train.shape)\n",
    "print(x_test.shape)\n",
    "print(y_train.shape)\n",
    "print(y_test.shape)"
   ]
  },
  {
   "cell_type": "code",
   "execution_count": 221,
   "metadata": {},
   "outputs": [],
   "source": [
    "from sklearn.svm import LinearSVC\n",
    "\n",
    "clf = LinearSVC(dual=False)\n",
    "clf.fit(x_train, y_train)\n",
    "\n",
    "y_pred_SVM = clf.predict(x_test)"
   ]
  },
  {
   "cell_type": "code",
   "execution_count": 222,
   "metadata": {},
   "outputs": [
    {
     "name": "stdout",
     "output_type": "stream",
     "text": [
      "Accuracy score: 0.5235190456825267\n"
     ]
    }
   ],
   "source": [
    "# Measure accuracy\n",
    "y_true = y_test\n",
    "svm_accuracy = metrics.accuracy_score(y_true, y_pred_SVM)\n",
    "print(\"Accuracy score: {}\".format(svm_accuracy))"
   ]
  },
  {
   "cell_type": "code",
   "execution_count": 223,
   "metadata": {},
   "outputs": [
    {
     "name": "stdout",
     "output_type": "stream",
     "text": [
      "Precision score: 0.5172235134442837\n"
     ]
    }
   ],
   "source": [
    "svm_precision = metrics.precision_score(y_true, y_pred_SVM, average= \"weighted\")\n",
    "print(\"Precision score: {}\".format(svm_precision))"
   ]
  },
  {
   "cell_type": "code",
   "execution_count": 224,
   "metadata": {},
   "outputs": [
    {
     "name": "stdout",
     "output_type": "stream",
     "text": [
      "Recall score: 0.5235190456825267\n"
     ]
    }
   ],
   "source": [
    "svm_recall = metrics.recall_score(y_true, y_pred_SVM, average= \"weighted\")\n",
    "print(\"Recall score: {}\".format(svm_recall))"
   ]
  },
  {
   "cell_type": "code",
   "execution_count": 225,
   "metadata": {},
   "outputs": [
    {
     "name": "stdout",
     "output_type": "stream",
     "text": [
      "F1 score: 0.5168234374576391\n"
     ]
    }
   ],
   "source": [
    "svm_f1 = metrics.f1_score(y_true, y_pred_SVM, average= \"weighted\")\n",
    "print(\"F1 score: {}\".format(svm_f1))"
   ]
  },
  {
   "cell_type": "markdown",
   "metadata": {},
   "source": [
    "### Logistic Regression"
   ]
  },
  {
   "cell_type": "code",
   "execution_count": 226,
   "metadata": {},
   "outputs": [
    {
     "name": "stderr",
     "output_type": "stream",
     "text": [
      "C:\\Users\\hgdan\\Anaconda3\\envs\\tf-gpu\\lib\\site-packages\\sklearn\\linear_model\\logistic.py:433: FutureWarning: Default solver will be changed to 'lbfgs' in 0.22. Specify a solver to silence this warning.\n",
      "  FutureWarning)\n",
      "C:\\Users\\hgdan\\Anaconda3\\envs\\tf-gpu\\lib\\site-packages\\sklearn\\linear_model\\logistic.py:460: FutureWarning: Default multi_class will be changed to 'auto' in 0.22. Specify the multi_class option to silence this warning.\n",
      "  \"this warning.\", FutureWarning)\n"
     ]
    }
   ],
   "source": [
    "from sklearn.linear_model import LogisticRegression\n",
    "\n",
    "# instantiate the model (using the default parameters)\n",
    "logreg = LogisticRegression()\n",
    "\n",
    "# fit the model with data\n",
    "logreg.fit(x_train, y_train)\n",
    "\n",
    "# predict the response for new observations\n",
    "y_pred_Logistic = logreg.predict(x_test)"
   ]
  },
  {
   "cell_type": "code",
   "execution_count": 227,
   "metadata": {},
   "outputs": [
    {
     "name": "stdout",
     "output_type": "stream",
     "text": [
      "Accuracy score: 0.5025077944964077\n"
     ]
    }
   ],
   "source": [
    "# Measure accuracy\n",
    "y_true = y_test\n",
    "logistic_accuracy = metrics.accuracy_score(y_true, y_pred_Logistic)\n",
    "print(\"Accuracy score: {}\".format(logistic_accuracy))"
   ]
  },
  {
   "cell_type": "code",
   "execution_count": 228,
   "metadata": {},
   "outputs": [
    {
     "name": "stdout",
     "output_type": "stream",
     "text": [
      "Precision score: 0.49048471664360105\n"
     ]
    },
    {
     "name": "stderr",
     "output_type": "stream",
     "text": [
      "C:\\Users\\hgdan\\Anaconda3\\envs\\tf-gpu\\lib\\site-packages\\sklearn\\metrics\\classification.py:1143: UndefinedMetricWarning: Precision is ill-defined and being set to 0.0 in labels with no predicted samples.\n",
      "  'precision', 'predicted', average, warn_for)\n"
     ]
    }
   ],
   "source": [
    "logistic_precision = metrics.precision_score(y_true, y_pred_Logistic, average= \"weighted\")\n",
    "print(\"Precision score: {}\".format(logistic_precision))"
   ]
  },
  {
   "cell_type": "code",
   "execution_count": 229,
   "metadata": {},
   "outputs": [
    {
     "name": "stdout",
     "output_type": "stream",
     "text": [
      "Recall score: 0.5025077944964077\n"
     ]
    }
   ],
   "source": [
    "logistic_recall = metrics.recall_score(y_true, y_pred_Logistic, average= \"weighted\")\n",
    "print(\"Recall score: {}\".format(logistic_recall))"
   ]
  },
  {
   "cell_type": "code",
   "execution_count": 230,
   "metadata": {},
   "outputs": [
    {
     "name": "stdout",
     "output_type": "stream",
     "text": [
      "F1 score: 0.4846562063672292\n"
     ]
    },
    {
     "name": "stderr",
     "output_type": "stream",
     "text": [
      "C:\\Users\\hgdan\\Anaconda3\\envs\\tf-gpu\\lib\\site-packages\\sklearn\\metrics\\classification.py:1143: UndefinedMetricWarning: F-score is ill-defined and being set to 0.0 in labels with no predicted samples.\n",
      "  'precision', 'predicted', average, warn_for)\n"
     ]
    }
   ],
   "source": [
    "logistic_f1 = metrics.f1_score(y_true, y_pred_Logistic, average= \"weighted\")\n",
    "print(\"F1 score: {}\".format(logistic_f1))"
   ]
  },
  {
   "cell_type": "markdown",
   "metadata": {},
   "source": [
    "### Nearest Neighbor"
   ]
  },
  {
   "cell_type": "code",
   "execution_count": 231,
   "metadata": {},
   "outputs": [
    {
     "data": {
      "text/plain": [
       "KNeighborsClassifier(algorithm='auto', leaf_size=30, metric='minkowski',\n",
       "           metric_params=None, n_jobs=None, n_neighbors=10, p=2,\n",
       "           weights='uniform')"
      ]
     },
     "execution_count": 231,
     "metadata": {},
     "output_type": "execute_result"
    }
   ],
   "source": [
    "from sklearn.neighbors import KNeighborsClassifier\n",
    "\n",
    "# instantiate the model (using the value K=10)\n",
    "knn = KNeighborsClassifier(n_neighbors=10)\n",
    "\n",
    "# fit the model with data\n",
    "knn.fit(x_train, y_train)"
   ]
  },
  {
   "cell_type": "code",
   "execution_count": 232,
   "metadata": {},
   "outputs": [],
   "source": [
    "# predict the response for new observations\n",
    "y_neighbor = knn.predict(x_test)"
   ]
  },
  {
   "cell_type": "code",
   "execution_count": 233,
   "metadata": {},
   "outputs": [
    {
     "name": "stdout",
     "output_type": "stream",
     "text": [
      "Accuracy score: 0.361800189779043\n"
     ]
    }
   ],
   "source": [
    "# Measure accuracy\n",
    "y_true = y_test\n",
    "knn_accuracy = metrics.accuracy_score(y_true, y_neighbor)\n",
    "print(\"Accuracy score: {}\".format(knn_accuracy))"
   ]
  },
  {
   "cell_type": "code",
   "execution_count": 234,
   "metadata": {},
   "outputs": [
    {
     "name": "stdout",
     "output_type": "stream",
     "text": [
      "Precision score: 0.3706823584286438\n"
     ]
    }
   ],
   "source": [
    "knn_precision = metrics.precision_score(y_true, y_neighbor, average= \"weighted\")\n",
    "print(\"Precision score: {}\".format(knn_precision))"
   ]
  },
  {
   "cell_type": "code",
   "execution_count": 235,
   "metadata": {},
   "outputs": [
    {
     "name": "stdout",
     "output_type": "stream",
     "text": [
      "Recall score: 0.361800189779043\n"
     ]
    }
   ],
   "source": [
    "knn_recall = metrics.recall_score(y_true, y_neighbor, average= \"weighted\")\n",
    "print(\"Recall score: {}\".format(knn_recall))"
   ]
  },
  {
   "cell_type": "code",
   "execution_count": 236,
   "metadata": {},
   "outputs": [
    {
     "name": "stdout",
     "output_type": "stream",
     "text": [
      "F1 score: 0.34913205204298503\n"
     ]
    }
   ],
   "source": [
    "knn_f1 = metrics.f1_score(y_true, y_neighbor, average= \"weighted\")\n",
    "print(\"F1 score: {}\".format(knn_f1))"
   ]
  },
  {
   "cell_type": "markdown",
   "metadata": {},
   "source": [
    "### Multinomial Naive Bayes"
   ]
  },
  {
   "cell_type": "code",
   "execution_count": 237,
   "metadata": {},
   "outputs": [
    {
     "name": "stderr",
     "output_type": "stream",
     "text": [
      "C:\\Users\\hgdan\\Anaconda3\\envs\\tf-gpu\\lib\\site-packages\\sklearn\\utils\\validation.py:595: DataConversionWarning: Data with input dtype int64 was converted to float64 by MinMaxScaler.\n",
      "  warnings.warn(msg, DataConversionWarning)\n"
     ]
    },
    {
     "data": {
      "text/plain": [
       "array([[0.00616463, 0.00225745, 0.        , ..., 0.        , 0.        ,\n",
       "        0.        ],\n",
       "       [0.00448781, 0.00212778, 0.00326145, ..., 0.01112818, 0.019481  ,\n",
       "        0.        ],\n",
       "       [0.01327496, 0.00291673, 0.00572813, ..., 0.        , 0.        ,\n",
       "        0.        ],\n",
       "       ...,\n",
       "       [0.00381868, 0.00419514, 0.01235819, ..., 0.        , 0.        ,\n",
       "        0.        ],\n",
       "       [0.00684015, 0.        , 0.        , ..., 0.        , 0.        ,\n",
       "        0.        ],\n",
       "       [0.01092898, 0.0030016 , 0.0044211 , ..., 0.        , 0.        ,\n",
       "        0.        ]])"
      ]
     },
     "execution_count": 237,
     "metadata": {},
     "output_type": "execute_result"
    }
   ],
   "source": [
    "from sklearn.preprocessing import MinMaxScaler\n",
    "\n",
    "scaler = MinMaxScaler()\n",
    "\n",
    "temp = scaler.fit_transform(df_ready_for_sklearn['review_count'].values.reshape(1, -1))\n",
    "\n",
    "input_data_MNB = np.column_stack((reviews_tfidf, tips_tfidf))\n",
    "input_data_MNB = np.column_stack((input_data_MNB, temp.reshape(-1,1)))\n",
    "\n",
    "input_data_MNB"
   ]
  },
  {
   "cell_type": "code",
   "execution_count": 238,
   "metadata": {},
   "outputs": [],
   "source": [
    "x_train, x_test, y_train, y_test = train_test_split(input_data_MNB, df_ready_for_sklearn['encoded_stars'], test_size=0.25, random_state=43)"
   ]
  },
  {
   "cell_type": "code",
   "execution_count": 239,
   "metadata": {},
   "outputs": [],
   "source": [
    "from sklearn.naive_bayes import MultinomialNB\n",
    "\n",
    "# instantiate the model (using the default parameters)\n",
    "mnb = MultinomialNB()\n",
    "\n",
    "# fit the model with data\n",
    "mnb.fit(x_train, y_train)\n",
    "\n",
    "# predict the response for new observations\n",
    "y_mnb = mnb.predict(x_test)"
   ]
  },
  {
   "cell_type": "code",
   "execution_count": 240,
   "metadata": {},
   "outputs": [
    {
     "name": "stdout",
     "output_type": "stream",
     "text": [
      "Accuracy score: 0.361800189779043\n"
     ]
    }
   ],
   "source": [
    "# Measure accuracy\n",
    "y_true = y_test\n",
    "mnb_accuracy = metrics.accuracy_score(y_true, y_neighbor)\n",
    "print(\"Accuracy score: {}\".format(mnb_accuracy))"
   ]
  },
  {
   "cell_type": "code",
   "execution_count": 241,
   "metadata": {},
   "outputs": [
    {
     "name": "stdout",
     "output_type": "stream",
     "text": [
      "Precision score: 0.3706823584286438\n"
     ]
    }
   ],
   "source": [
    "mnb_precision = metrics.precision_score(y_true, y_neighbor, average= \"weighted\")\n",
    "print(\"Precision score: {}\".format(mnb_precision))"
   ]
  },
  {
   "cell_type": "code",
   "execution_count": 242,
   "metadata": {},
   "outputs": [
    {
     "name": "stdout",
     "output_type": "stream",
     "text": [
      "Recall score: 0.361800189779043\n"
     ]
    }
   ],
   "source": [
    "mnb_recall = metrics.recall_score(y_true, y_neighbor, average= \"weighted\")\n",
    "print(\"Recall score: {}\".format(mnb_recall))"
   ]
  },
  {
   "cell_type": "code",
   "execution_count": 243,
   "metadata": {},
   "outputs": [
    {
     "name": "stdout",
     "output_type": "stream",
     "text": [
      "F1 score: 0.34913205204298503\n"
     ]
    }
   ],
   "source": [
    "mnb_f1 = metrics.f1_score(y_true, y_neighbor, average= \"weighted\")\n",
    "print(\"F1 score: {}\".format(mnb_f1))"
   ]
  },
  {
   "cell_type": "markdown",
   "metadata": {},
   "source": [
    "# Models Comparision"
   ]
  },
  {
   "cell_type": "markdown",
   "metadata": {},
   "source": [
    "## Regression"
   ]
  },
  {
   "cell_type": "code",
   "execution_count": 255,
   "metadata": {},
   "outputs": [
    {
     "data": {
      "image/png": "[encoded data removed]",
      "text/plain": [
       "<Figure size 432x288 with 1 Axes>"
      ]
     },
     "metadata": {
      "needs_background": "light"
     },
     "output_type": "display_data"
    }
   ],
   "source": [
    "labels = ('Tensorflow', 'Linear Regression')\n",
    "y_pos = np.arange(len(labels))\n",
    "metrics = [tf_rmse, linear_rmse]\n",
    "\n",
    "plt.bar(y_pos, metrics, align='center', alpha=0.5, width=0.5)\n",
    "plt.xticks(y_pos, labels)\n",
    "plt.ylabel('RMSE')\n",
    "plt.title('RMSE Comparision between Classification models')\n",
    "\n",
    "plt.show()"
   ]
  },
  {
   "cell_type": "markdown",
   "metadata": {},
   "source": [
    "## Classification"
   ]
  },
  {
   "cell_type": "code",
   "execution_count": 244,
   "metadata": {},
   "outputs": [
    {
     "data": {
      "image/png": "[encoded data removed]",
      "text/plain": [
       "<Figure size 432x288 with 1 Axes>"
      ]
     },
     "metadata": {
      "needs_background": "light"
     },
     "output_type": "display_data"
    }
   ],
   "source": [
    "labels = ('Tensorflow', 'SVM', 'Logistic Regression', 'KNN', 'MNB')\n",
    "y_pos = np.arange(len(labels))\n",
    "metrics = [tf_accuracy, svm_accuracy, logistic_accuracy, knn_accuracy, mnb_accuracy]\n",
    "\n",
    "plt.bar(y_pos, metrics, align='center', alpha=0.5)\n",
    "plt.xticks(y_pos, labels)\n",
    "plt.ylabel('Accuracy')\n",
    "plt.title('Accuracy Comparision between Classification models')\n",
    "\n",
    "plt.show()"
   ]
  },
  {
   "cell_type": "code",
   "execution_count": 250,
   "metadata": {},
   "outputs": [
    {
     "data": {
      "image/png": "[encoded data removed]",
      "text/plain": [
       "<Figure size 432x288 with 1 Axes>"
      ]
     },
     "metadata": {
      "needs_background": "light"
     },
     "output_type": "display_data"
    }
   ],
   "source": [
    "labels = ('Tensorflow', 'SVM', 'Logistic Regression', 'KNN', 'MNB')\n",
    "y_pos = np.arange(len(labels))\n",
    "metrics = [tf_f1, svm_f1, logistic_f1, knn_f1, mnb_f1]\n",
    "\n",
    "plt.bar(y_pos, metrics, align='center', alpha=0.5)\n",
    "plt.xticks(y_pos, labels)\n",
    "plt.ylabel('F1')\n",
    "plt.title('F1 Comparision between Classification models')\n",
    "\n",
    "plt.show()"
   ]
  },
  {
   "cell_type": "code",
   "execution_count": null,
   "metadata": {},
   "outputs": [],
   "source": []
  }
 ],
 "metadata": {
  "kernelspec": {
   "display_name": "TensorFlow-GPU",
   "language": "python",
   "name": "tf-gpu"
  },
  "language_info": {
   "codemirror_mode": {
    "name": "ipython",
    "version": 3
   },
   "file_extension": ".py",
   "mimetype": "text/x-python",
   "name": "python",
   "nbconvert_exporter": "python",
   "pygments_lexer": "ipython3",
   "version": "3.6.8"
  }
 },
 "nbformat": 4,
 "nbformat_minor": 2
}
